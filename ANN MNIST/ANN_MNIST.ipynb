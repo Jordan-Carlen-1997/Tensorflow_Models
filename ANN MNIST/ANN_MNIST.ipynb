{
  "nbformat": 4,
  "nbformat_minor": 0,
  "metadata": {
    "colab": {
      "name": "ANN MNIST.ipynb",
      "provenance": [],
      "collapsed_sections": []
    },
    "kernelspec": {
      "name": "python3",
      "display_name": "Python 3"
    },
    "language_info": {
      "name": "python"
    }
  },
  "cells": [
    {
      "cell_type": "markdown",
      "source": [
        "## Load Libraries and Data"
      ],
      "metadata": {
        "id": "1FfYSYf61id2"
      }
    },
    {
      "cell_type": "code",
      "source": [
        "import pandas as pd\n",
        "import numpy as np \n",
        "import matplotlib.pyplot as plt\n",
        "import tensorflow as tf"
      ],
      "metadata": {
        "id": "hSmk_ZRVu40X"
      },
      "execution_count": 1,
      "outputs": []
    },
    {
      "cell_type": "code",
      "source": [
        "(x_train, y_train), (x_test, y_test) = tf.keras.datasets.mnist.load_data()"
      ],
      "metadata": {
        "id": "XkkT04CLu42n",
        "colab": {
          "base_uri": "https://localhost:8080/"
        },
        "outputId": "2c756b08-905d-4dde-beed-525ec3236a07"
      },
      "execution_count": 2,
      "outputs": [
        {
          "output_type": "stream",
          "name": "stdout",
          "text": [
            "Downloading data from https://storage.googleapis.com/tensorflow/tf-keras-datasets/mnist.npz\n",
            "11493376/11490434 [==============================] - 0s 0us/step\n",
            "11501568/11490434 [==============================] - 0s 0us/step\n"
          ]
        }
      ]
    },
    {
      "cell_type": "code",
      "source": [
        "print(x_train.shape) \n",
        "print(y_train.shape) \n",
        "print(x_test.shape) \n",
        "print(y_test.shape)"
      ],
      "metadata": {
        "colab": {
          "base_uri": "https://localhost:8080/"
        },
        "id": "UADfHArnu44o",
        "outputId": "5b59ff7c-a4a9-42f4-ba7b-681e1d97930c"
      },
      "execution_count": 3,
      "outputs": [
        {
          "output_type": "stream",
          "name": "stdout",
          "text": [
            "(60000, 28, 28)\n",
            "(60000,)\n",
            "(10000, 28, 28)\n",
            "(10000,)\n"
          ]
        }
      ]
    },
    {
      "cell_type": "code",
      "source": [
        "x_train, x_test = x_train / 255.0, x_test / 255.0\n",
        "\n",
        "print(x_train.shape)"
      ],
      "metadata": {
        "colab": {
          "base_uri": "https://localhost:8080/"
        },
        "id": "DC3ypyMru46u",
        "outputId": "2b99f996-8dd5-4141-f3ee-181de7091b16"
      },
      "execution_count": 4,
      "outputs": [
        {
          "output_type": "stream",
          "name": "stdout",
          "text": [
            "(60000, 28, 28)\n"
          ]
        }
      ]
    },
    {
      "cell_type": "markdown",
      "source": [
        "## Instantiate, compile, and train the model."
      ],
      "metadata": {
        "id": "Q7f1iZaz1mms"
      }
    },
    {
      "cell_type": "code",
      "source": [
        "model = tf.keras.models.Sequential([\n",
        "        tf.keras.layers.Flatten(input_shape=(28,28)), #is input_shape, not shape -- check documentation\n",
        "        tf.keras.layers.Dense(128, activation=\"relu\"),\n",
        "        tf.keras.layers.Dropout(0.2),\n",
        "        tf.keras.layers.Dense(10, activation=\"softmax\")\n",
        "])"
      ],
      "metadata": {
        "id": "axspMWIdu48s"
      },
      "execution_count": 5,
      "outputs": []
    },
    {
      "cell_type": "code",
      "source": [
        "model.compile(optimizer=\"adam\", loss=\"sparse_categorical_crossentropy\", metrics=['accuracy'])"
      ],
      "metadata": {
        "id": "3gyrQ_lru4-9"
      },
      "execution_count": 6,
      "outputs": []
    },
    {
      "cell_type": "code",
      "source": [
        "r = model.fit(x_train, y_train, validation_data=(x_test, y_test), epochs=10)"
      ],
      "metadata": {
        "colab": {
          "base_uri": "https://localhost:8080/"
        },
        "id": "5RqO73JCu5BA",
        "outputId": "105896a3-6b5b-4bdb-e4a7-5fdefdcc1312"
      },
      "execution_count": 7,
      "outputs": [
        {
          "output_type": "stream",
          "name": "stdout",
          "text": [
            "Epoch 1/10\n",
            "1875/1875 [==============================] - 12s 6ms/step - loss: 0.2922 - accuracy: 0.9147 - val_loss: 0.1414 - val_accuracy: 0.9576\n",
            "Epoch 2/10\n",
            "1875/1875 [==============================] - 7s 4ms/step - loss: 0.1434 - accuracy: 0.9573 - val_loss: 0.0988 - val_accuracy: 0.9704\n",
            "Epoch 3/10\n",
            "1875/1875 [==============================] - 5s 3ms/step - loss: 0.1064 - accuracy: 0.9680 - val_loss: 0.0910 - val_accuracy: 0.9708\n",
            "Epoch 4/10\n",
            "1875/1875 [==============================] - 5s 3ms/step - loss: 0.0871 - accuracy: 0.9729 - val_loss: 0.0822 - val_accuracy: 0.9748\n",
            "Epoch 5/10\n",
            "1875/1875 [==============================] - 5s 3ms/step - loss: 0.0744 - accuracy: 0.9761 - val_loss: 0.0827 - val_accuracy: 0.9755\n",
            "Epoch 6/10\n",
            "1875/1875 [==============================] - 5s 3ms/step - loss: 0.0662 - accuracy: 0.9789 - val_loss: 0.0757 - val_accuracy: 0.9784\n",
            "Epoch 7/10\n",
            "1875/1875 [==============================] - 5s 3ms/step - loss: 0.0589 - accuracy: 0.9811 - val_loss: 0.0728 - val_accuracy: 0.9783\n",
            "Epoch 8/10\n",
            "1875/1875 [==============================] - 6s 3ms/step - loss: 0.0524 - accuracy: 0.9832 - val_loss: 0.0708 - val_accuracy: 0.9786\n",
            "Epoch 9/10\n",
            "1875/1875 [==============================] - 6s 3ms/step - loss: 0.0490 - accuracy: 0.9843 - val_loss: 0.0729 - val_accuracy: 0.9794\n",
            "Epoch 10/10\n",
            "1875/1875 [==============================] - 5s 3ms/step - loss: 0.0471 - accuracy: 0.9840 - val_loss: 0.0750 - val_accuracy: 0.9791\n"
          ]
        }
      ]
    },
    {
      "cell_type": "code",
      "source": [
        "plt.plot(r.history['loss'],label='loss')\n",
        "plt.plot(r.history['val_loss'],label='val_loss')\n",
        "plt.legend()\n",
        "plt.show();"
      ],
      "metadata": {
        "colab": {
          "base_uri": "https://localhost:8080/",
          "height": 266
        },
        "id": "e3rA-RD-u5FN",
        "outputId": "c5b6fede-fcc4-4432-e722-48861a4b753e"
      },
      "execution_count": 8,
      "outputs": [
        {
          "output_type": "display_data",
          "data": {
            "image/png": "[encoded data removed]",
            "text/plain": [
              "<Figure size 432x288 with 1 Axes>"
            ]
          },
          "metadata": {
            "needs_background": "light"
          }
        }
      ]
    },
    {
      "cell_type": "code",
      "source": [
        "plt.plot(r.history['accuracy'],label='accuracy')\n",
        "plt.plot(r.history['val_accuracy'],label='val_accuracy')\n",
        "plt.legend()\n",
        "plt.show();"
      ],
      "metadata": {
        "id": "DiNX_s68u5HW",
        "colab": {
          "base_uri": "https://localhost:8080/",
          "height": 265
        },
        "outputId": "2b36818c-04e1-43fa-9549-5b11fd35e156"
      },
      "execution_count": 9,
      "outputs": [
        {
          "output_type": "display_data",
          "data": {
            "image/png": "[encoded data removed]",
            "text/plain": [
              "<Figure size 432x288 with 1 Axes>"
            ]
          },
          "metadata": {
            "needs_background": "light"
          }
        }
      ]
    },
    {
      "cell_type": "markdown",
      "source": [
        "## Making Predictions"
      ],
      "metadata": {
        "id": "vDML27PH1t1F"
      }
    },
    {
      "cell_type": "code",
      "source": [
        "print(model.evaluate(x_test,y_test))"
      ],
      "metadata": {
        "colab": {
          "base_uri": "https://localhost:8080/"
        },
        "id": "dy5Fjz5gu5JY",
        "outputId": "5fdf7643-5371-4d05-9235-16fe49141391"
      },
      "execution_count": 10,
      "outputs": [
        {
          "output_type": "stream",
          "name": "stdout",
          "text": [
            "313/313 [==============================] - 1s 2ms/step - loss: 0.0750 - accuracy: 0.9791\n",
            "[0.07495605945587158, 0.9790999889373779]\n"
          ]
        }
      ]
    },
    {
      "cell_type": "code",
      "source": [
        "from sklearn.metrics import confusion_matrix\n",
        "import numpy as np\n",
        "import itertools\n",
        "\n",
        "def plot_confusion_matrix(cm, classes,\n",
        "                          normalize=False,\n",
        "                          title='Confusion matrix',\n",
        "                          cmap=plt.cm.Blues):\n",
        "  \"\"\"\n",
        "  This function prints and plots the confusion matrix.\n",
        "  Normalization can be applied by setting `normalize=True`.\n",
        "  \"\"\"\n",
        "  if normalize:\n",
        "      cm = cm.astype('float') / cm.sum(axis=1)[:, np.newaxis]\n",
        "      print(\"Normalized confusion matrix\")\n",
        "  else:\n",
        "      print('Confusion matrix, without normalization')\n",
        "\n",
        "  print(cm)\n",
        "\n",
        "  plt.imshow(cm, interpolation='nearest', cmap=cmap)\n",
        "  plt.title(title)\n",
        "  plt.colorbar()\n",
        "  tick_marks = np.arange(len(classes))\n",
        "  plt.xticks(tick_marks, classes, rotation=45)\n",
        "  plt.yticks(tick_marks, classes)\n",
        "\n",
        "  fmt = '.2f' if normalize else 'd'\n",
        "  thresh = cm.max() / 2.\n",
        "  for i, j in itertools.product(range(cm.shape[0]), range(cm.shape[1])):\n",
        "      plt.text(j, i, format(cm[i, j], fmt),\n",
        "               horizontalalignment=\"center\",\n",
        "               color=\"white\" if cm[i, j] > thresh else \"black\")\n",
        "\n",
        "  plt.tight_layout()\n",
        "  plt.ylabel('True label')\n",
        "  plt.xlabel('Predicted label')\n",
        "  plt.show()\n",
        "\n",
        "\n",
        "p_test = model.predict(x_test).argmax(axis=1)\n",
        "cm = confusion_matrix(y_test, p_test)\n",
        "plot_confusion_matrix(cm, list(range(10)))"
      ],
      "metadata": {
        "colab": {
          "base_uri": "https://localhost:8080/",
          "height": 502
        },
        "id": "JLf7wGJwu5Lt",
        "outputId": "362e308a-134d-4daf-aa8e-d372006488ab"
      },
      "execution_count": 11,
      "outputs": [
        {
          "output_type": "stream",
          "name": "stdout",
          "text": [
            "Confusion matrix, without normalization\n",
            "[[ 972    1    2    0    0    1    2    1    1    0]\n",
            " [   0 1121    5    1    1    0    2    2    3    0]\n",
            " [   2    0 1020    1    0    0    2    2    5    0]\n",
            " [   0    0    8  991    0    4    0    4    1    2]\n",
            " [   1    0    2    0  958    1    6    3    1   10]\n",
            " [   2    1    1   11    1  866    2    1    5    2]\n",
            " [   4    2    1    1    4    4  941    1    0    0]\n",
            " [   2    1   15    2    0    0    0 1002    0    6]\n",
            " [  10    0    7    3    4    4    1    4  938    3]\n",
            " [   2    4    0    5    5    3    0    7    1  982]]\n"
          ]
        },
        {
          "output_type": "display_data",
          "data": {
            "image/png": "[encoded data removed]",
            "text/plain": [
              "<Figure size 432x288 with 2 Axes>"
            ]
          },
          "metadata": {
            "needs_background": "light"
          }
        }
      ]
    },
    {
      "cell_type": "code",
      "source": [
        "# Show some misclassified examples\n",
        "misclassified_idx = np.where(p_test != y_test)[0]"
      ],
      "metadata": {
        "id": "pEMNBqX0u5Ny"
      },
      "execution_count": 12,
      "outputs": []
    },
    {
      "cell_type": "code",
      "source": [
        "print(misclassified_idx)"
      ],
      "metadata": {
        "colab": {
          "base_uri": "https://localhost:8080/"
        },
        "id": "-76rhoBBu5P0",
        "outputId": "db8e6fbf-3d7f-4e58-84e2-3823ce27e81f"
      },
      "execution_count": 13,
      "outputs": [
        {
          "output_type": "stream",
          "name": "stdout",
          "text": [
            "[ 115  121  151  247  259  266  321  340  381  445  495  582  619  684\n",
            "  691  720  810  844  846  947  951  956  965 1014 1039 1112 1128 1178\n",
            " 1226 1232 1242 1247 1260 1299 1319 1326 1393 1494 1522 1527 1530 1549\n",
            " 1553 1609 1681 1709 1717 1754 1790 1800 1878 1901 1941 1952 1955 1982\n",
            " 2004 2016 2018 2024 2035 2070 2093 2109 2118 2125 2130 2135 2182 2189\n",
            " 2224 2266 2272 2291 2293 2329 2369 2387 2414 2462 2597 2607 2648 2654\n",
            " 2771 2810 2836 2877 2896 2921 2939 2953 3005 3060 3062 3073 3117 3225\n",
            " 3503 3520 3549 3558 3559 3597 3662 3718 3727 3751 3776 3778 3780 3808\n",
            " 3853 3906 3941 4065 4075 4078 4140 4152 4176 4199 4201 4207 4224 4248\n",
            " 4271 4289 4294 4382 4443 4497 4536 4639 4731 4736 4761 4807 4814 4823\n",
            " 4860 4880 4956 5331 5457 5586 5642 5734 5749 5757 5887 5888 5926 5936\n",
            " 5937 5955 5973 5982 6011 6059 6166 6555 6558 6571 6574 6597 6625 6632\n",
            " 6641 6651 6783 6847 7216 7432 7434 7732 7800 7821 7849 7905 7921 8020\n",
            " 8091 8094 8246 8277 8311 8325 8408 8456 8527 9009 9015 9019 9024 9253\n",
            " 9280 9422 9587 9634 9669 9679 9729 9745 9768 9770 9839 9941 9982]\n"
          ]
        }
      ]
    },
    {
      "cell_type": "code",
      "source": [
        "i = np.random.choice(misclassified_idx)"
      ],
      "metadata": {
        "id": "5BKBfgOH9qtC"
      },
      "execution_count": 14,
      "outputs": []
    },
    {
      "cell_type": "code",
      "source": [
        "print(i)"
      ],
      "metadata": {
        "colab": {
          "base_uri": "https://localhost:8080/"
        },
        "id": "p-Cd23tC9qu9",
        "outputId": "f91dbb71-5110-4071-9856-b8eec558227a"
      },
      "execution_count": 15,
      "outputs": [
        {
          "output_type": "stream",
          "name": "stdout",
          "text": [
            "1014\n"
          ]
        }
      ]
    },
    {
      "cell_type": "code",
      "source": [
        "plt.imshow(x_test[i], cmap='gray')\n",
        "plt.title(\"True label: %s Predicted: %s\" % (y_test[i], p_test[i]));"
      ],
      "metadata": {
        "colab": {
          "base_uri": "https://localhost:8080/",
          "height": 281
        },
        "id": "prWbiZz29qzF",
        "outputId": "e8645f70-538c-432b-c36c-a7e1beeff460"
      },
      "execution_count": 16,
      "outputs": [
        {
          "output_type": "display_data",
          "data": {
            "image/png": "[encoded data removed]",
            "text/plain": [
              "<Figure size 432x288 with 1 Axes>"
            ]
          },
          "metadata": {
            "needs_background": "light"
          }
        }
      ]
    }
  ]
}