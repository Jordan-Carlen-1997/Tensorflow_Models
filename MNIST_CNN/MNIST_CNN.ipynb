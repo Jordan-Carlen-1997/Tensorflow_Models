{
  "nbformat": 4,
  "nbformat_minor": 0,
  "metadata": {
    "colab": {
      "name": "MNIST CNN.ipynb",
      "provenance": [],
      "collapsed_sections": []
    },
    "kernelspec": {
      "name": "python3",
      "display_name": "Python 3"
    },
    "language_info": {
      "name": "python"
    }
  },
  "cells": [
    {
      "cell_type": "markdown",
      "source": [
        "## Introduction"
      ],
      "metadata": {
        "id": "xx5YrZ6NoYwO"
      }
    },
    {
      "cell_type": "markdown",
      "source": [
        "This notebook is to be made as a test of your ability to create a Convolutional Neural Network for the Fashion MNIST dataset."
      ],
      "metadata": {
        "id": "eGQWf5HQpgrs"
      }
    },
    {
      "cell_type": "code",
      "source": [
        "#libraries\n",
        "import tensorflow as tf\n",
        "import pandas as pd\n",
        "import numpy as np\n",
        "import matplotlib.pyplot as plt\n",
        "from tensorflow.keras.layers import Conv2D, Input, Dense, Flatten, Dropout\n",
        "from tensorflow.keras.models import Sequential, Model"
      ],
      "metadata": {
        "id": "T96a0e6joWwS"
      },
      "execution_count": null,
      "outputs": []
    },
    {
      "cell_type": "code",
      "source": [
        "from tensorflow.keras.layers import Conv2D, Input, Dense, Flatten, Dropout\n",
        "from tensorflow.keras.models import Sequential, Model"
      ],
      "metadata": {
        "id": "zKDDLZ_xYnAv"
      },
      "execution_count": null,
      "outputs": []
    },
    {
      "cell_type": "code",
      "source": [
        ""
      ],
      "metadata": {
        "id": "z9e3nGdBY82K"
      },
      "execution_count": null,
      "outputs": []
    },
    {
      "cell_type": "markdown",
      "source": [
        "## Load, Analyze, and Format the Data"
      ],
      "metadata": {
        "id": "j3zB3QGvocjk"
      }
    },
    {
      "cell_type": "code",
      "source": [
        "#loaded data as per keras documentation\n",
        "(x_train, y_train), (x_test, y_test) = tf.keras.datasets.fashion_mnist.load_data()"
      ],
      "metadata": {
        "id": "fLPJKIcVoW0Z"
      },
      "execution_count": null,
      "outputs": []
    },
    {
      "cell_type": "code",
      "source": [
        "x_train, x_test = x_train / 255.0, x_test / 255.0 #divide images for reduced size"
      ],
      "metadata": {
        "id": "9wyzgwCuoW2p"
      },
      "execution_count": null,
      "outputs": []
    },
    {
      "cell_type": "code",
      "source": [
        "print(x_train.shape) #NumPy array of grayscale image data\n",
        "print(x_test.shape) #NumPy array of grayscale image data\n",
        "print(y_train.shape) #NumPy array of labels (integers in range 0-9)\n",
        "print(y_test.shape) #NumPy array of labels (integers in range 0-9) "
      ],
      "metadata": {
        "colab": {
          "base_uri": "https://localhost:8080/"
        },
        "id": "IjnzkanVZoex",
        "outputId": "185e4ec1-4590-4cfb-c60a-fa016af73f61"
      },
      "execution_count": null,
      "outputs": [
        {
          "output_type": "stream",
          "name": "stdout",
          "text": [
            "(60000, 28, 28)\n",
            "(10000, 28, 28)\n",
            "(60000,)\n",
            "(10000,)\n"
          ]
        }
      ]
    },
    {
      "cell_type": "code",
      "source": [
        "#expand dimensions for us to have H x W x C\n",
        "x_train = np.expand_dims(x_train,-1)\n",
        "x_test = np.expand_dims(x_test,-1)\n",
        "print(x_train.shape)"
      ],
      "metadata": {
        "id": "Ag3T4AdozbLC",
        "colab": {
          "base_uri": "https://localhost:8080/"
        },
        "outputId": "f2d4c132-7f90-4c6e-ee2f-d6ed8463aa24"
      },
      "execution_count": null,
      "outputs": [
        {
          "output_type": "stream",
          "name": "stdout",
          "text": [
            "(60000, 28, 28, 1)\n"
          ]
        }
      ]
    },
    {
      "cell_type": "code",
      "source": [
        "#get classes\n",
        "K = len(set(y_train))\n",
        "print(K)"
      ],
      "metadata": {
        "id": "1cJ6On6azbND",
        "colab": {
          "base_uri": "https://localhost:8080/"
        },
        "outputId": "f2de1d9d-3616-4a35-a2df-fee16d07c680"
      },
      "execution_count": null,
      "outputs": [
        {
          "output_type": "stream",
          "name": "stdout",
          "text": [
            "10\n"
          ]
        }
      ]
    },
    {
      "cell_type": "code",
      "source": [
        ""
      ],
      "metadata": {
        "id": "tOHZ53RToW4q"
      },
      "execution_count": null,
      "outputs": []
    },
    {
      "cell_type": "markdown",
      "source": [
        "## Instantiate, Compile, and Fit the Model"
      ],
      "metadata": {
        "id": "jMsJk6drofHc"
      }
    },
    {
      "cell_type": "code",
      "source": [
        "#build the model\n",
        "i = Input(shape=(x_train[0].shape))\n",
        "x = Conv2D(32, (3,3), strides=2, padding='same', activation='relu')(i)\n",
        "x = Conv2D(64, (3,3), strides=2, padding='same', activation='relu')(x)\n",
        "x = Conv2D(128, (3,3), strides=2, padding='same', activation='relu')(x)\n",
        "x = Flatten()(x) \n",
        "x = Dropout(0.2)(x)\n",
        "x = Dense(512, activation='relu')(x)\n",
        "x = Dropout(0.2)(x)\n",
        "x = Dense(K, activation='softmax')(x)\n",
        "\n",
        "model = Model(i, x)"
      ],
      "metadata": {
        "id": "CS5WRfhAoW62"
      },
      "execution_count": null,
      "outputs": []
    },
    {
      "cell_type": "code",
      "source": [
        "#compile the model\n",
        "model.compile(optimizer='adam', loss='sparse_categorical_crossentropy', metrics=['accuracy'])"
      ],
      "metadata": {
        "id": "NnOey9BMoW8_"
      },
      "execution_count": null,
      "outputs": []
    },
    {
      "cell_type": "code",
      "source": [
        "#train and fit the model\n",
        "r = model.fit(x_train, y_train, epochs=10, validation_data=(x_test, y_test))"
      ],
      "metadata": {
        "id": "qG84P14poW_L",
        "colab": {
          "base_uri": "https://localhost:8080/"
        },
        "outputId": "0bb0d001-70b0-48ca-f01e-6cb948da373e"
      },
      "execution_count": null,
      "outputs": [
        {
          "output_type": "stream",
          "name": "stdout",
          "text": [
            "Epoch 1/10\n",
            "1875/1875 [==============================] - 40s 21ms/step - loss: 0.4415 - accuracy: 0.8376 - val_loss: 0.3229 - val_accuracy: 0.8792\n",
            "Epoch 2/10\n",
            "1875/1875 [==============================] - 39s 21ms/step - loss: 0.2972 - accuracy: 0.8896 - val_loss: 0.2898 - val_accuracy: 0.8935\n",
            "Epoch 3/10\n",
            "1875/1875 [==============================] - 39s 21ms/step - loss: 0.2492 - accuracy: 0.9060 - val_loss: 0.2729 - val_accuracy: 0.8998\n",
            "Epoch 4/10\n",
            "1875/1875 [==============================] - 39s 21ms/step - loss: 0.2180 - accuracy: 0.9186 - val_loss: 0.2729 - val_accuracy: 0.9003\n",
            "Epoch 5/10\n",
            "1875/1875 [==============================] - 39s 21ms/step - loss: 0.1911 - accuracy: 0.9282 - val_loss: 0.2484 - val_accuracy: 0.9127\n",
            "Epoch 6/10\n",
            "1875/1875 [==============================] - 39s 21ms/step - loss: 0.1694 - accuracy: 0.9356 - val_loss: 0.2483 - val_accuracy: 0.9142\n",
            "Epoch 7/10\n",
            "1875/1875 [==============================] - 40s 21ms/step - loss: 0.1473 - accuracy: 0.9442 - val_loss: 0.2633 - val_accuracy: 0.9150\n",
            "Epoch 8/10\n",
            "1875/1875 [==============================] - 40s 21ms/step - loss: 0.1323 - accuracy: 0.9495 - val_loss: 0.2616 - val_accuracy: 0.9136\n",
            "Epoch 9/10\n",
            "1875/1875 [==============================] - 40s 21ms/step - loss: 0.1180 - accuracy: 0.9553 - val_loss: 0.2669 - val_accuracy: 0.9155\n",
            "Epoch 10/10\n",
            "1875/1875 [==============================] - 40s 21ms/step - loss: 0.1040 - accuracy: 0.9612 - val_loss: 0.3156 - val_accuracy: 0.9127\n"
          ]
        }
      ]
    },
    {
      "cell_type": "code",
      "source": [
        ""
      ],
      "metadata": {
        "id": "hj1hzVemzcib"
      },
      "execution_count": null,
      "outputs": []
    },
    {
      "cell_type": "markdown",
      "source": [
        "## Model Results"
      ],
      "metadata": {
        "id": "5x0p1aj6o9Pd"
      }
    },
    {
      "cell_type": "code",
      "source": [
        "#loss per iteration\n",
        "plt.plot(r.history['loss'], label='Loss')\n",
        "plt.plot(r.history['val_loss'], label='Val_Loss')\n",
        "plt.legend()\n",
        "plt.show();"
      ],
      "metadata": {
        "colab": {
          "base_uri": "https://localhost:8080/",
          "height": 265
        },
        "id": "Wy4QucykehK5",
        "outputId": "5f7de6f8-18ae-4c89-d86c-2ccf95d43629"
      },
      "execution_count": null,
      "outputs": [
        {
          "output_type": "display_data",
          "data": {
            "image/png": "[encoded data removed]",
            "text/plain": [
              "<Figure size 432x288 with 1 Axes>"
            ]
          },
          "metadata": {
            "needs_background": "light"
          }
        }
      ]
    },
    {
      "cell_type": "code",
      "source": [
        "#accuracy\n",
        "plt.plot(r.history['accuracy'], label='Accuracy')\n",
        "plt.plot(r.history['val_accuracy'], label='Val_Accuracy')\n",
        "plt.legend()\n",
        "plt.show();"
      ],
      "metadata": {
        "id": "2eh2IfHpoXBR",
        "colab": {
          "base_uri": "https://localhost:8080/",
          "height": 265
        },
        "outputId": "e7cedead-eeb8-4bf5-8139-2b4aaa9bca21"
      },
      "execution_count": null,
      "outputs": [
        {
          "output_type": "display_data",
          "data": {
            "image/png": "[encoded data removed]",
            "text/plain": [
              "<Figure size 432x288 with 1 Axes>"
            ]
          },
          "metadata": {
            "needs_background": "light"
          }
        }
      ]
    },
    {
      "cell_type": "code",
      "source": [
        ""
      ],
      "metadata": {
        "id": "eif1ajmBoXDX"
      },
      "execution_count": null,
      "outputs": []
    },
    {
      "cell_type": "code",
      "source": [
        "# Plot confusion matrix\n",
        "from sklearn.metrics import confusion_matrix\n",
        "import itertools\n",
        "\n",
        "def plot_confusion_matrix(cm, classes,\n",
        "                          normalize=False,\n",
        "                          title='Confusion matrix',\n",
        "                          cmap=plt.cm.Blues):\n",
        "  \"\"\"\n",
        "  This function prints and plots the confusion matrix.\n",
        "  Normalization can be applied by setting `normalize=True`.\n",
        "  \"\"\"\n",
        "  if normalize:\n",
        "      cm = cm.astype('float') / cm.sum(axis=1)[:, np.newaxis]\n",
        "      print(\"Normalized confusion matrix\")\n",
        "  else:\n",
        "      print('Confusion matrix, without normalization')\n",
        "\n",
        "  print(cm)\n",
        "\n",
        "  plt.imshow(cm, interpolation='nearest', cmap=cmap)\n",
        "  plt.title(title)\n",
        "  plt.colorbar()\n",
        "  tick_marks = np.arange(len(classes))\n",
        "  plt.xticks(tick_marks, classes, rotation=45)\n",
        "  plt.yticks(tick_marks, classes)\n",
        "\n",
        "  fmt = '.2f' if normalize else 'd'\n",
        "  thresh = cm.max() / 2.\n",
        "  for i, j in itertools.product(range(cm.shape[0]), range(cm.shape[1])):\n",
        "      plt.text(j, i, format(cm[i, j], fmt),\n",
        "               horizontalalignment=\"center\",\n",
        "               color=\"white\" if cm[i, j] > thresh else \"black\")\n",
        "\n",
        "  plt.tight_layout()\n",
        "  plt.ylabel('True label')\n",
        "  plt.xlabel('Predicted label')\n",
        "  plt.show()\n",
        "\n",
        "\n",
        "p_test = model.predict(x_test).argmax(axis=1)\n",
        "cm = confusion_matrix(y_test, p_test)\n",
        "plot_confusion_matrix(cm, list(range(10)))\n"
      ],
      "metadata": {
        "id": "OEIi85jzqhbN",
        "colab": {
          "base_uri": "https://localhost:8080/",
          "height": 502
        },
        "outputId": "1f235b9c-fe2e-405e-fde0-800064f572ca"
      },
      "execution_count": null,
      "outputs": [
        {
          "output_type": "stream",
          "name": "stdout",
          "text": [
            "Confusion matrix, without normalization\n",
            "[[889   0  15  13   2   1  75   0   5   0]\n",
            " [  1 976   1  13   5   0   3   0   1   0]\n",
            " [ 21   0 866   9  56   1  47   0   0   0]\n",
            " [ 12   0   5 929  34   0  18   0   2   0]\n",
            " [  2   0  67  19 872   0  39   0   1   0]\n",
            " [  1   0   0   0   0 987   0   9   0   3]\n",
            " [114   0  48  28  93   0 710   0   7   0]\n",
            " [  0   0   0   0   0  13   0 970   0  17]\n",
            " [  4   1   0   2   2   3  10   3 975   0]\n",
            " [  1   0   0   0   0   9   0  37   0 953]]\n"
          ]
        },
        {
          "output_type": "display_data",
          "data": {
            "image/png": "[encoded data removed]",
            "text/plain": [
              "<Figure size 432x288 with 2 Axes>"
            ]
          },
          "metadata": {
            "needs_background": "light"
          }
        }
      ]
    },
    {
      "cell_type": "code",
      "source": [
        "labels = ['T-shirt/top',\n",
        "'Trouser',\n",
        "'Pullover',\n",
        "'Dress',\n",
        "'Coat',\n",
        "'Sandal',\n",
        "'Shirt',\n",
        "'Sneaker',\n",
        "'Bag',\n",
        "'Ankle boot']"
      ],
      "metadata": {
        "id": "6Jg4ULsrgS_O"
      },
      "execution_count": null,
      "outputs": []
    },
    {
      "cell_type": "code",
      "source": [
        "miscl = np.where(p_test != y_test)[0]\n",
        "i = np.random.choice(miscl)\n",
        "plt.imshow(x_test[i].reshape(28,28), cmap='gray')\n",
        "plt.title(\"True label: %s \\n Predicted: %s\" % (labels[y_test[i]], labels[p_test[i]]));\n",
        "plt.show();"
      ],
      "metadata": {
        "id": "lv1BXAWfzbzp",
        "colab": {
          "base_uri": "https://localhost:8080/",
          "height": 296
        },
        "outputId": "b4aec1fb-76dc-4493-9c3c-b049b38e6047"
      },
      "execution_count": null,
      "outputs": [
        {
          "output_type": "display_data",
          "data": {
            "image/png": "[encoded data removed]",
            "text/plain": [
              "<Figure size 432x288 with 1 Axes>"
            ]
          },
          "metadata": {
            "needs_background": "light"
          }
        }
      ]
    },
    {
      "cell_type": "code",
      "source": [
        ""
      ],
      "metadata": {
        "id": "J_FEvnnfijmP"
      },
      "execution_count": null,
      "outputs": []
    }
  ]
}