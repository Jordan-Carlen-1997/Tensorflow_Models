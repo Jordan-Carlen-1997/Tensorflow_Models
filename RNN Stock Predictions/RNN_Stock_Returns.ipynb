{
  "nbformat": 4,
  "nbformat_minor": 0,
  "metadata": {
    "colab": {
      "name": "RNN_Stock_Returns.ipynb",
      "provenance": [],
      "collapsed_sections": []
    },
    "kernelspec": {
      "name": "python3",
      "display_name": "Python 3"
    },
    "accelerator": "GPU"
  },
  "cells": [
    {
      "cell_type": "code",
      "metadata": {
        "id": "AJ1XDZAJNjNG"
      },
      "source": [
        "import tensorflow as tf\n",
        "from tensorflow.keras.layers import Input, LSTM, GRU, SimpleRNN, Dense, GlobalMaxPool1D\n",
        "from tensorflow.keras.models import Model\n",
        "from tensorflow.keras.optimizers import SGD, Adam\n",
        "import numpy as np\n",
        "import pandas as pd\n",
        "import matplotlib.pyplot as plt\n",
        "from sklearn.preprocessing import StandardScaler\n"
      ],
      "execution_count": null,
      "outputs": []
    },
    {
      "cell_type": "code",
      "metadata": {
        "colab": {
          "resources": {
            "http://localhost:8080/nbextensions/google.colab/files.js": {
              "data": "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",
              "ok": true,
              "headers": [
                [
                  "content-type",
                  "application/javascript"
                ]
              ],
              "status": 200,
              "status_text": ""
            }
          },
          "base_uri": "https://localhost:8080/",
          "height": 72
        },
        "id": "DY-1_MRRKWkE",
        "outputId": "462b5f67-c1a3-40d4-a69a-36f4ac418e37"
      },
      "source": [
        "#upload sbux.csv\n",
        "from google.colab import files\n",
        "sbux = files.upload()"
      ],
      "execution_count": 17,
      "outputs": [
        {
          "output_type": "display_data",
          "data": {
            "text/html": [
              "\n",
              "     <input type=\"file\" id=\"files-844de5b7-b5c7-4093-94b8-c2723ac4218f\" name=\"files[]\" multiple disabled\n",
              "        style=\"border:none\" />\n",
              "     <output id=\"result-844de5b7-b5c7-4093-94b8-c2723ac4218f\">\n",
              "      Upload widget is only available when the cell has been executed in the\n",
              "      current browser session. Please rerun this cell to enable.\n",
              "      </output>\n",
              "      <script src=\"/nbextensions/google.colab/files.js\"></script> "
            ],
            "text/plain": [
              "<IPython.core.display.HTML object>"
            ]
          },
          "metadata": {}
        },
        {
          "output_type": "stream",
          "name": "stdout",
          "text": [
            "Saving SBUX.csv to SBUX.csv\n"
          ]
        }
      ]
    },
    {
      "cell_type": "code",
      "metadata": {
        "id": "zyxTEelgKWmZ"
      },
      "source": [
        "df = pd.read_csv('SBUX.csv')"
      ],
      "execution_count": 18,
      "outputs": []
    },
    {
      "cell_type": "code",
      "metadata": {
        "id": "vWSPFdncODH9",
        "colab": {
          "base_uri": "https://localhost:8080/",
          "height": 204
        },
        "outputId": "d560b9c9-67af-4f95-bd95-86bf6f2466a6"
      },
      "source": [
        "df.head()"
      ],
      "execution_count": 19,
      "outputs": [
        {
          "output_type": "execute_result",
          "data": {
            "text/html": [
              "<div>\n",
              "<style scoped>\n",
              "    .dataframe tbody tr th:only-of-type {\n",
              "        vertical-align: middle;\n",
              "    }\n",
              "\n",
              "    .dataframe tbody tr th {\n",
              "        vertical-align: top;\n",
              "    }\n",
              "\n",
              "    .dataframe thead th {\n",
              "        text-align: right;\n",
              "    }\n",
              "</style>\n",
              "<table border=\"1\" class=\"dataframe\">\n",
              "  <thead>\n",
              "    <tr style=\"text-align: right;\">\n",
              "      <th></th>\n",
              "      <th>open</th>\n",
              "      <th>high</th>\n",
              "      <th>low</th>\n",
              "      <th>close</th>\n",
              "      <th>volume</th>\n",
              "      <th>Name</th>\n",
              "    </tr>\n",
              "  </thead>\n",
              "  <tbody>\n",
              "    <tr>\n",
              "      <th>0</th>\n",
              "      <td>27.920</td>\n",
              "      <td>28.325</td>\n",
              "      <td>27.920</td>\n",
              "      <td>28.185</td>\n",
              "      <td>7146296</td>\n",
              "      <td>SBUX</td>\n",
              "    </tr>\n",
              "    <tr>\n",
              "      <th>1</th>\n",
              "      <td>28.260</td>\n",
              "      <td>28.260</td>\n",
              "      <td>27.930</td>\n",
              "      <td>28.070</td>\n",
              "      <td>5457354</td>\n",
              "      <td>SBUX</td>\n",
              "    </tr>\n",
              "    <tr>\n",
              "      <th>2</th>\n",
              "      <td>28.000</td>\n",
              "      <td>28.275</td>\n",
              "      <td>27.975</td>\n",
              "      <td>28.130</td>\n",
              "      <td>8665592</td>\n",
              "      <td>SBUX</td>\n",
              "    </tr>\n",
              "    <tr>\n",
              "      <th>3</th>\n",
              "      <td>28.230</td>\n",
              "      <td>28.230</td>\n",
              "      <td>27.750</td>\n",
              "      <td>27.915</td>\n",
              "      <td>7022056</td>\n",
              "      <td>SBUX</td>\n",
              "    </tr>\n",
              "    <tr>\n",
              "      <th>4</th>\n",
              "      <td>27.765</td>\n",
              "      <td>27.905</td>\n",
              "      <td>27.675</td>\n",
              "      <td>27.775</td>\n",
              "      <td>8899188</td>\n",
              "      <td>SBUX</td>\n",
              "    </tr>\n",
              "  </tbody>\n",
              "</table>\n",
              "</div>"
            ],
            "text/plain": [
              "     open    high     low   close   volume  Name\n",
              "0  27.920  28.325  27.920  28.185  7146296  SBUX\n",
              "1  28.260  28.260  27.930  28.070  5457354  SBUX\n",
              "2  28.000  28.275  27.975  28.130  8665592  SBUX\n",
              "3  28.230  28.230  27.750  27.915  7022056  SBUX\n",
              "4  27.765  27.905  27.675  27.775  8899188  SBUX"
            ]
          },
          "metadata": {},
          "execution_count": 19
        }
      ]
    },
    {
      "cell_type": "code",
      "metadata": {
        "id": "NLmweO2o-wgS",
        "colab": {
          "base_uri": "https://localhost:8080/",
          "height": 204
        },
        "outputId": "555a9203-088f-4785-b758-51e3f7959fa7"
      },
      "source": [
        "df.tail()"
      ],
      "execution_count": 20,
      "outputs": [
        {
          "output_type": "execute_result",
          "data": {
            "text/html": [
              "<div>\n",
              "<style scoped>\n",
              "    .dataframe tbody tr th:only-of-type {\n",
              "        vertical-align: middle;\n",
              "    }\n",
              "\n",
              "    .dataframe tbody tr th {\n",
              "        vertical-align: top;\n",
              "    }\n",
              "\n",
              "    .dataframe thead th {\n",
              "        text-align: right;\n",
              "    }\n",
              "</style>\n",
              "<table border=\"1\" class=\"dataframe\">\n",
              "  <thead>\n",
              "    <tr style=\"text-align: right;\">\n",
              "      <th></th>\n",
              "      <th>open</th>\n",
              "      <th>high</th>\n",
              "      <th>low</th>\n",
              "      <th>close</th>\n",
              "      <th>volume</th>\n",
              "      <th>Name</th>\n",
              "    </tr>\n",
              "  </thead>\n",
              "  <tbody>\n",
              "    <tr>\n",
              "      <th>1254</th>\n",
              "      <td>56.280</td>\n",
              "      <td>56.42</td>\n",
              "      <td>55.89</td>\n",
              "      <td>56.00</td>\n",
              "      <td>14690146</td>\n",
              "      <td>SBUX</td>\n",
              "    </tr>\n",
              "    <tr>\n",
              "      <th>1255</th>\n",
              "      <td>55.900</td>\n",
              "      <td>56.32</td>\n",
              "      <td>55.70</td>\n",
              "      <td>55.77</td>\n",
              "      <td>15358909</td>\n",
              "      <td>SBUX</td>\n",
              "    </tr>\n",
              "    <tr>\n",
              "      <th>1256</th>\n",
              "      <td>55.530</td>\n",
              "      <td>56.26</td>\n",
              "      <td>54.57</td>\n",
              "      <td>54.69</td>\n",
              "      <td>16059955</td>\n",
              "      <td>SBUX</td>\n",
              "    </tr>\n",
              "    <tr>\n",
              "      <th>1257</th>\n",
              "      <td>53.685</td>\n",
              "      <td>56.06</td>\n",
              "      <td>53.56</td>\n",
              "      <td>55.61</td>\n",
              "      <td>17415065</td>\n",
              "      <td>SBUX</td>\n",
              "    </tr>\n",
              "    <tr>\n",
              "      <th>1258</th>\n",
              "      <td>55.080</td>\n",
              "      <td>55.43</td>\n",
              "      <td>54.44</td>\n",
              "      <td>54.46</td>\n",
              "      <td>13927022</td>\n",
              "      <td>SBUX</td>\n",
              "    </tr>\n",
              "  </tbody>\n",
              "</table>\n",
              "</div>"
            ],
            "text/plain": [
              "        open   high    low  close    volume  Name\n",
              "1254  56.280  56.42  55.89  56.00  14690146  SBUX\n",
              "1255  55.900  56.32  55.70  55.77  15358909  SBUX\n",
              "1256  55.530  56.26  54.57  54.69  16059955  SBUX\n",
              "1257  53.685  56.06  53.56  55.61  17415065  SBUX\n",
              "1258  55.080  55.43  54.44  54.46  13927022  SBUX"
            ]
          },
          "metadata": {},
          "execution_count": 20
        }
      ]
    },
    {
      "cell_type": "code",
      "metadata": {
        "id": "qczc-TUNO0th"
      },
      "source": [
        "series = df['close'].values.reshape(-1, 1)"
      ],
      "execution_count": 21,
      "outputs": []
    },
    {
      "cell_type": "code",
      "metadata": {
        "id": "X6lJwsOgPVaB"
      },
      "source": [
        "scaler = StandardScaler()\n",
        "scaler.fit(series[:len(series) // 2])\n",
        "series = scaler.transform(series).flatten()"
      ],
      "execution_count": 22,
      "outputs": []
    },
    {
      "cell_type": "code",
      "metadata": {
        "id": "3j6Jk2pkPTjE",
        "colab": {
          "base_uri": "https://localhost:8080/"
        },
        "outputId": "91a7c393-58d8-4bcf-8be5-bb90a5afdb70"
      },
      "source": [
        "T = 10\n",
        "D = 1\n",
        "X = []\n",
        "Y = []\n",
        "for t in range(len(series) - T):\n",
        "  x = series[t:t+T]\n",
        "  X.append(x)\n",
        "  y = series[t+T]\n",
        "  Y.append(y)\n",
        "\n",
        "X = np.array(X).reshape(-1, T, 1) # Now the data should be N x T x D\n",
        "Y = np.array(Y)\n",
        "N = len(X)\n",
        "print(\"X.shape\", X.shape, \"Y.shape\", Y.shape)"
      ],
      "execution_count": 23,
      "outputs": [
        {
          "output_type": "stream",
          "name": "stdout",
          "text": [
            "X.shape (1249, 10, 1) Y.shape (1249,)\n"
          ]
        }
      ]
    },
    {
      "cell_type": "code",
      "metadata": {
        "id": "R5uMLXonPEnZ",
        "colab": {
          "base_uri": "https://localhost:8080/"
        },
        "outputId": "0721a419-38ed-4604-ced2-841b934f799f"
      },
      "source": [
        "i = Input(shape=(T, 1))\n",
        "x = LSTM(5)(i)\n",
        "x = Dense(1)(x)\n",
        "model = Model(i, x)\n",
        "model.compile(\n",
        "  loss='mse',\n",
        "  optimizer=Adam(lr=0.1),\n",
        ")\n",
        "\n",
        "# train the RNN\n",
        "r = model.fit(\n",
        "  X[:-N//2], Y[:-N//2],\n",
        "  epochs=80,\n",
        "  validation_data=(X[-N//2:], Y[-N//2:]),\n",
        ")"
      ],
      "execution_count": 24,
      "outputs": [
        {
          "output_type": "stream",
          "name": "stderr",
          "text": [
            "/usr/local/lib/python3.7/dist-packages/keras/optimizer_v2/adam.py:105: UserWarning: The `lr` argument is deprecated, use `learning_rate` instead.\n",
            "  super(Adam, self).__init__(name, **kwargs)\n"
          ]
        },
        {
          "output_type": "stream",
          "name": "stdout",
          "text": [
            "Epoch 1/80\n",
            "20/20 [==============================] - 7s 38ms/step - loss: 0.1559 - val_loss: 0.1663\n",
            "Epoch 2/80\n",
            "20/20 [==============================] - 0s 9ms/step - loss: 0.0138 - val_loss: 0.0364\n",
            "Epoch 3/80\n",
            "20/20 [==============================] - 0s 9ms/step - loss: 0.0073 - val_loss: 0.0492\n",
            "Epoch 4/80\n",
            "20/20 [==============================] - 0s 10ms/step - loss: 0.0064 - val_loss: 0.0373\n",
            "Epoch 5/80\n",
            "20/20 [==============================] - 0s 10ms/step - loss: 0.0060 - val_loss: 0.0304\n",
            "Epoch 6/80\n",
            "20/20 [==============================] - 0s 14ms/step - loss: 0.0057 - val_loss: 0.0369\n",
            "Epoch 7/80\n",
            "20/20 [==============================] - 0s 10ms/step - loss: 0.0053 - val_loss: 0.0250\n",
            "Epoch 8/80\n",
            "20/20 [==============================] - 0s 10ms/step - loss: 0.0052 - val_loss: 0.0278\n",
            "Epoch 9/80\n",
            "20/20 [==============================] - 0s 9ms/step - loss: 0.0057 - val_loss: 0.0234\n",
            "Epoch 10/80\n",
            "20/20 [==============================] - 0s 10ms/step - loss: 0.0056 - val_loss: 0.0513\n",
            "Epoch 11/80\n",
            "20/20 [==============================] - 0s 10ms/step - loss: 0.0067 - val_loss: 0.0300\n",
            "Epoch 12/80\n",
            "20/20 [==============================] - 0s 9ms/step - loss: 0.0056 - val_loss: 0.0212\n",
            "Epoch 13/80\n",
            "20/20 [==============================] - 0s 10ms/step - loss: 0.0053 - val_loss: 0.0286\n",
            "Epoch 14/80\n",
            "20/20 [==============================] - 0s 9ms/step - loss: 0.0062 - val_loss: 0.0200\n",
            "Epoch 15/80\n",
            "20/20 [==============================] - 0s 10ms/step - loss: 0.0062 - val_loss: 0.0213\n",
            "Epoch 16/80\n",
            "20/20 [==============================] - 0s 10ms/step - loss: 0.0071 - val_loss: 0.0632\n",
            "Epoch 17/80\n",
            "20/20 [==============================] - 0s 8ms/step - loss: 0.0076 - val_loss: 0.0325\n",
            "Epoch 18/80\n",
            "20/20 [==============================] - 0s 9ms/step - loss: 0.0056 - val_loss: 0.0494\n",
            "Epoch 19/80\n",
            "20/20 [==============================] - 0s 9ms/step - loss: 0.0056 - val_loss: 0.0240\n",
            "Epoch 20/80\n",
            "20/20 [==============================] - 0s 9ms/step - loss: 0.0052 - val_loss: 0.0199\n",
            "Epoch 21/80\n",
            "20/20 [==============================] - 0s 10ms/step - loss: 0.0054 - val_loss: 0.0208\n",
            "Epoch 22/80\n",
            "20/20 [==============================] - 0s 9ms/step - loss: 0.0061 - val_loss: 0.0495\n",
            "Epoch 23/80\n",
            "20/20 [==============================] - 0s 9ms/step - loss: 0.0062 - val_loss: 0.0355\n",
            "Epoch 24/80\n",
            "20/20 [==============================] - 0s 9ms/step - loss: 0.0063 - val_loss: 0.0250\n",
            "Epoch 25/80\n",
            "20/20 [==============================] - 0s 9ms/step - loss: 0.0064 - val_loss: 0.0204\n",
            "Epoch 26/80\n",
            "20/20 [==============================] - 0s 10ms/step - loss: 0.0055 - val_loss: 0.0254\n",
            "Epoch 27/80\n",
            "20/20 [==============================] - 0s 9ms/step - loss: 0.0052 - val_loss: 0.0183\n",
            "Epoch 28/80\n",
            "20/20 [==============================] - 0s 9ms/step - loss: 0.0058 - val_loss: 0.0171\n",
            "Epoch 29/80\n",
            "20/20 [==============================] - 0s 9ms/step - loss: 0.0055 - val_loss: 0.0241\n",
            "Epoch 30/80\n",
            "20/20 [==============================] - 0s 9ms/step - loss: 0.0058 - val_loss: 0.0183\n",
            "Epoch 31/80\n",
            "20/20 [==============================] - 0s 10ms/step - loss: 0.0053 - val_loss: 0.0186\n",
            "Epoch 32/80\n",
            "20/20 [==============================] - 0s 10ms/step - loss: 0.0059 - val_loss: 0.0377\n",
            "Epoch 33/80\n",
            "20/20 [==============================] - 0s 10ms/step - loss: 0.0062 - val_loss: 0.0193\n",
            "Epoch 34/80\n",
            "20/20 [==============================] - 0s 10ms/step - loss: 0.0058 - val_loss: 0.0653\n",
            "Epoch 35/80\n",
            "20/20 [==============================] - 0s 9ms/step - loss: 0.0065 - val_loss: 0.0218\n",
            "Epoch 36/80\n",
            "20/20 [==============================] - 0s 9ms/step - loss: 0.0061 - val_loss: 0.0184\n",
            "Epoch 37/80\n",
            "20/20 [==============================] - 0s 9ms/step - loss: 0.0076 - val_loss: 0.0209\n",
            "Epoch 38/80\n",
            "20/20 [==============================] - 0s 10ms/step - loss: 0.0058 - val_loss: 0.0214\n",
            "Epoch 39/80\n",
            "20/20 [==============================] - 0s 9ms/step - loss: 0.0062 - val_loss: 0.0191\n",
            "Epoch 40/80\n",
            "20/20 [==============================] - 0s 9ms/step - loss: 0.0066 - val_loss: 0.0220\n",
            "Epoch 41/80\n",
            "20/20 [==============================] - 0s 9ms/step - loss: 0.0052 - val_loss: 0.0338\n",
            "Epoch 42/80\n",
            "20/20 [==============================] - 0s 10ms/step - loss: 0.0052 - val_loss: 0.0185\n",
            "Epoch 43/80\n",
            "20/20 [==============================] - 0s 9ms/step - loss: 0.0053 - val_loss: 0.0186\n",
            "Epoch 44/80\n",
            "20/20 [==============================] - 0s 9ms/step - loss: 0.0054 - val_loss: 0.0213\n",
            "Epoch 45/80\n",
            "20/20 [==============================] - 0s 10ms/step - loss: 0.0057 - val_loss: 0.0287\n",
            "Epoch 46/80\n",
            "20/20 [==============================] - 0s 9ms/step - loss: 0.0061 - val_loss: 0.0197\n",
            "Epoch 47/80\n",
            "20/20 [==============================] - 0s 10ms/step - loss: 0.0067 - val_loss: 0.0190\n",
            "Epoch 48/80\n",
            "20/20 [==============================] - 0s 9ms/step - loss: 0.0079 - val_loss: 0.0272\n",
            "Epoch 49/80\n",
            "20/20 [==============================] - 0s 10ms/step - loss: 0.0063 - val_loss: 0.0413\n",
            "Epoch 50/80\n",
            "20/20 [==============================] - 0s 10ms/step - loss: 0.0054 - val_loss: 0.0241\n",
            "Epoch 51/80\n",
            "20/20 [==============================] - 0s 10ms/step - loss: 0.0070 - val_loss: 0.0237\n",
            "Epoch 52/80\n",
            "20/20 [==============================] - 0s 11ms/step - loss: 0.0078 - val_loss: 0.0270\n",
            "Epoch 53/80\n",
            "20/20 [==============================] - 0s 9ms/step - loss: 0.0082 - val_loss: 0.0286\n",
            "Epoch 54/80\n",
            "20/20 [==============================] - 0s 9ms/step - loss: 0.0070 - val_loss: 0.0346\n",
            "Epoch 55/80\n",
            "20/20 [==============================] - 0s 10ms/step - loss: 0.0057 - val_loss: 0.0231\n",
            "Epoch 56/80\n",
            "20/20 [==============================] - 0s 9ms/step - loss: 0.0066 - val_loss: 0.0318\n",
            "Epoch 57/80\n",
            "20/20 [==============================] - 0s 10ms/step - loss: 0.0076 - val_loss: 0.0223\n",
            "Epoch 58/80\n",
            "20/20 [==============================] - 0s 10ms/step - loss: 0.0062 - val_loss: 0.0243\n",
            "Epoch 59/80\n",
            "20/20 [==============================] - 0s 9ms/step - loss: 0.0062 - val_loss: 0.0205\n",
            "Epoch 60/80\n",
            "20/20 [==============================] - 0s 10ms/step - loss: 0.0055 - val_loss: 0.0270\n",
            "Epoch 61/80\n",
            "20/20 [==============================] - 0s 10ms/step - loss: 0.0062 - val_loss: 0.0187\n",
            "Epoch 62/80\n",
            "20/20 [==============================] - 0s 10ms/step - loss: 0.0060 - val_loss: 0.0158\n",
            "Epoch 63/80\n",
            "20/20 [==============================] - 0s 9ms/step - loss: 0.0050 - val_loss: 0.0147\n",
            "Epoch 64/80\n",
            "20/20 [==============================] - 0s 10ms/step - loss: 0.0054 - val_loss: 0.0177\n",
            "Epoch 65/80\n",
            "20/20 [==============================] - 0s 9ms/step - loss: 0.0054 - val_loss: 0.0150\n",
            "Epoch 66/80\n",
            "20/20 [==============================] - 0s 10ms/step - loss: 0.0059 - val_loss: 0.0145\n",
            "Epoch 67/80\n",
            "20/20 [==============================] - 0s 10ms/step - loss: 0.0063 - val_loss: 0.0258\n",
            "Epoch 68/80\n",
            "20/20 [==============================] - 0s 9ms/step - loss: 0.0064 - val_loss: 0.0752\n",
            "Epoch 69/80\n",
            "20/20 [==============================] - 0s 9ms/step - loss: 0.0073 - val_loss: 0.0359\n",
            "Epoch 70/80\n",
            "20/20 [==============================] - 0s 10ms/step - loss: 0.0057 - val_loss: 0.0244\n",
            "Epoch 71/80\n",
            "20/20 [==============================] - 0s 10ms/step - loss: 0.0056 - val_loss: 0.0188\n",
            "Epoch 72/80\n",
            "20/20 [==============================] - 0s 10ms/step - loss: 0.0058 - val_loss: 0.0191\n",
            "Epoch 73/80\n",
            "20/20 [==============================] - 0s 10ms/step - loss: 0.0054 - val_loss: 0.0293\n",
            "Epoch 74/80\n",
            "20/20 [==============================] - 0s 9ms/step - loss: 0.0053 - val_loss: 0.0253\n",
            "Epoch 75/80\n",
            "20/20 [==============================] - 0s 10ms/step - loss: 0.0052 - val_loss: 0.0145\n",
            "Epoch 76/80\n",
            "20/20 [==============================] - 0s 10ms/step - loss: 0.0054 - val_loss: 0.0170\n",
            "Epoch 77/80\n",
            "20/20 [==============================] - 0s 10ms/step - loss: 0.0059 - val_loss: 0.0168\n",
            "Epoch 78/80\n",
            "20/20 [==============================] - 0s 9ms/step - loss: 0.0055 - val_loss: 0.0197\n",
            "Epoch 79/80\n",
            "20/20 [==============================] - 0s 10ms/step - loss: 0.0053 - val_loss: 0.0172\n",
            "Epoch 80/80\n",
            "20/20 [==============================] - 0s 9ms/step - loss: 0.0054 - val_loss: 0.0136\n"
          ]
        }
      ]
    },
    {
      "cell_type": "code",
      "metadata": {
        "id": "gNKGakDwP6I8",
        "colab": {
          "base_uri": "https://localhost:8080/",
          "height": 282
        },
        "outputId": "770a1ac5-954b-46cb-9646-f7dff7c4719e"
      },
      "source": [
        "import matplotlib.pyplot as plt\n",
        "plt.plot(r.history['loss'], label='loss')\n",
        "plt.plot(r.history['val_loss'], label='val_loss')\n",
        "plt.legend()"
      ],
      "execution_count": 25,
      "outputs": [
        {
          "output_type": "execute_result",
          "data": {
            "text/plain": [
              "<matplotlib.legend.Legend at 0x7f485a7052d0>"
            ]
          },
          "metadata": {},
          "execution_count": 25
        },
        {
          "output_type": "display_data",
          "data": {
            "image/png": "[encoded data removed]",
            "text/plain": [
              "<Figure size 432x288 with 1 Axes>"
            ]
          },
          "metadata": {
            "needs_background": "light"
          }
        }
      ]
    },
    {
      "cell_type": "code",
      "metadata": {
        "id": "SnonG_CKP-W2",
        "colab": {
          "base_uri": "https://localhost:8080/",
          "height": 282
        },
        "outputId": "8dca23e8-8d47-42c8-e4f9-46fdd85bf8df"
      },
      "source": [
        "outputs = model.predict(X)\n",
        "print(outputs.shape)\n",
        "predictions = outputs[:,0]\n",
        "\n",
        "plt.plot(Y, label='targets')\n",
        "plt.plot(predictions, label='predictions')\n",
        "plt.legend()\n",
        "plt.show()"
      ],
      "execution_count": 26,
      "outputs": [
        {
          "output_type": "stream",
          "name": "stdout",
          "text": [
            "(1249, 1)\n"
          ]
        },
        {
          "output_type": "display_data",
          "data": {
            "image/png": "[encoded data removed]",
            "text/plain": [
              "<Figure size 432x288 with 1 Axes>"
            ]
          },
          "metadata": {
            "needs_background": "light"
          }
        }
      ]
    },
    {
      "cell_type": "code",
      "metadata": {
        "id": "_lQrWPlHQJw_",
        "colab": {
          "base_uri": "https://localhost:8080/",
          "height": 282
        },
        "outputId": "392279c6-5c37-44a3-dc06-da48cceb5c96"
      },
      "source": [
        "# Multi-step forecast\n",
        "validation_target = Y[-N//2:]\n",
        "validation_predictions = []\n",
        "\n",
        "# first validation input\n",
        "last_x = X[-N//2] # 1-D array of length T\n",
        "\n",
        "while len(validation_predictions) < len(validation_target):\n",
        "  p = model.predict(last_x.reshape(1, T, 1))[0,0] # 1x1 array -> scalar\n",
        "  \n",
        "  # update the predictions list\n",
        "  validation_predictions.append(p)\n",
        "  \n",
        "  # make the new input\n",
        "  last_x = np.roll(last_x, -1)\n",
        "  last_x[-1] = p\n",
        "\n",
        "plt.plot(validation_target, label='forecast target')\n",
        "plt.plot(validation_predictions, label='forecast prediction')\n",
        "plt.legend()"
      ],
      "execution_count": 27,
      "outputs": [
        {
          "output_type": "execute_result",
          "data": {
            "text/plain": [
              "<matplotlib.legend.Legend at 0x7f48814cb1d0>"
            ]
          },
          "metadata": {},
          "execution_count": 27
        },
        {
          "output_type": "display_data",
          "data": {
            "image/png": "[encoded data removed]",
            "text/plain": [
              "<Figure size 432x288 with 1 Axes>"
            ]
          },
          "metadata": {
            "needs_background": "light"
          }
        }
      ]
    },
    {
      "cell_type": "code",
      "metadata": {
        "id": "HyqtntC7OGu0"
      },
      "source": [
        "# calculate returns by first shifting the data\n",
        "df['PrevClose'] = df['close'].shift(1) # move everything up 1\n",
        "\n",
        "# so now it's like\n",
        "# close / prev close\n",
        "# x[2] x[1]\n",
        "# x[3] x[2]\n",
        "# x[4] x[3]\n",
        "# ...\n",
        "# x[t] x[t-1]"
      ],
      "execution_count": null,
      "outputs": []
    },
    {
      "cell_type": "code",
      "metadata": {
        "id": "K4HG4nDUOPHK",
        "colab": {
          "base_uri": "https://localhost:8080/",
          "height": 204
        },
        "outputId": "b7c301f5-4cdf-4f83-fe20-d912a40045f4"
      },
      "source": [
        "df.head()"
      ],
      "execution_count": null,
      "outputs": [
        {
          "output_type": "execute_result",
          "data": {
            "text/html": [
              "<div>\n",
              "<style scoped>\n",
              "    .dataframe tbody tr th:only-of-type {\n",
              "        vertical-align: middle;\n",
              "    }\n",
              "\n",
              "    .dataframe tbody tr th {\n",
              "        vertical-align: top;\n",
              "    }\n",
              "\n",
              "    .dataframe thead th {\n",
              "        text-align: right;\n",
              "    }\n",
              "</style>\n",
              "<table border=\"1\" class=\"dataframe\">\n",
              "  <thead>\n",
              "    <tr style=\"text-align: right;\">\n",
              "      <th></th>\n",
              "      <th>date</th>\n",
              "      <th>open</th>\n",
              "      <th>high</th>\n",
              "      <th>low</th>\n",
              "      <th>close</th>\n",
              "      <th>volume</th>\n",
              "      <th>Name</th>\n",
              "      <th>PrevClose</th>\n",
              "    </tr>\n",
              "  </thead>\n",
              "  <tbody>\n",
              "    <tr>\n",
              "      <th>0</th>\n",
              "      <td>2013-02-08</td>\n",
              "      <td>27.920</td>\n",
              "      <td>28.325</td>\n",
              "      <td>27.920</td>\n",
              "      <td>28.185</td>\n",
              "      <td>7146296</td>\n",
              "      <td>SBUX</td>\n",
              "      <td>NaN</td>\n",
              "    </tr>\n",
              "    <tr>\n",
              "      <th>1</th>\n",
              "      <td>2013-02-11</td>\n",
              "      <td>28.260</td>\n",
              "      <td>28.260</td>\n",
              "      <td>27.930</td>\n",
              "      <td>28.070</td>\n",
              "      <td>5457354</td>\n",
              "      <td>SBUX</td>\n",
              "      <td>28.185</td>\n",
              "    </tr>\n",
              "    <tr>\n",
              "      <th>2</th>\n",
              "      <td>2013-02-12</td>\n",
              "      <td>28.000</td>\n",
              "      <td>28.275</td>\n",
              "      <td>27.975</td>\n",
              "      <td>28.130</td>\n",
              "      <td>8665592</td>\n",
              "      <td>SBUX</td>\n",
              "      <td>28.070</td>\n",
              "    </tr>\n",
              "    <tr>\n",
              "      <th>3</th>\n",
              "      <td>2013-02-13</td>\n",
              "      <td>28.230</td>\n",
              "      <td>28.230</td>\n",
              "      <td>27.750</td>\n",
              "      <td>27.915</td>\n",
              "      <td>7022056</td>\n",
              "      <td>SBUX</td>\n",
              "      <td>28.130</td>\n",
              "    </tr>\n",
              "    <tr>\n",
              "      <th>4</th>\n",
              "      <td>2013-02-14</td>\n",
              "      <td>27.765</td>\n",
              "      <td>27.905</td>\n",
              "      <td>27.675</td>\n",
              "      <td>27.775</td>\n",
              "      <td>8899188</td>\n",
              "      <td>SBUX</td>\n",
              "      <td>27.915</td>\n",
              "    </tr>\n",
              "  </tbody>\n",
              "</table>\n",
              "</div>"
            ],
            "text/plain": [
              "         date    open    high     low   close   volume  Name  PrevClose\n",
              "0  2013-02-08  27.920  28.325  27.920  28.185  7146296  SBUX        NaN\n",
              "1  2013-02-11  28.260  28.260  27.930  28.070  5457354  SBUX     28.185\n",
              "2  2013-02-12  28.000  28.275  27.975  28.130  8665592  SBUX     28.070\n",
              "3  2013-02-13  28.230  28.230  27.750  27.915  7022056  SBUX     28.130\n",
              "4  2013-02-14  27.765  27.905  27.675  27.775  8899188  SBUX     27.915"
            ]
          },
          "metadata": {},
          "execution_count": 14
        }
      ]
    },
    {
      "cell_type": "code",
      "metadata": {
        "id": "8NozObuNORn4"
      },
      "source": [
        "# then the return is\n",
        "# (x[t] - x[t-1]) / x[t-1]\n",
        "df['Return'] = (df['close'] - df['PrevClose']) / df['PrevClose']"
      ],
      "execution_count": null,
      "outputs": []
    },
    {
      "cell_type": "code",
      "metadata": {
        "id": "1o0ynO0aOVWu",
        "colab": {
          "base_uri": "https://localhost:8080/",
          "height": 204
        },
        "outputId": "222aca37-1040-4479-c06f-d04f20a32f67"
      },
      "source": [
        "df.head()"
      ],
      "execution_count": null,
      "outputs": [
        {
          "output_type": "execute_result",
          "data": {
            "text/html": [
              "<div>\n",
              "<style scoped>\n",
              "    .dataframe tbody tr th:only-of-type {\n",
              "        vertical-align: middle;\n",
              "    }\n",
              "\n",
              "    .dataframe tbody tr th {\n",
              "        vertical-align: top;\n",
              "    }\n",
              "\n",
              "    .dataframe thead th {\n",
              "        text-align: right;\n",
              "    }\n",
              "</style>\n",
              "<table border=\"1\" class=\"dataframe\">\n",
              "  <thead>\n",
              "    <tr style=\"text-align: right;\">\n",
              "      <th></th>\n",
              "      <th>date</th>\n",
              "      <th>open</th>\n",
              "      <th>high</th>\n",
              "      <th>low</th>\n",
              "      <th>close</th>\n",
              "      <th>volume</th>\n",
              "      <th>Name</th>\n",
              "      <th>PrevClose</th>\n",
              "      <th>Return</th>\n",
              "    </tr>\n",
              "  </thead>\n",
              "  <tbody>\n",
              "    <tr>\n",
              "      <th>0</th>\n",
              "      <td>2013-02-08</td>\n",
              "      <td>27.920</td>\n",
              "      <td>28.325</td>\n",
              "      <td>27.920</td>\n",
              "      <td>28.185</td>\n",
              "      <td>7146296</td>\n",
              "      <td>SBUX</td>\n",
              "      <td>NaN</td>\n",
              "      <td>NaN</td>\n",
              "    </tr>\n",
              "    <tr>\n",
              "      <th>1</th>\n",
              "      <td>2013-02-11</td>\n",
              "      <td>28.260</td>\n",
              "      <td>28.260</td>\n",
              "      <td>27.930</td>\n",
              "      <td>28.070</td>\n",
              "      <td>5457354</td>\n",
              "      <td>SBUX</td>\n",
              "      <td>28.185</td>\n",
              "      <td>-0.004080</td>\n",
              "    </tr>\n",
              "    <tr>\n",
              "      <th>2</th>\n",
              "      <td>2013-02-12</td>\n",
              "      <td>28.000</td>\n",
              "      <td>28.275</td>\n",
              "      <td>27.975</td>\n",
              "      <td>28.130</td>\n",
              "      <td>8665592</td>\n",
              "      <td>SBUX</td>\n",
              "      <td>28.070</td>\n",
              "      <td>0.002138</td>\n",
              "    </tr>\n",
              "    <tr>\n",
              "      <th>3</th>\n",
              "      <td>2013-02-13</td>\n",
              "      <td>28.230</td>\n",
              "      <td>28.230</td>\n",
              "      <td>27.750</td>\n",
              "      <td>27.915</td>\n",
              "      <td>7022056</td>\n",
              "      <td>SBUX</td>\n",
              "      <td>28.130</td>\n",
              "      <td>-0.007643</td>\n",
              "    </tr>\n",
              "    <tr>\n",
              "      <th>4</th>\n",
              "      <td>2013-02-14</td>\n",
              "      <td>27.765</td>\n",
              "      <td>27.905</td>\n",
              "      <td>27.675</td>\n",
              "      <td>27.775</td>\n",
              "      <td>8899188</td>\n",
              "      <td>SBUX</td>\n",
              "      <td>27.915</td>\n",
              "      <td>-0.005015</td>\n",
              "    </tr>\n",
              "  </tbody>\n",
              "</table>\n",
              "</div>"
            ],
            "text/plain": [
              "         date    open    high     low  ...   volume  Name PrevClose    Return\n",
              "0  2013-02-08  27.920  28.325  27.920  ...  7146296  SBUX       NaN       NaN\n",
              "1  2013-02-11  28.260  28.260  27.930  ...  5457354  SBUX    28.185 -0.004080\n",
              "2  2013-02-12  28.000  28.275  27.975  ...  8665592  SBUX    28.070  0.002138\n",
              "3  2013-02-13  28.230  28.230  27.750  ...  7022056  SBUX    28.130 -0.007643\n",
              "4  2013-02-14  27.765  27.905  27.675  ...  8899188  SBUX    27.915 -0.005015\n",
              "\n",
              "[5 rows x 9 columns]"
            ]
          },
          "metadata": {},
          "execution_count": 16
        }
      ]
    },
    {
      "cell_type": "code",
      "metadata": {
        "id": "2caEww0GXddl",
        "colab": {
          "base_uri": "https://localhost:8080/",
          "height": 282
        },
        "outputId": "735c97bb-3032-49a6-977c-82114341830e"
      },
      "source": [
        "# Now let's try an LSTM to predict returns\n",
        "df['Return'].hist()"
      ],
      "execution_count": null,
      "outputs": [
        {
          "output_type": "execute_result",
          "data": {
            "text/plain": [
              "<matplotlib.axes._subplots.AxesSubplot at 0x7f5fabf9cd10>"
            ]
          },
          "metadata": {},
          "execution_count": 17
        },
        {
          "output_type": "display_data",
          "data": {
            "image/png": "[encoded data removed]",
            "text/plain": [
              "<Figure size 432x288 with 1 Axes>"
            ]
          },
          "metadata": {
            "needs_background": "light"
          }
        }
      ]
    },
    {
      "cell_type": "code",
      "metadata": {
        "id": "t0xUTZvFXoHc"
      },
      "source": [
        "series = df['Return'].values[1:].reshape(-1, 1)\n",
        "\n",
        "# Normalize the data\n",
        "# Note: I didn't think about where the true boundary is, this is just approx.\n",
        "scaler = StandardScaler()\n",
        "scaler.fit(series[:len(series) // 2])\n",
        "series = scaler.transform(series).flatten()"
      ],
      "execution_count": null,
      "outputs": []
    },
    {
      "cell_type": "code",
      "metadata": {
        "id": "PLNwOWOWX1m9",
        "colab": {
          "base_uri": "https://localhost:8080/"
        },
        "outputId": "942ccc88-3467-4098-b6f1-e4b73fa782de"
      },
      "source": [
        "### build the dataset\n",
        "# let's see if we can use T past values to predict the next value\n",
        "T = 10\n",
        "D = 1\n",
        "X = []\n",
        "Y = []\n",
        "for t in range(len(series) - T):\n",
        "  x = series[t:t+T]\n",
        "  X.append(x)\n",
        "  y = series[t+T]\n",
        "  Y.append(y)\n",
        "\n",
        "X = np.array(X).reshape(-1, T, 1) # Now the data should be N x T x D\n",
        "Y = np.array(Y)\n",
        "N = len(X)\n",
        "print(\"X.shape\", X.shape, \"Y.shape\", Y.shape)"
      ],
      "execution_count": null,
      "outputs": [
        {
          "output_type": "stream",
          "name": "stdout",
          "text": [
            "X.shape (1248, 10, 1) Y.shape (1248,)\n"
          ]
        }
      ]
    },
    {
      "cell_type": "code",
      "metadata": {
        "id": "F_fhQMaOYAxR",
        "colab": {
          "base_uri": "https://localhost:8080/"
        },
        "outputId": "a9f777f4-9fcc-44d4-fdfe-bad53c56623b"
      },
      "source": [
        "### try autoregressive RNN model\n",
        "i = Input(shape=(T, 1))\n",
        "x = LSTM(5)(i)\n",
        "x = Dense(1)(x)\n",
        "model = Model(i, x)\n",
        "model.compile(\n",
        "  loss='mse',\n",
        "  optimizer=Adam(lr=0.01),\n",
        ")\n",
        "\n",
        "# train the RNN\n",
        "r = model.fit(\n",
        "  X[:-N//2], Y[:-N//2],\n",
        "  epochs=80,\n",
        "  validation_data=(X[-N//2:], Y[-N//2:]),\n",
        ")"
      ],
      "execution_count": null,
      "outputs": [
        {
          "output_type": "stream",
          "name": "stderr",
          "text": [
            "/usr/local/lib/python3.7/dist-packages/keras/optimizer_v2/adam.py:105: UserWarning: The `lr` argument is deprecated, use `learning_rate` instead.\n",
            "  super(Adam, self).__init__(name, **kwargs)\n"
          ]
        },
        {
          "output_type": "stream",
          "name": "stdout",
          "text": [
            "Epoch 1/80\n",
            "20/20 [==============================] - 3s 54ms/step - loss: 0.9915 - val_loss: 1.1306\n",
            "Epoch 2/80\n",
            "20/20 [==============================] - 0s 9ms/step - loss: 0.9876 - val_loss: 1.1597\n",
            "Epoch 3/80\n",
            "20/20 [==============================] - 0s 10ms/step - loss: 0.9850 - val_loss: 1.1324\n",
            "Epoch 4/80\n",
            "20/20 [==============================] - 0s 10ms/step - loss: 0.9863 - val_loss: 1.1440\n",
            "Epoch 5/80\n",
            "20/20 [==============================] - 0s 10ms/step - loss: 0.9829 - val_loss: 1.1412\n",
            "Epoch 6/80\n",
            "20/20 [==============================] - 0s 11ms/step - loss: 0.9824 - val_loss: 1.1343\n",
            "Epoch 7/80\n",
            "20/20 [==============================] - 0s 9ms/step - loss: 0.9873 - val_loss: 1.1525\n",
            "Epoch 8/80\n",
            "20/20 [==============================] - 0s 10ms/step - loss: 0.9816 - val_loss: 1.1422\n",
            "Epoch 9/80\n",
            "20/20 [==============================] - 0s 10ms/step - loss: 0.9835 - val_loss: 1.1486\n",
            "Epoch 10/80\n",
            "20/20 [==============================] - 0s 10ms/step - loss: 0.9791 - val_loss: 1.1465\n",
            "Epoch 11/80\n",
            "20/20 [==============================] - 0s 10ms/step - loss: 0.9777 - val_loss: 1.1586\n",
            "Epoch 12/80\n",
            "20/20 [==============================] - 0s 9ms/step - loss: 0.9776 - val_loss: 1.1463\n",
            "Epoch 13/80\n",
            "20/20 [==============================] - 0s 10ms/step - loss: 0.9784 - val_loss: 1.1474\n",
            "Epoch 14/80\n",
            "20/20 [==============================] - 0s 15ms/step - loss: 0.9731 - val_loss: 1.1525\n",
            "Epoch 15/80\n",
            "20/20 [==============================] - 0s 10ms/step - loss: 0.9719 - val_loss: 1.1551\n",
            "Epoch 16/80\n",
            "20/20 [==============================] - 0s 15ms/step - loss: 0.9781 - val_loss: 1.1610\n",
            "Epoch 17/80\n",
            "20/20 [==============================] - 0s 10ms/step - loss: 0.9707 - val_loss: 1.1682\n",
            "Epoch 18/80\n",
            "20/20 [==============================] - 0s 10ms/step - loss: 0.9629 - val_loss: 1.1520\n",
            "Epoch 19/80\n",
            "20/20 [==============================] - 0s 10ms/step - loss: 0.9584 - val_loss: 1.1842\n",
            "Epoch 20/80\n",
            "20/20 [==============================] - 0s 10ms/step - loss: 0.9586 - val_loss: 1.1992\n",
            "Epoch 21/80\n",
            "20/20 [==============================] - 0s 10ms/step - loss: 0.9390 - val_loss: 1.1793\n",
            "Epoch 22/80\n",
            "20/20 [==============================] - 0s 10ms/step - loss: 0.9608 - val_loss: 1.2050\n",
            "Epoch 23/80\n",
            "20/20 [==============================] - 0s 10ms/step - loss: 0.9493 - val_loss: 1.1756\n",
            "Epoch 24/80\n",
            "20/20 [==============================] - 0s 14ms/step - loss: 0.9380 - val_loss: 1.1871\n",
            "Epoch 25/80\n",
            "20/20 [==============================] - 0s 9ms/step - loss: 0.9319 - val_loss: 1.2210\n",
            "Epoch 26/80\n",
            "20/20 [==============================] - 0s 9ms/step - loss: 0.9325 - val_loss: 1.1969\n",
            "Epoch 27/80\n",
            "20/20 [==============================] - 0s 10ms/step - loss: 0.9313 - val_loss: 1.1994\n",
            "Epoch 28/80\n",
            "20/20 [==============================] - 0s 10ms/step - loss: 0.9333 - val_loss: 1.2186\n",
            "Epoch 29/80\n",
            "20/20 [==============================] - 0s 10ms/step - loss: 0.9363 - val_loss: 1.2395\n",
            "Epoch 30/80\n",
            "20/20 [==============================] - 0s 10ms/step - loss: 0.9262 - val_loss: 1.2013\n",
            "Epoch 31/80\n",
            "20/20 [==============================] - 0s 10ms/step - loss: 0.9222 - val_loss: 1.2388\n",
            "Epoch 32/80\n",
            "20/20 [==============================] - 0s 10ms/step - loss: 0.9345 - val_loss: 1.2032\n",
            "Epoch 33/80\n",
            "20/20 [==============================] - 0s 11ms/step - loss: 0.9096 - val_loss: 1.2963\n",
            "Epoch 34/80\n",
            "20/20 [==============================] - 0s 10ms/step - loss: 0.9278 - val_loss: 1.2003\n",
            "Epoch 35/80\n",
            "20/20 [==============================] - 0s 10ms/step - loss: 0.9106 - val_loss: 1.2499\n",
            "Epoch 36/80\n",
            "20/20 [==============================] - 0s 9ms/step - loss: 0.9193 - val_loss: 1.2234\n",
            "Epoch 37/80\n",
            "20/20 [==============================] - 0s 9ms/step - loss: 0.9154 - val_loss: 1.2497\n",
            "Epoch 38/80\n",
            "20/20 [==============================] - 0s 15ms/step - loss: 0.9117 - val_loss: 1.2332\n",
            "Epoch 39/80\n",
            "20/20 [==============================] - 0s 10ms/step - loss: 0.9048 - val_loss: 1.2470\n",
            "Epoch 40/80\n",
            "20/20 [==============================] - 0s 10ms/step - loss: 0.9036 - val_loss: 1.2414\n",
            "Epoch 41/80\n",
            "20/20 [==============================] - 0s 10ms/step - loss: 0.9066 - val_loss: 1.2632\n",
            "Epoch 42/80\n",
            "20/20 [==============================] - 0s 10ms/step - loss: 0.8941 - val_loss: 1.2446\n",
            "Epoch 43/80\n",
            "20/20 [==============================] - 0s 10ms/step - loss: 0.8990 - val_loss: 1.3026\n",
            "Epoch 44/80\n",
            "20/20 [==============================] - 0s 10ms/step - loss: 0.9063 - val_loss: 1.2714\n",
            "Epoch 45/80\n",
            "20/20 [==============================] - 0s 9ms/step - loss: 0.8907 - val_loss: 1.2828\n",
            "Epoch 46/80\n",
            "20/20 [==============================] - 0s 10ms/step - loss: 0.8851 - val_loss: 1.2894\n",
            "Epoch 47/80\n",
            "20/20 [==============================] - 0s 15ms/step - loss: 0.8872 - val_loss: 1.2921\n",
            "Epoch 48/80\n",
            "20/20 [==============================] - 0s 10ms/step - loss: 0.8849 - val_loss: 1.2839\n",
            "Epoch 49/80\n",
            "20/20 [==============================] - 0s 10ms/step - loss: 0.8893 - val_loss: 1.2820\n",
            "Epoch 50/80\n",
            "20/20 [==============================] - 0s 10ms/step - loss: 0.8817 - val_loss: 1.3301\n",
            "Epoch 51/80\n",
            "20/20 [==============================] - 0s 9ms/step - loss: 0.8836 - val_loss: 1.2937\n",
            "Epoch 52/80\n",
            "20/20 [==============================] - 0s 11ms/step - loss: 0.8729 - val_loss: 1.3303\n",
            "Epoch 53/80\n",
            "20/20 [==============================] - 0s 10ms/step - loss: 0.8712 - val_loss: 1.3139\n",
            "Epoch 54/80\n",
            "20/20 [==============================] - 0s 10ms/step - loss: 0.8702 - val_loss: 1.3213\n",
            "Epoch 55/80\n",
            "20/20 [==============================] - 0s 9ms/step - loss: 0.8717 - val_loss: 1.3056\n",
            "Epoch 56/80\n",
            "20/20 [==============================] - 0s 9ms/step - loss: 0.8646 - val_loss: 1.3493\n",
            "Epoch 57/80\n",
            "20/20 [==============================] - 0s 11ms/step - loss: 0.8668 - val_loss: 1.3127\n",
            "Epoch 58/80\n",
            "20/20 [==============================] - 0s 9ms/step - loss: 0.8665 - val_loss: 1.3582\n",
            "Epoch 59/80\n",
            "20/20 [==============================] - 0s 10ms/step - loss: 0.8557 - val_loss: 1.3665\n",
            "Epoch 60/80\n",
            "20/20 [==============================] - 0s 11ms/step - loss: 0.8536 - val_loss: 1.3579\n",
            "Epoch 61/80\n",
            "20/20 [==============================] - 0s 10ms/step - loss: 0.8622 - val_loss: 1.3749\n",
            "Epoch 62/80\n",
            "20/20 [==============================] - 0s 11ms/step - loss: 0.8652 - val_loss: 1.3861\n",
            "Epoch 63/80\n",
            "20/20 [==============================] - 0s 10ms/step - loss: 0.8501 - val_loss: 1.3633\n",
            "Epoch 64/80\n",
            "20/20 [==============================] - 0s 10ms/step - loss: 0.8429 - val_loss: 1.3689\n",
            "Epoch 65/80\n",
            "20/20 [==============================] - 0s 10ms/step - loss: 0.8520 - val_loss: 1.3683\n",
            "Epoch 66/80\n",
            "20/20 [==============================] - 0s 10ms/step - loss: 0.8468 - val_loss: 1.3548\n",
            "Epoch 67/80\n",
            "20/20 [==============================] - 0s 11ms/step - loss: 0.8461 - val_loss: 1.4691\n",
            "Epoch 68/80\n",
            "20/20 [==============================] - 0s 15ms/step - loss: 0.8365 - val_loss: 1.4064\n",
            "Epoch 69/80\n",
            "20/20 [==============================] - 0s 10ms/step - loss: 0.8305 - val_loss: 1.3816\n",
            "Epoch 70/80\n",
            "20/20 [==============================] - 0s 10ms/step - loss: 0.8299 - val_loss: 1.4348\n",
            "Epoch 71/80\n",
            "20/20 [==============================] - 0s 10ms/step - loss: 0.8217 - val_loss: 1.3739\n",
            "Epoch 72/80\n",
            "20/20 [==============================] - 0s 10ms/step - loss: 0.8403 - val_loss: 1.3765\n",
            "Epoch 73/80\n",
            "20/20 [==============================] - 0s 10ms/step - loss: 0.8308 - val_loss: 1.4171\n",
            "Epoch 74/80\n",
            "20/20 [==============================] - 0s 10ms/step - loss: 0.8112 - val_loss: 1.4449\n",
            "Epoch 75/80\n",
            "20/20 [==============================] - 0s 11ms/step - loss: 0.8233 - val_loss: 1.4303\n",
            "Epoch 76/80\n",
            "20/20 [==============================] - 0s 11ms/step - loss: 0.8065 - val_loss: 1.4318\n",
            "Epoch 77/80\n",
            "20/20 [==============================] - 0s 10ms/step - loss: 0.8190 - val_loss: 1.4221\n",
            "Epoch 78/80\n",
            "20/20 [==============================] - 0s 10ms/step - loss: 0.8059 - val_loss: 1.4262\n",
            "Epoch 79/80\n",
            "20/20 [==============================] - 0s 10ms/step - loss: 0.8029 - val_loss: 1.4284\n",
            "Epoch 80/80\n",
            "20/20 [==============================] - 0s 10ms/step - loss: 0.7984 - val_loss: 1.4634\n"
          ]
        }
      ]
    },
    {
      "cell_type": "code",
      "metadata": {
        "id": "-RulDED_YFAQ",
        "colab": {
          "base_uri": "https://localhost:8080/",
          "height": 286
        },
        "outputId": "4fe4f590-c178-4ac9-9c7a-aceb7404d4e6"
      },
      "source": [
        "# Plot loss per iteration\n",
        "import matplotlib.pyplot as plt\n",
        "plt.plot(r.history['loss'], label='loss')\n",
        "plt.plot(r.history['val_loss'], label='val_loss')\n",
        "plt.legend()"
      ],
      "execution_count": null,
      "outputs": [
        {
          "output_type": "execute_result",
          "data": {
            "text/plain": [
              "<matplotlib.legend.Legend at 0x7f5fad6dd610>"
            ]
          },
          "metadata": {},
          "execution_count": 21
        },
        {
          "output_type": "display_data",
          "data": {
            "image/png": "[encoded data removed]",
            "text/plain": [
              "<Figure size 432x288 with 1 Axes>"
            ]
          },
          "metadata": {
            "needs_background": "light"
          }
        }
      ]
    },
    {
      "cell_type": "code",
      "metadata": {
        "id": "euWSVgj2YFXA",
        "colab": {
          "base_uri": "https://localhost:8080/",
          "height": 282
        },
        "outputId": "8a89e0d7-0224-499a-b5ed-9d9041baae97"
      },
      "source": [
        "# One-step forecast using true targets\n",
        "outputs = model.predict(X)\n",
        "print(outputs.shape)\n",
        "predictions = outputs[:,0]\n",
        "\n",
        "plt.plot(Y, label='targets')\n",
        "plt.plot(predictions, label='predictions')\n",
        "plt.legend()\n",
        "plt.show()"
      ],
      "execution_count": null,
      "outputs": [
        {
          "output_type": "stream",
          "name": "stdout",
          "text": [
            "(1248, 1)\n"
          ]
        },
        {
          "output_type": "display_data",
          "data": {
            "image/png": "[encoded data removed]",
            "text/plain": [
              "<Figure size 432x288 with 1 Axes>"
            ]
          },
          "metadata": {
            "needs_background": "light"
          }
        }
      ]
    },
    {
      "cell_type": "code",
      "metadata": {
        "id": "Vqu6ScQrYIWV",
        "colab": {
          "base_uri": "https://localhost:8080/",
          "height": 282
        },
        "outputId": "428496d9-2fc9-467e-f359-0dc64c8aac28"
      },
      "source": [
        "# Multi-step forecast\n",
        "validation_target = Y[-N//2:]\n",
        "validation_predictions = []\n",
        "\n",
        "# first validation input\n",
        "last_x = X[-N//2] # 1-D array of length T\n",
        "\n",
        "while len(validation_predictions) < len(validation_target):\n",
        "  p = model.predict(last_x.reshape(1, T, 1))[0,0] # 1x1 array -> scalar\n",
        "  \n",
        "  # update the predictions list\n",
        "  validation_predictions.append(p)\n",
        "  \n",
        "  # make the new input\n",
        "  last_x = np.roll(last_x, -1)\n",
        "  last_x[-1] = p\n",
        "\n",
        "plt.plot(validation_target, label='forecast target')\n",
        "plt.plot(validation_predictions, label='forecast prediction')\n",
        "plt.legend()"
      ],
      "execution_count": null,
      "outputs": [
        {
          "output_type": "execute_result",
          "data": {
            "text/plain": [
              "<matplotlib.legend.Legend at 0x7f5fac689050>"
            ]
          },
          "metadata": {},
          "execution_count": 23
        },
        {
          "output_type": "display_data",
          "data": {
            "image/png": "[encoded data removed]",
            "text/plain": [
              "<Figure size 432x288 with 1 Axes>"
            ]
          },
          "metadata": {
            "needs_background": "light"
          }
        }
      ]
    },
    {
      "cell_type": "code",
      "metadata": {
        "id": "VwgGvQsDOZ5T"
      },
      "source": [
        "# Now turn the full data into numpy arrays\n",
        "\n",
        "# Not yet in the final \"X\" format!\n",
        "input_data = df[['open', 'high', 'low', 'close', 'volume']].values\n",
        "targets = df['Return'].values"
      ],
      "execution_count": null,
      "outputs": []
    },
    {
      "cell_type": "code",
      "metadata": {
        "id": "-sdYhd7mObwI"
      },
      "source": [
        "# Now make the actual data which will go into the neural network\n",
        "T = 10 # the number of time steps to look at to make a prediction for the next day\n",
        "D = input_data.shape[1]\n",
        "N = len(input_data) - T # (e.g. if T=10 and you have 11 data points then you'd only have 1 sample)"
      ],
      "execution_count": null,
      "outputs": []
    },
    {
      "cell_type": "code",
      "metadata": {
        "id": "79CkMlgHOejZ"
      },
      "source": [
        "# normalize the inputs\n",
        "Ntrain = len(input_data) * 2 // 3\n",
        "scaler = StandardScaler()\n",
        "scaler.fit(input_data[:Ntrain + T - 1])\n",
        "input_data = scaler.transform(input_data)"
      ],
      "execution_count": null,
      "outputs": []
    },
    {
      "cell_type": "code",
      "metadata": {
        "id": "bfQcj1gpOme2"
      },
      "source": [
        "# Setup X_train and Y_train\n",
        "X_train = np.zeros((Ntrain, T, D))\n",
        "Y_train = np.zeros(Ntrain)\n",
        "\n",
        "for t in range(Ntrain):\n",
        "  X_train[t, :, :] = input_data[t:t+T]\n",
        "  Y_train[t] = (targets[t+T] > 0)"
      ],
      "execution_count": null,
      "outputs": []
    },
    {
      "cell_type": "code",
      "metadata": {
        "id": "HhUo6COMOsZi"
      },
      "source": [
        "# Setup X_test and Y_test\n",
        "X_test = np.zeros((N - Ntrain, T, D))\n",
        "Y_test = np.zeros(N - Ntrain)\n",
        "\n",
        "for u in range(N - Ntrain):\n",
        "  # u counts from 0...(N - Ntrain)\n",
        "  # t counts from Ntrain...N\n",
        "  t = u + Ntrain\n",
        "  X_test[u, :, :] = input_data[t:t+T]\n",
        "  Y_test[u] = (targets[t+T] > 0)"
      ],
      "execution_count": null,
      "outputs": []
    },
    {
      "cell_type": "code",
      "metadata": {
        "id": "7tBDk_1FRUFt",
        "colab": {
          "base_uri": "https://localhost:8080/"
        },
        "outputId": "4f760eb9-1b38-46f3-bff4-8a37965eb3be"
      },
      "source": [
        "# make the RNN\n",
        "i = Input(shape=(T, D))\n",
        "x = LSTM(50)(i)\n",
        "x = Dense(1, activation='sigmoid')(x)\n",
        "model = Model(i, x)\n",
        "model.compile(\n",
        "  loss='binary_crossentropy',\n",
        "  optimizer=Adam(lr=0.001),\n",
        "  metrics=['accuracy'],\n",
        ")"
      ],
      "execution_count": null,
      "outputs": [
        {
          "output_type": "stream",
          "name": "stderr",
          "text": [
            "/usr/local/lib/python3.7/dist-packages/keras/optimizer_v2/adam.py:105: UserWarning: The `lr` argument is deprecated, use `learning_rate` instead.\n",
            "  super(Adam, self).__init__(name, **kwargs)\n"
          ]
        }
      ]
    },
    {
      "cell_type": "code",
      "metadata": {
        "id": "IQqNykvGRXGz",
        "colab": {
          "base_uri": "https://localhost:8080/"
        },
        "outputId": "e897a3f8-28b2-4fd7-b92a-8abd5ff344e1"
      },
      "source": [
        "# train the RNN\n",
        "r = model.fit(\n",
        "  X_train, Y_train,\n",
        "  batch_size=32,\n",
        "  epochs=300,\n",
        "  validation_data=(X_test, Y_test),\n",
        ")"
      ],
      "execution_count": null,
      "outputs": [
        {
          "output_type": "stream",
          "name": "stdout",
          "text": [
            "Epoch 1/300\n",
            "27/27 [==============================] - 3s 32ms/step - loss: 0.6955 - accuracy: 0.5125 - val_loss: 0.6927 - val_accuracy: 0.5000\n",
            "Epoch 2/300\n",
            "27/27 [==============================] - 0s 9ms/step - loss: 0.6920 - accuracy: 0.5125 - val_loss: 0.6933 - val_accuracy: 0.5024\n",
            "Epoch 3/300\n",
            "27/27 [==============================] - 0s 10ms/step - loss: 0.6928 - accuracy: 0.5089 - val_loss: 0.6921 - val_accuracy: 0.5073\n",
            "Epoch 4/300\n",
            "27/27 [==============================] - 0s 10ms/step - loss: 0.6944 - accuracy: 0.5173 - val_loss: 0.6970 - val_accuracy: 0.4854\n",
            "Epoch 5/300\n",
            "27/27 [==============================] - 0s 10ms/step - loss: 0.6918 - accuracy: 0.5113 - val_loss: 0.6971 - val_accuracy: 0.4902\n",
            "Epoch 6/300\n",
            "27/27 [==============================] - 0s 10ms/step - loss: 0.6904 - accuracy: 0.5209 - val_loss: 0.6944 - val_accuracy: 0.4927\n",
            "Epoch 7/300\n",
            "27/27 [==============================] - 0s 10ms/step - loss: 0.6895 - accuracy: 0.5614 - val_loss: 0.6918 - val_accuracy: 0.5122\n",
            "Epoch 8/300\n",
            "27/27 [==============================] - 0s 9ms/step - loss: 0.6902 - accuracy: 0.5268 - val_loss: 0.6915 - val_accuracy: 0.5171\n",
            "Epoch 9/300\n",
            "27/27 [==============================] - 0s 11ms/step - loss: 0.6887 - accuracy: 0.5364 - val_loss: 0.6914 - val_accuracy: 0.5220\n",
            "Epoch 10/300\n",
            "27/27 [==============================] - 0s 9ms/step - loss: 0.6889 - accuracy: 0.5292 - val_loss: 0.6917 - val_accuracy: 0.5146\n",
            "Epoch 11/300\n",
            "27/27 [==============================] - 0s 10ms/step - loss: 0.6906 - accuracy: 0.5244 - val_loss: 0.6933 - val_accuracy: 0.4854\n",
            "Epoch 12/300\n",
            "27/27 [==============================] - 0s 9ms/step - loss: 0.6901 - accuracy: 0.5173 - val_loss: 0.6950 - val_accuracy: 0.4976\n",
            "Epoch 13/300\n",
            "27/27 [==============================] - 0s 10ms/step - loss: 0.6887 - accuracy: 0.5399 - val_loss: 0.6912 - val_accuracy: 0.5171\n",
            "Epoch 14/300\n",
            "27/27 [==============================] - 0s 10ms/step - loss: 0.6906 - accuracy: 0.5101 - val_loss: 0.6927 - val_accuracy: 0.4878\n",
            "Epoch 15/300\n",
            "27/27 [==============================] - 0s 10ms/step - loss: 0.6879 - accuracy: 0.5375 - val_loss: 0.6910 - val_accuracy: 0.5244\n",
            "Epoch 16/300\n",
            "27/27 [==============================] - 0s 10ms/step - loss: 0.6879 - accuracy: 0.5292 - val_loss: 0.6913 - val_accuracy: 0.5171\n",
            "Epoch 17/300\n",
            "27/27 [==============================] - 0s 9ms/step - loss: 0.6868 - accuracy: 0.5423 - val_loss: 0.6928 - val_accuracy: 0.5000\n",
            "Epoch 18/300\n",
            "27/27 [==============================] - 0s 10ms/step - loss: 0.6861 - accuracy: 0.5542 - val_loss: 0.6953 - val_accuracy: 0.4829\n",
            "Epoch 19/300\n",
            "27/27 [==============================] - 0s 9ms/step - loss: 0.6865 - accuracy: 0.5590 - val_loss: 0.6922 - val_accuracy: 0.5220\n",
            "Epoch 20/300\n",
            "27/27 [==============================] - 0s 10ms/step - loss: 0.6872 - accuracy: 0.5292 - val_loss: 0.6903 - val_accuracy: 0.5293\n",
            "Epoch 21/300\n",
            "27/27 [==============================] - 0s 10ms/step - loss: 0.6857 - accuracy: 0.5495 - val_loss: 0.6944 - val_accuracy: 0.4854\n",
            "Epoch 22/300\n",
            "27/27 [==============================] - 0s 10ms/step - loss: 0.6862 - accuracy: 0.5483 - val_loss: 0.6928 - val_accuracy: 0.5220\n",
            "Epoch 23/300\n",
            "27/27 [==============================] - 0s 10ms/step - loss: 0.6856 - accuracy: 0.5483 - val_loss: 0.6949 - val_accuracy: 0.5024\n",
            "Epoch 24/300\n",
            "27/27 [==============================] - 0s 10ms/step - loss: 0.6850 - accuracy: 0.5542 - val_loss: 0.6918 - val_accuracy: 0.5341\n",
            "Epoch 25/300\n",
            "27/27 [==============================] - 0s 10ms/step - loss: 0.6853 - accuracy: 0.5566 - val_loss: 0.6924 - val_accuracy: 0.5220\n",
            "Epoch 26/300\n",
            "27/27 [==============================] - 0s 10ms/step - loss: 0.6841 - accuracy: 0.5626 - val_loss: 0.6984 - val_accuracy: 0.4732\n",
            "Epoch 27/300\n",
            "27/27 [==============================] - 0s 10ms/step - loss: 0.6854 - accuracy: 0.5638 - val_loss: 0.6936 - val_accuracy: 0.5220\n",
            "Epoch 28/300\n",
            "27/27 [==============================] - 0s 10ms/step - loss: 0.6845 - accuracy: 0.5435 - val_loss: 0.6933 - val_accuracy: 0.5244\n",
            "Epoch 29/300\n",
            "27/27 [==============================] - 0s 10ms/step - loss: 0.6839 - accuracy: 0.5626 - val_loss: 0.6923 - val_accuracy: 0.5366\n",
            "Epoch 30/300\n",
            "27/27 [==============================] - 0s 9ms/step - loss: 0.6841 - accuracy: 0.5662 - val_loss: 0.7001 - val_accuracy: 0.5146\n",
            "Epoch 31/300\n",
            "27/27 [==============================] - 0s 10ms/step - loss: 0.6824 - accuracy: 0.5685 - val_loss: 0.6934 - val_accuracy: 0.5317\n",
            "Epoch 32/300\n",
            "27/27 [==============================] - 0s 9ms/step - loss: 0.6849 - accuracy: 0.5673 - val_loss: 0.6951 - val_accuracy: 0.5268\n",
            "Epoch 33/300\n",
            "27/27 [==============================] - 0s 11ms/step - loss: 0.6818 - accuracy: 0.5602 - val_loss: 0.6940 - val_accuracy: 0.5268\n",
            "Epoch 34/300\n",
            "27/27 [==============================] - 0s 9ms/step - loss: 0.6810 - accuracy: 0.5614 - val_loss: 0.6986 - val_accuracy: 0.5073\n",
            "Epoch 35/300\n",
            "27/27 [==============================] - 0s 10ms/step - loss: 0.6810 - accuracy: 0.5614 - val_loss: 0.7012 - val_accuracy: 0.4902\n",
            "Epoch 36/300\n",
            "27/27 [==============================] - 0s 11ms/step - loss: 0.6811 - accuracy: 0.5578 - val_loss: 0.6944 - val_accuracy: 0.5268\n",
            "Epoch 37/300\n",
            "27/27 [==============================] - 0s 10ms/step - loss: 0.6816 - accuracy: 0.5793 - val_loss: 0.6993 - val_accuracy: 0.4951\n",
            "Epoch 38/300\n",
            "27/27 [==============================] - 0s 10ms/step - loss: 0.6825 - accuracy: 0.5626 - val_loss: 0.6948 - val_accuracy: 0.5171\n",
            "Epoch 39/300\n",
            "27/27 [==============================] - 0s 11ms/step - loss: 0.6806 - accuracy: 0.5697 - val_loss: 0.7041 - val_accuracy: 0.5098\n",
            "Epoch 40/300\n",
            "27/27 [==============================] - 0s 9ms/step - loss: 0.6824 - accuracy: 0.5662 - val_loss: 0.7022 - val_accuracy: 0.5049\n",
            "Epoch 41/300\n",
            "27/27 [==============================] - 0s 9ms/step - loss: 0.6781 - accuracy: 0.5828 - val_loss: 0.6948 - val_accuracy: 0.5341\n",
            "Epoch 42/300\n",
            "27/27 [==============================] - 0s 10ms/step - loss: 0.6790 - accuracy: 0.5757 - val_loss: 0.6944 - val_accuracy: 0.5293\n",
            "Epoch 43/300\n",
            "27/27 [==============================] - 0s 10ms/step - loss: 0.6812 - accuracy: 0.5614 - val_loss: 0.6967 - val_accuracy: 0.5195\n",
            "Epoch 44/300\n",
            "27/27 [==============================] - 0s 10ms/step - loss: 0.6767 - accuracy: 0.5697 - val_loss: 0.6946 - val_accuracy: 0.5244\n",
            "Epoch 45/300\n",
            "27/27 [==============================] - 0s 10ms/step - loss: 0.6761 - accuracy: 0.5650 - val_loss: 0.6961 - val_accuracy: 0.5195\n",
            "Epoch 46/300\n",
            "27/27 [==============================] - 0s 10ms/step - loss: 0.6774 - accuracy: 0.5518 - val_loss: 0.6993 - val_accuracy: 0.5049\n",
            "Epoch 47/300\n",
            "27/27 [==============================] - 0s 11ms/step - loss: 0.6733 - accuracy: 0.5685 - val_loss: 0.6960 - val_accuracy: 0.5244\n",
            "Epoch 48/300\n",
            "27/27 [==============================] - 0s 10ms/step - loss: 0.6726 - accuracy: 0.5757 - val_loss: 0.6987 - val_accuracy: 0.5195\n",
            "Epoch 49/300\n",
            "27/27 [==============================] - 0s 9ms/step - loss: 0.6748 - accuracy: 0.5709 - val_loss: 0.7000 - val_accuracy: 0.5073\n",
            "Epoch 50/300\n",
            "27/27 [==============================] - 0s 11ms/step - loss: 0.6745 - accuracy: 0.5816 - val_loss: 0.7007 - val_accuracy: 0.5049\n",
            "Epoch 51/300\n",
            "27/27 [==============================] - 0s 10ms/step - loss: 0.6722 - accuracy: 0.5876 - val_loss: 0.7008 - val_accuracy: 0.5024\n",
            "Epoch 52/300\n",
            "27/27 [==============================] - 0s 10ms/step - loss: 0.6699 - accuracy: 0.5650 - val_loss: 0.6984 - val_accuracy: 0.5073\n",
            "Epoch 53/300\n",
            "27/27 [==============================] - 0s 9ms/step - loss: 0.6680 - accuracy: 0.5733 - val_loss: 0.7036 - val_accuracy: 0.4976\n",
            "Epoch 54/300\n",
            "27/27 [==============================] - 0s 10ms/step - loss: 0.6674 - accuracy: 0.5828 - val_loss: 0.7022 - val_accuracy: 0.5049\n",
            "Epoch 55/300\n",
            "27/27 [==============================] - 0s 10ms/step - loss: 0.6674 - accuracy: 0.5816 - val_loss: 0.7037 - val_accuracy: 0.4927\n",
            "Epoch 56/300\n",
            "27/27 [==============================] - 0s 11ms/step - loss: 0.6654 - accuracy: 0.5816 - val_loss: 0.7064 - val_accuracy: 0.4829\n",
            "Epoch 57/300\n",
            "27/27 [==============================] - 0s 10ms/step - loss: 0.6669 - accuracy: 0.5924 - val_loss: 0.7089 - val_accuracy: 0.4976\n",
            "Epoch 58/300\n",
            "27/27 [==============================] - 0s 10ms/step - loss: 0.6638 - accuracy: 0.5900 - val_loss: 0.7073 - val_accuracy: 0.4902\n",
            "Epoch 59/300\n",
            "27/27 [==============================] - 0s 10ms/step - loss: 0.6646 - accuracy: 0.5828 - val_loss: 0.7089 - val_accuracy: 0.4732\n",
            "Epoch 60/300\n",
            "27/27 [==============================] - 0s 10ms/step - loss: 0.6624 - accuracy: 0.5995 - val_loss: 0.7034 - val_accuracy: 0.4780\n",
            "Epoch 61/300\n",
            "27/27 [==============================] - 0s 10ms/step - loss: 0.6608 - accuracy: 0.5971 - val_loss: 0.7084 - val_accuracy: 0.4927\n",
            "Epoch 62/300\n",
            "27/27 [==============================] - 0s 10ms/step - loss: 0.6584 - accuracy: 0.6007 - val_loss: 0.7130 - val_accuracy: 0.4829\n",
            "Epoch 63/300\n",
            "27/27 [==============================] - 0s 10ms/step - loss: 0.6578 - accuracy: 0.5959 - val_loss: 0.7123 - val_accuracy: 0.4951\n",
            "Epoch 64/300\n",
            "27/27 [==============================] - 0s 11ms/step - loss: 0.6615 - accuracy: 0.6019 - val_loss: 0.7087 - val_accuracy: 0.4951\n",
            "Epoch 65/300\n",
            "27/27 [==============================] - 0s 9ms/step - loss: 0.6564 - accuracy: 0.6162 - val_loss: 0.7084 - val_accuracy: 0.4927\n",
            "Epoch 66/300\n",
            "27/27 [==============================] - 0s 10ms/step - loss: 0.6534 - accuracy: 0.6079 - val_loss: 0.7109 - val_accuracy: 0.4927\n",
            "Epoch 67/300\n",
            "27/27 [==============================] - 0s 10ms/step - loss: 0.6539 - accuracy: 0.6198 - val_loss: 0.7084 - val_accuracy: 0.4829\n",
            "Epoch 68/300\n",
            "27/27 [==============================] - 0s 11ms/step - loss: 0.6513 - accuracy: 0.5983 - val_loss: 0.7101 - val_accuracy: 0.4902\n",
            "Epoch 69/300\n",
            "27/27 [==============================] - 0s 9ms/step - loss: 0.6545 - accuracy: 0.6222 - val_loss: 0.7213 - val_accuracy: 0.4878\n",
            "Epoch 70/300\n",
            "27/27 [==============================] - 0s 9ms/step - loss: 0.6529 - accuracy: 0.6055 - val_loss: 0.7150 - val_accuracy: 0.4829\n",
            "Epoch 71/300\n",
            "27/27 [==============================] - 0s 10ms/step - loss: 0.6459 - accuracy: 0.6281 - val_loss: 0.7158 - val_accuracy: 0.4756\n",
            "Epoch 72/300\n",
            "27/27 [==============================] - 0s 12ms/step - loss: 0.6474 - accuracy: 0.6079 - val_loss: 0.7183 - val_accuracy: 0.4780\n",
            "Epoch 73/300\n",
            "27/27 [==============================] - 0s 10ms/step - loss: 0.6455 - accuracy: 0.6114 - val_loss: 0.7201 - val_accuracy: 0.4683\n",
            "Epoch 74/300\n",
            "27/27 [==============================] - 0s 10ms/step - loss: 0.6417 - accuracy: 0.6162 - val_loss: 0.7180 - val_accuracy: 0.4805\n",
            "Epoch 75/300\n",
            "27/27 [==============================] - 0s 10ms/step - loss: 0.6403 - accuracy: 0.6138 - val_loss: 0.7203 - val_accuracy: 0.4902\n",
            "Epoch 76/300\n",
            "27/27 [==============================] - 0s 11ms/step - loss: 0.6411 - accuracy: 0.6222 - val_loss: 0.7257 - val_accuracy: 0.4634\n",
            "Epoch 77/300\n",
            "27/27 [==============================] - 0s 9ms/step - loss: 0.6379 - accuracy: 0.6389 - val_loss: 0.7210 - val_accuracy: 0.4805\n",
            "Epoch 78/300\n",
            "27/27 [==============================] - 0s 11ms/step - loss: 0.6371 - accuracy: 0.6329 - val_loss: 0.7194 - val_accuracy: 0.4634\n",
            "Epoch 79/300\n",
            "27/27 [==============================] - 0s 10ms/step - loss: 0.6364 - accuracy: 0.6365 - val_loss: 0.7277 - val_accuracy: 0.4756\n",
            "Epoch 80/300\n",
            "27/27 [==============================] - 0s 10ms/step - loss: 0.6397 - accuracy: 0.6305 - val_loss: 0.7206 - val_accuracy: 0.4951\n",
            "Epoch 81/300\n",
            "27/27 [==============================] - 0s 10ms/step - loss: 0.6354 - accuracy: 0.6210 - val_loss: 0.7173 - val_accuracy: 0.4756\n",
            "Epoch 82/300\n",
            "27/27 [==============================] - 0s 10ms/step - loss: 0.6337 - accuracy: 0.6329 - val_loss: 0.7198 - val_accuracy: 0.4780\n",
            "Epoch 83/300\n",
            "27/27 [==============================] - 0s 10ms/step - loss: 0.6310 - accuracy: 0.6353 - val_loss: 0.7279 - val_accuracy: 0.4854\n",
            "Epoch 84/300\n",
            "27/27 [==============================] - 0s 10ms/step - loss: 0.6266 - accuracy: 0.6389 - val_loss: 0.7288 - val_accuracy: 0.4878\n",
            "Epoch 85/300\n",
            "27/27 [==============================] - 0s 10ms/step - loss: 0.6306 - accuracy: 0.6305 - val_loss: 0.7307 - val_accuracy: 0.4659\n",
            "Epoch 86/300\n",
            "27/27 [==============================] - 0s 10ms/step - loss: 0.6233 - accuracy: 0.6353 - val_loss: 0.7316 - val_accuracy: 0.4805\n",
            "Epoch 87/300\n",
            "27/27 [==============================] - 0s 10ms/step - loss: 0.6233 - accuracy: 0.6496 - val_loss: 0.7349 - val_accuracy: 0.4732\n",
            "Epoch 88/300\n",
            "27/27 [==============================] - 0s 11ms/step - loss: 0.6195 - accuracy: 0.6400 - val_loss: 0.7304 - val_accuracy: 0.4854\n",
            "Epoch 89/300\n",
            "27/27 [==============================] - 0s 10ms/step - loss: 0.6190 - accuracy: 0.6400 - val_loss: 0.7340 - val_accuracy: 0.4683\n",
            "Epoch 90/300\n",
            "27/27 [==============================] - 0s 10ms/step - loss: 0.6169 - accuracy: 0.6389 - val_loss: 0.7348 - val_accuracy: 0.4902\n",
            "Epoch 91/300\n",
            "27/27 [==============================] - 0s 10ms/step - loss: 0.6144 - accuracy: 0.6496 - val_loss: 0.7374 - val_accuracy: 0.4756\n",
            "Epoch 92/300\n",
            "27/27 [==============================] - 0s 10ms/step - loss: 0.6151 - accuracy: 0.6460 - val_loss: 0.7464 - val_accuracy: 0.4659\n",
            "Epoch 93/300\n",
            "27/27 [==============================] - 0s 11ms/step - loss: 0.6165 - accuracy: 0.6579 - val_loss: 0.7385 - val_accuracy: 0.4585\n",
            "Epoch 94/300\n",
            "27/27 [==============================] - 0s 10ms/step - loss: 0.6085 - accuracy: 0.6484 - val_loss: 0.7461 - val_accuracy: 0.4634\n",
            "Epoch 95/300\n",
            "27/27 [==============================] - 0s 10ms/step - loss: 0.6091 - accuracy: 0.6544 - val_loss: 0.7536 - val_accuracy: 0.4732\n",
            "Epoch 96/300\n",
            "27/27 [==============================] - 0s 12ms/step - loss: 0.6054 - accuracy: 0.6520 - val_loss: 0.7410 - val_accuracy: 0.4829\n",
            "Epoch 97/300\n",
            "27/27 [==============================] - 0s 11ms/step - loss: 0.6056 - accuracy: 0.6663 - val_loss: 0.7595 - val_accuracy: 0.4585\n",
            "Epoch 98/300\n",
            "27/27 [==============================] - 0s 10ms/step - loss: 0.6001 - accuracy: 0.6722 - val_loss: 0.7549 - val_accuracy: 0.4805\n",
            "Epoch 99/300\n",
            "27/27 [==============================] - 0s 10ms/step - loss: 0.5993 - accuracy: 0.6555 - val_loss: 0.7594 - val_accuracy: 0.4610\n",
            "Epoch 100/300\n",
            "27/27 [==============================] - 0s 10ms/step - loss: 0.5952 - accuracy: 0.6722 - val_loss: 0.7531 - val_accuracy: 0.4902\n",
            "Epoch 101/300\n",
            "27/27 [==============================] - 0s 10ms/step - loss: 0.5948 - accuracy: 0.6651 - val_loss: 0.7625 - val_accuracy: 0.4780\n",
            "Epoch 102/300\n",
            "27/27 [==============================] - 0s 10ms/step - loss: 0.5925 - accuracy: 0.6722 - val_loss: 0.7623 - val_accuracy: 0.5000\n",
            "Epoch 103/300\n",
            "27/27 [==============================] - 0s 11ms/step - loss: 0.5906 - accuracy: 0.6746 - val_loss: 0.7652 - val_accuracy: 0.4829\n",
            "Epoch 104/300\n",
            "27/27 [==============================] - 0s 10ms/step - loss: 0.5857 - accuracy: 0.6794 - val_loss: 0.7647 - val_accuracy: 0.4927\n",
            "Epoch 105/300\n",
            "27/27 [==============================] - 0s 10ms/step - loss: 0.5846 - accuracy: 0.6818 - val_loss: 0.7711 - val_accuracy: 0.4683\n",
            "Epoch 106/300\n",
            "27/27 [==============================] - 0s 11ms/step - loss: 0.5808 - accuracy: 0.6830 - val_loss: 0.7815 - val_accuracy: 0.4610\n",
            "Epoch 107/300\n",
            "27/27 [==============================] - 0s 11ms/step - loss: 0.5815 - accuracy: 0.6698 - val_loss: 0.7701 - val_accuracy: 0.4878\n",
            "Epoch 108/300\n",
            "27/27 [==============================] - 0s 11ms/step - loss: 0.5802 - accuracy: 0.6913 - val_loss: 0.7753 - val_accuracy: 0.4732\n",
            "Epoch 109/300\n",
            "27/27 [==============================] - 0s 10ms/step - loss: 0.5756 - accuracy: 0.6877 - val_loss: 0.7737 - val_accuracy: 0.4659\n",
            "Epoch 110/300\n",
            "27/27 [==============================] - 0s 11ms/step - loss: 0.5714 - accuracy: 0.6973 - val_loss: 0.7740 - val_accuracy: 0.4780\n",
            "Epoch 111/300\n",
            "27/27 [==============================] - 0s 10ms/step - loss: 0.5674 - accuracy: 0.7032 - val_loss: 0.7954 - val_accuracy: 0.4585\n",
            "Epoch 112/300\n",
            "27/27 [==============================] - 0s 10ms/step - loss: 0.5758 - accuracy: 0.6758 - val_loss: 0.7850 - val_accuracy: 0.4902\n",
            "Epoch 113/300\n",
            "27/27 [==============================] - 0s 9ms/step - loss: 0.5664 - accuracy: 0.6973 - val_loss: 0.7875 - val_accuracy: 0.4854\n",
            "Epoch 114/300\n",
            "27/27 [==============================] - 0s 10ms/step - loss: 0.5628 - accuracy: 0.6770 - val_loss: 0.7838 - val_accuracy: 0.5000\n",
            "Epoch 115/300\n",
            "27/27 [==============================] - 0s 10ms/step - loss: 0.5665 - accuracy: 0.6973 - val_loss: 0.7845 - val_accuracy: 0.4927\n",
            "Epoch 116/300\n",
            "27/27 [==============================] - 0s 10ms/step - loss: 0.5592 - accuracy: 0.6961 - val_loss: 0.7907 - val_accuracy: 0.5000\n",
            "Epoch 117/300\n",
            "27/27 [==============================] - 0s 10ms/step - loss: 0.5541 - accuracy: 0.6949 - val_loss: 0.8075 - val_accuracy: 0.4610\n",
            "Epoch 118/300\n",
            "27/27 [==============================] - 0s 10ms/step - loss: 0.5611 - accuracy: 0.6925 - val_loss: 0.8095 - val_accuracy: 0.4732\n",
            "Epoch 119/300\n",
            "27/27 [==============================] - 0s 10ms/step - loss: 0.5583 - accuracy: 0.6996 - val_loss: 0.7928 - val_accuracy: 0.4951\n",
            "Epoch 120/300\n",
            "27/27 [==============================] - 0s 10ms/step - loss: 0.5522 - accuracy: 0.6961 - val_loss: 0.7989 - val_accuracy: 0.4951\n",
            "Epoch 121/300\n",
            "27/27 [==============================] - 0s 11ms/step - loss: 0.5549 - accuracy: 0.7020 - val_loss: 0.8083 - val_accuracy: 0.5049\n",
            "Epoch 122/300\n",
            "27/27 [==============================] - 0s 10ms/step - loss: 0.5448 - accuracy: 0.7080 - val_loss: 0.8096 - val_accuracy: 0.4829\n",
            "Epoch 123/300\n",
            "27/27 [==============================] - 0s 10ms/step - loss: 0.5507 - accuracy: 0.6925 - val_loss: 0.8125 - val_accuracy: 0.4780\n",
            "Epoch 124/300\n",
            "27/27 [==============================] - 0s 11ms/step - loss: 0.5530 - accuracy: 0.6818 - val_loss: 0.7843 - val_accuracy: 0.4780\n",
            "Epoch 125/300\n",
            "27/27 [==============================] - 0s 10ms/step - loss: 0.5442 - accuracy: 0.7056 - val_loss: 0.8026 - val_accuracy: 0.4878\n",
            "Epoch 126/300\n",
            "27/27 [==============================] - 0s 10ms/step - loss: 0.5346 - accuracy: 0.7211 - val_loss: 0.8149 - val_accuracy: 0.4732\n",
            "Epoch 127/300\n",
            "27/27 [==============================] - 0s 10ms/step - loss: 0.5333 - accuracy: 0.7187 - val_loss: 0.8258 - val_accuracy: 0.4854\n",
            "Epoch 128/300\n",
            "27/27 [==============================] - 0s 10ms/step - loss: 0.5371 - accuracy: 0.7247 - val_loss: 0.8270 - val_accuracy: 0.4878\n",
            "Epoch 129/300\n",
            "27/27 [==============================] - 0s 10ms/step - loss: 0.5273 - accuracy: 0.7366 - val_loss: 0.8248 - val_accuracy: 0.4878\n",
            "Epoch 130/300\n",
            "27/27 [==============================] - 0s 10ms/step - loss: 0.5247 - accuracy: 0.7271 - val_loss: 0.8281 - val_accuracy: 0.4878\n",
            "Epoch 131/300\n",
            "27/27 [==============================] - 0s 10ms/step - loss: 0.5212 - accuracy: 0.7199 - val_loss: 0.8258 - val_accuracy: 0.4902\n",
            "Epoch 132/300\n",
            "27/27 [==============================] - 0s 11ms/step - loss: 0.5180 - accuracy: 0.7139 - val_loss: 0.8114 - val_accuracy: 0.5122\n",
            "Epoch 133/300\n",
            "27/27 [==============================] - 0s 9ms/step - loss: 0.5124 - accuracy: 0.7318 - val_loss: 0.8410 - val_accuracy: 0.4927\n",
            "Epoch 134/300\n",
            "27/27 [==============================] - 0s 10ms/step - loss: 0.5157 - accuracy: 0.7402 - val_loss: 0.8462 - val_accuracy: 0.4854\n",
            "Epoch 135/300\n",
            "27/27 [==============================] - 0s 11ms/step - loss: 0.5227 - accuracy: 0.7247 - val_loss: 0.8354 - val_accuracy: 0.5073\n",
            "Epoch 136/300\n",
            "27/27 [==============================] - 0s 10ms/step - loss: 0.5138 - accuracy: 0.7318 - val_loss: 0.8251 - val_accuracy: 0.5000\n",
            "Epoch 137/300\n",
            "27/27 [==============================] - 0s 10ms/step - loss: 0.5061 - accuracy: 0.7426 - val_loss: 0.8375 - val_accuracy: 0.5000\n",
            "Epoch 138/300\n",
            "27/27 [==============================] - 0s 10ms/step - loss: 0.5005 - accuracy: 0.7533 - val_loss: 0.8345 - val_accuracy: 0.5024\n",
            "Epoch 139/300\n",
            "27/27 [==============================] - 0s 11ms/step - loss: 0.4978 - accuracy: 0.7485 - val_loss: 0.8402 - val_accuracy: 0.4951\n",
            "Epoch 140/300\n",
            "27/27 [==============================] - 0s 10ms/step - loss: 0.4983 - accuracy: 0.7485 - val_loss: 0.8493 - val_accuracy: 0.5195\n",
            "Epoch 141/300\n",
            "27/27 [==============================] - 0s 9ms/step - loss: 0.4975 - accuracy: 0.7509 - val_loss: 0.8504 - val_accuracy: 0.5098\n",
            "Epoch 142/300\n",
            "27/27 [==============================] - 0s 10ms/step - loss: 0.4973 - accuracy: 0.7437 - val_loss: 0.8603 - val_accuracy: 0.4902\n",
            "Epoch 143/300\n",
            "27/27 [==============================] - 0s 10ms/step - loss: 0.4876 - accuracy: 0.7449 - val_loss: 0.8573 - val_accuracy: 0.5073\n",
            "Epoch 144/300\n",
            "27/27 [==============================] - 0s 10ms/step - loss: 0.4905 - accuracy: 0.7509 - val_loss: 0.8554 - val_accuracy: 0.4732\n",
            "Epoch 145/300\n",
            "27/27 [==============================] - 0s 9ms/step - loss: 0.4857 - accuracy: 0.7485 - val_loss: 0.8658 - val_accuracy: 0.4976\n",
            "Epoch 146/300\n",
            "27/27 [==============================] - 0s 11ms/step - loss: 0.4813 - accuracy: 0.7569 - val_loss: 0.8703 - val_accuracy: 0.4951\n",
            "Epoch 147/300\n",
            "27/27 [==============================] - 0s 10ms/step - loss: 0.4787 - accuracy: 0.7616 - val_loss: 0.8592 - val_accuracy: 0.5049\n",
            "Epoch 148/300\n",
            "27/27 [==============================] - 0s 9ms/step - loss: 0.4826 - accuracy: 0.7545 - val_loss: 0.8726 - val_accuracy: 0.4878\n",
            "Epoch 149/300\n",
            "27/27 [==============================] - 0s 10ms/step - loss: 0.4723 - accuracy: 0.7616 - val_loss: 0.8756 - val_accuracy: 0.5049\n",
            "Epoch 150/300\n",
            "27/27 [==============================] - 0s 10ms/step - loss: 0.4707 - accuracy: 0.7723 - val_loss: 0.8626 - val_accuracy: 0.5098\n",
            "Epoch 151/300\n",
            "27/27 [==============================] - 0s 10ms/step - loss: 0.4560 - accuracy: 0.7795 - val_loss: 0.8830 - val_accuracy: 0.5024\n",
            "Epoch 152/300\n",
            "27/27 [==============================] - 0s 10ms/step - loss: 0.4697 - accuracy: 0.7640 - val_loss: 0.9142 - val_accuracy: 0.4927\n",
            "Epoch 153/300\n",
            "27/27 [==============================] - 0s 10ms/step - loss: 0.4709 - accuracy: 0.7592 - val_loss: 0.9079 - val_accuracy: 0.4854\n",
            "Epoch 154/300\n",
            "27/27 [==============================] - 0s 9ms/step - loss: 0.4663 - accuracy: 0.7604 - val_loss: 0.8900 - val_accuracy: 0.5049\n",
            "Epoch 155/300\n",
            "27/27 [==============================] - 0s 10ms/step - loss: 0.4566 - accuracy: 0.7831 - val_loss: 0.8965 - val_accuracy: 0.4878\n",
            "Epoch 156/300\n",
            "27/27 [==============================] - 0s 11ms/step - loss: 0.4498 - accuracy: 0.7819 - val_loss: 0.8946 - val_accuracy: 0.5171\n",
            "Epoch 157/300\n",
            "27/27 [==============================] - 0s 12ms/step - loss: 0.4412 - accuracy: 0.7974 - val_loss: 0.8901 - val_accuracy: 0.5195\n",
            "Epoch 158/300\n",
            "27/27 [==============================] - 0s 9ms/step - loss: 0.4445 - accuracy: 0.7783 - val_loss: 0.9022 - val_accuracy: 0.5171\n",
            "Epoch 159/300\n",
            "27/27 [==============================] - 0s 10ms/step - loss: 0.4425 - accuracy: 0.7938 - val_loss: 0.9168 - val_accuracy: 0.5049\n",
            "Epoch 160/300\n",
            "27/27 [==============================] - 0s 10ms/step - loss: 0.4332 - accuracy: 0.7843 - val_loss: 0.9212 - val_accuracy: 0.4854\n",
            "Epoch 161/300\n",
            "27/27 [==============================] - 0s 10ms/step - loss: 0.4345 - accuracy: 0.7962 - val_loss: 0.9171 - val_accuracy: 0.5000\n",
            "Epoch 162/300\n",
            "27/27 [==============================] - 0s 9ms/step - loss: 0.4393 - accuracy: 0.7855 - val_loss: 0.8956 - val_accuracy: 0.5171\n",
            "Epoch 163/300\n",
            "27/27 [==============================] - 0s 11ms/step - loss: 0.4282 - accuracy: 0.7855 - val_loss: 0.9117 - val_accuracy: 0.5049\n",
            "Epoch 164/300\n",
            "27/27 [==============================] - 0s 11ms/step - loss: 0.4199 - accuracy: 0.8033 - val_loss: 0.9085 - val_accuracy: 0.5098\n",
            "Epoch 165/300\n",
            "27/27 [==============================] - 0s 11ms/step - loss: 0.4207 - accuracy: 0.7998 - val_loss: 0.9247 - val_accuracy: 0.4976\n",
            "Epoch 166/300\n",
            "27/27 [==============================] - 0s 9ms/step - loss: 0.4154 - accuracy: 0.8045 - val_loss: 0.9139 - val_accuracy: 0.5098\n",
            "Epoch 167/300\n",
            "27/27 [==============================] - 0s 10ms/step - loss: 0.4121 - accuracy: 0.8033 - val_loss: 0.9313 - val_accuracy: 0.5024\n",
            "Epoch 168/300\n",
            "27/27 [==============================] - 0s 11ms/step - loss: 0.4050 - accuracy: 0.8117 - val_loss: 0.9424 - val_accuracy: 0.5024\n",
            "Epoch 169/300\n",
            "27/27 [==============================] - 0s 10ms/step - loss: 0.4063 - accuracy: 0.8117 - val_loss: 0.9469 - val_accuracy: 0.4927\n",
            "Epoch 170/300\n",
            "27/27 [==============================] - 0s 11ms/step - loss: 0.4000 - accuracy: 0.8129 - val_loss: 0.9352 - val_accuracy: 0.5146\n",
            "Epoch 171/300\n",
            "27/27 [==============================] - 0s 10ms/step - loss: 0.3977 - accuracy: 0.8272 - val_loss: 0.9491 - val_accuracy: 0.5268\n",
            "Epoch 172/300\n",
            "27/27 [==============================] - 0s 11ms/step - loss: 0.3971 - accuracy: 0.8081 - val_loss: 0.9552 - val_accuracy: 0.4951\n",
            "Epoch 173/300\n",
            "27/27 [==============================] - 0s 10ms/step - loss: 0.3884 - accuracy: 0.8176 - val_loss: 0.9285 - val_accuracy: 0.5195\n",
            "Epoch 174/300\n",
            "27/27 [==============================] - 0s 10ms/step - loss: 0.3931 - accuracy: 0.8248 - val_loss: 1.0006 - val_accuracy: 0.4951\n",
            "Epoch 175/300\n",
            "27/27 [==============================] - 0s 10ms/step - loss: 0.4129 - accuracy: 0.7962 - val_loss: 0.9179 - val_accuracy: 0.5122\n",
            "Epoch 176/300\n",
            "27/27 [==============================] - 0s 10ms/step - loss: 0.3989 - accuracy: 0.8033 - val_loss: 0.9473 - val_accuracy: 0.5024\n",
            "Epoch 177/300\n",
            "27/27 [==============================] - 0s 10ms/step - loss: 0.3832 - accuracy: 0.8260 - val_loss: 0.9429 - val_accuracy: 0.5171\n",
            "Epoch 178/300\n",
            "27/27 [==============================] - 0s 10ms/step - loss: 0.3830 - accuracy: 0.8153 - val_loss: 0.9685 - val_accuracy: 0.5195\n",
            "Epoch 179/300\n",
            "27/27 [==============================] - 0s 11ms/step - loss: 0.3716 - accuracy: 0.8319 - val_loss: 0.9575 - val_accuracy: 0.5220\n",
            "Epoch 180/300\n",
            "27/27 [==============================] - 0s 9ms/step - loss: 0.3727 - accuracy: 0.8308 - val_loss: 0.9607 - val_accuracy: 0.5122\n",
            "Epoch 181/300\n",
            "27/27 [==============================] - 0s 10ms/step - loss: 0.3665 - accuracy: 0.8284 - val_loss: 0.9759 - val_accuracy: 0.5195\n",
            "Epoch 182/300\n",
            "27/27 [==============================] - 0s 10ms/step - loss: 0.3651 - accuracy: 0.8200 - val_loss: 0.9653 - val_accuracy: 0.5073\n",
            "Epoch 183/300\n",
            "27/27 [==============================] - 0s 10ms/step - loss: 0.3640 - accuracy: 0.8355 - val_loss: 0.9551 - val_accuracy: 0.5220\n",
            "Epoch 184/300\n",
            "27/27 [==============================] - 0s 10ms/step - loss: 0.3565 - accuracy: 0.8403 - val_loss: 0.9700 - val_accuracy: 0.5244\n",
            "Epoch 185/300\n",
            "27/27 [==============================] - 0s 11ms/step - loss: 0.3558 - accuracy: 0.8331 - val_loss: 0.9987 - val_accuracy: 0.5220\n",
            "Epoch 186/300\n",
            "27/27 [==============================] - 0s 10ms/step - loss: 0.3568 - accuracy: 0.8391 - val_loss: 0.9732 - val_accuracy: 0.5171\n",
            "Epoch 187/300\n",
            "27/27 [==============================] - 0s 10ms/step - loss: 0.3525 - accuracy: 0.8415 - val_loss: 0.9782 - val_accuracy: 0.5195\n",
            "Epoch 188/300\n",
            "27/27 [==============================] - 0s 11ms/step - loss: 0.3442 - accuracy: 0.8403 - val_loss: 1.0075 - val_accuracy: 0.5317\n",
            "Epoch 189/300\n",
            "27/27 [==============================] - 0s 10ms/step - loss: 0.3509 - accuracy: 0.8439 - val_loss: 0.9915 - val_accuracy: 0.5341\n",
            "Epoch 190/300\n",
            "27/27 [==============================] - 0s 11ms/step - loss: 0.3494 - accuracy: 0.8379 - val_loss: 1.0005 - val_accuracy: 0.5268\n",
            "Epoch 191/300\n",
            "27/27 [==============================] - 0s 11ms/step - loss: 0.3364 - accuracy: 0.8570 - val_loss: 1.0160 - val_accuracy: 0.5122\n",
            "Epoch 192/300\n",
            "27/27 [==============================] - 0s 11ms/step - loss: 0.3347 - accuracy: 0.8486 - val_loss: 1.0143 - val_accuracy: 0.5293\n",
            "Epoch 193/300\n",
            "27/27 [==============================] - 0s 9ms/step - loss: 0.3246 - accuracy: 0.8629 - val_loss: 1.0066 - val_accuracy: 0.5220\n",
            "Epoch 194/300\n",
            "27/27 [==============================] - 0s 10ms/step - loss: 0.3296 - accuracy: 0.8486 - val_loss: 1.0121 - val_accuracy: 0.5293\n",
            "Epoch 195/300\n",
            "27/27 [==============================] - 0s 10ms/step - loss: 0.3278 - accuracy: 0.8582 - val_loss: 1.0104 - val_accuracy: 0.5317\n",
            "Epoch 196/300\n",
            "27/27 [==============================] - 0s 11ms/step - loss: 0.3322 - accuracy: 0.8546 - val_loss: 1.0404 - val_accuracy: 0.5195\n",
            "Epoch 197/300\n",
            "27/27 [==============================] - 0s 10ms/step - loss: 0.3456 - accuracy: 0.8391 - val_loss: 1.0276 - val_accuracy: 0.5317\n",
            "Epoch 198/300\n",
            "27/27 [==============================] - 0s 10ms/step - loss: 0.3253 - accuracy: 0.8522 - val_loss: 1.0160 - val_accuracy: 0.5293\n",
            "Epoch 199/300\n",
            "27/27 [==============================] - 0s 10ms/step - loss: 0.3467 - accuracy: 0.8391 - val_loss: 1.0500 - val_accuracy: 0.5244\n",
            "Epoch 200/300\n",
            "27/27 [==============================] - 0s 11ms/step - loss: 0.3133 - accuracy: 0.8629 - val_loss: 1.0262 - val_accuracy: 0.5317\n",
            "Epoch 201/300\n",
            "27/27 [==============================] - 0s 10ms/step - loss: 0.3099 - accuracy: 0.8641 - val_loss: 1.0388 - val_accuracy: 0.5317\n",
            "Epoch 202/300\n",
            "27/27 [==============================] - 0s 10ms/step - loss: 0.3047 - accuracy: 0.8725 - val_loss: 1.0499 - val_accuracy: 0.5366\n",
            "Epoch 203/300\n",
            "27/27 [==============================] - 0s 11ms/step - loss: 0.3123 - accuracy: 0.8594 - val_loss: 1.0317 - val_accuracy: 0.5171\n",
            "Epoch 204/300\n",
            "27/27 [==============================] - 0s 10ms/step - loss: 0.3039 - accuracy: 0.8641 - val_loss: 1.0214 - val_accuracy: 0.5146\n",
            "Epoch 205/300\n",
            "27/27 [==============================] - 0s 10ms/step - loss: 0.3181 - accuracy: 0.8510 - val_loss: 1.0993 - val_accuracy: 0.5098\n",
            "Epoch 206/300\n",
            "27/27 [==============================] - 0s 11ms/step - loss: 0.3054 - accuracy: 0.8605 - val_loss: 1.0647 - val_accuracy: 0.5341\n",
            "Epoch 207/300\n",
            "27/27 [==============================] - 0s 10ms/step - loss: 0.3084 - accuracy: 0.8653 - val_loss: 1.0216 - val_accuracy: 0.5293\n",
            "Epoch 208/300\n",
            "27/27 [==============================] - 0s 10ms/step - loss: 0.2957 - accuracy: 0.8772 - val_loss: 1.0499 - val_accuracy: 0.5293\n",
            "Epoch 209/300\n",
            "27/27 [==============================] - 0s 10ms/step - loss: 0.2933 - accuracy: 0.8689 - val_loss: 1.0564 - val_accuracy: 0.5293\n",
            "Epoch 210/300\n",
            "27/27 [==============================] - 0s 9ms/step - loss: 0.2886 - accuracy: 0.8796 - val_loss: 1.0536 - val_accuracy: 0.5341\n",
            "Epoch 211/300\n",
            "27/27 [==============================] - 0s 10ms/step - loss: 0.2864 - accuracy: 0.8701 - val_loss: 1.0561 - val_accuracy: 0.5073\n",
            "Epoch 212/300\n",
            "27/27 [==============================] - 0s 10ms/step - loss: 0.2842 - accuracy: 0.8772 - val_loss: 1.0499 - val_accuracy: 0.5171\n",
            "Epoch 213/300\n",
            "27/27 [==============================] - 0s 11ms/step - loss: 0.2917 - accuracy: 0.8701 - val_loss: 1.1155 - val_accuracy: 0.5293\n",
            "Epoch 214/300\n",
            "27/27 [==============================] - 0s 11ms/step - loss: 0.2922 - accuracy: 0.8713 - val_loss: 1.0933 - val_accuracy: 0.5171\n",
            "Epoch 215/300\n",
            "27/27 [==============================] - 0s 9ms/step - loss: 0.2821 - accuracy: 0.8784 - val_loss: 1.0594 - val_accuracy: 0.5146\n",
            "Epoch 216/300\n",
            "27/27 [==============================] - 0s 10ms/step - loss: 0.2732 - accuracy: 0.8856 - val_loss: 1.0819 - val_accuracy: 0.5220\n",
            "Epoch 217/300\n",
            "27/27 [==============================] - 0s 10ms/step - loss: 0.2699 - accuracy: 0.8868 - val_loss: 1.0937 - val_accuracy: 0.5341\n",
            "Epoch 218/300\n",
            "27/27 [==============================] - 0s 11ms/step - loss: 0.2736 - accuracy: 0.8832 - val_loss: 1.0968 - val_accuracy: 0.5317\n",
            "Epoch 219/300\n",
            "27/27 [==============================] - 0s 11ms/step - loss: 0.2839 - accuracy: 0.8796 - val_loss: 1.0687 - val_accuracy: 0.5171\n",
            "Epoch 220/300\n",
            "27/27 [==============================] - 0s 11ms/step - loss: 0.2754 - accuracy: 0.8808 - val_loss: 1.1139 - val_accuracy: 0.5146\n",
            "Epoch 221/300\n",
            "27/27 [==============================] - 0s 10ms/step - loss: 0.2918 - accuracy: 0.8737 - val_loss: 1.0693 - val_accuracy: 0.5122\n",
            "Epoch 222/300\n",
            "27/27 [==============================] - 0s 11ms/step - loss: 0.3102 - accuracy: 0.8665 - val_loss: 1.1114 - val_accuracy: 0.5244\n",
            "Epoch 223/300\n",
            "27/27 [==============================] - 0s 11ms/step - loss: 0.2795 - accuracy: 0.8749 - val_loss: 1.0997 - val_accuracy: 0.5122\n",
            "Epoch 224/300\n",
            "27/27 [==============================] - 0s 10ms/step - loss: 0.2626 - accuracy: 0.8903 - val_loss: 1.1258 - val_accuracy: 0.5244\n",
            "Epoch 225/300\n",
            "27/27 [==============================] - 0s 10ms/step - loss: 0.2679 - accuracy: 0.8868 - val_loss: 1.0656 - val_accuracy: 0.5195\n",
            "Epoch 226/300\n",
            "27/27 [==============================] - 0s 10ms/step - loss: 0.2647 - accuracy: 0.8820 - val_loss: 1.0843 - val_accuracy: 0.5195\n",
            "Epoch 227/300\n",
            "27/27 [==============================] - 0s 11ms/step - loss: 0.2576 - accuracy: 0.8892 - val_loss: 1.1437 - val_accuracy: 0.5195\n",
            "Epoch 228/300\n",
            "27/27 [==============================] - 0s 11ms/step - loss: 0.2524 - accuracy: 0.8951 - val_loss: 1.0969 - val_accuracy: 0.5244\n",
            "Epoch 229/300\n",
            "27/27 [==============================] - 0s 10ms/step - loss: 0.2590 - accuracy: 0.8903 - val_loss: 1.1305 - val_accuracy: 0.5195\n",
            "Epoch 230/300\n",
            "27/27 [==============================] - 0s 10ms/step - loss: 0.2523 - accuracy: 0.8868 - val_loss: 1.1246 - val_accuracy: 0.5122\n",
            "Epoch 231/300\n",
            "27/27 [==============================] - 0s 10ms/step - loss: 0.2444 - accuracy: 0.8903 - val_loss: 1.1188 - val_accuracy: 0.5317\n",
            "Epoch 232/300\n",
            "27/27 [==============================] - 0s 11ms/step - loss: 0.2429 - accuracy: 0.9035 - val_loss: 1.1411 - val_accuracy: 0.5220\n",
            "Epoch 233/300\n",
            "27/27 [==============================] - 0s 11ms/step - loss: 0.2401 - accuracy: 0.9035 - val_loss: 1.1866 - val_accuracy: 0.5366\n",
            "Epoch 234/300\n",
            "27/27 [==============================] - 0s 11ms/step - loss: 0.2411 - accuracy: 0.9058 - val_loss: 1.1933 - val_accuracy: 0.5098\n",
            "Epoch 235/300\n",
            "27/27 [==============================] - 0s 11ms/step - loss: 0.2390 - accuracy: 0.9011 - val_loss: 1.1246 - val_accuracy: 0.5122\n",
            "Epoch 236/300\n",
            "27/27 [==============================] - 0s 11ms/step - loss: 0.2302 - accuracy: 0.9035 - val_loss: 1.1128 - val_accuracy: 0.5171\n",
            "Epoch 237/300\n",
            "27/27 [==============================] - 0s 10ms/step - loss: 0.2298 - accuracy: 0.9046 - val_loss: 1.1753 - val_accuracy: 0.4976\n",
            "Epoch 238/300\n",
            "27/27 [==============================] - 0s 11ms/step - loss: 0.2305 - accuracy: 0.9058 - val_loss: 1.1425 - val_accuracy: 0.5317\n",
            "Epoch 239/300\n",
            "27/27 [==============================] - 0s 10ms/step - loss: 0.2228 - accuracy: 0.9094 - val_loss: 1.1700 - val_accuracy: 0.5146\n",
            "Epoch 240/300\n",
            "27/27 [==============================] - 0s 10ms/step - loss: 0.2245 - accuracy: 0.9154 - val_loss: 1.1789 - val_accuracy: 0.5073\n",
            "Epoch 241/300\n",
            "27/27 [==============================] - 0s 10ms/step - loss: 0.2203 - accuracy: 0.9154 - val_loss: 1.1993 - val_accuracy: 0.5220\n",
            "Epoch 242/300\n",
            "27/27 [==============================] - 0s 11ms/step - loss: 0.2375 - accuracy: 0.8963 - val_loss: 1.1899 - val_accuracy: 0.5268\n",
            "Epoch 243/300\n",
            "27/27 [==============================] - 0s 10ms/step - loss: 0.2349 - accuracy: 0.9035 - val_loss: 1.2159 - val_accuracy: 0.5220\n",
            "Epoch 244/300\n",
            "27/27 [==============================] - 0s 11ms/step - loss: 0.2221 - accuracy: 0.9142 - val_loss: 1.2079 - val_accuracy: 0.4976\n",
            "Epoch 245/300\n",
            "27/27 [==============================] - 0s 10ms/step - loss: 0.2157 - accuracy: 0.9190 - val_loss: 1.2151 - val_accuracy: 0.5073\n",
            "Epoch 246/300\n",
            "27/27 [==============================] - 0s 11ms/step - loss: 0.2117 - accuracy: 0.9178 - val_loss: 1.1921 - val_accuracy: 0.5341\n",
            "Epoch 247/300\n",
            "27/27 [==============================] - 0s 10ms/step - loss: 0.2084 - accuracy: 0.9118 - val_loss: 1.1882 - val_accuracy: 0.5171\n",
            "Epoch 248/300\n",
            "27/27 [==============================] - 0s 10ms/step - loss: 0.2271 - accuracy: 0.8999 - val_loss: 1.1907 - val_accuracy: 0.5268\n",
            "Epoch 249/300\n",
            "27/27 [==============================] - 0s 12ms/step - loss: 0.2133 - accuracy: 0.9178 - val_loss: 1.2457 - val_accuracy: 0.5171\n",
            "Epoch 250/300\n",
            "27/27 [==============================] - 0s 10ms/step - loss: 0.2031 - accuracy: 0.9249 - val_loss: 1.2090 - val_accuracy: 0.5366\n",
            "Epoch 251/300\n",
            "27/27 [==============================] - 0s 11ms/step - loss: 0.1982 - accuracy: 0.9237 - val_loss: 1.2121 - val_accuracy: 0.5171\n",
            "Epoch 252/300\n",
            "27/27 [==============================] - 0s 11ms/step - loss: 0.1965 - accuracy: 0.9297 - val_loss: 1.2272 - val_accuracy: 0.5220\n",
            "Epoch 253/300\n",
            "27/27 [==============================] - 0s 10ms/step - loss: 0.1941 - accuracy: 0.9261 - val_loss: 1.2573 - val_accuracy: 0.5049\n",
            "Epoch 254/300\n",
            "27/27 [==============================] - 0s 11ms/step - loss: 0.2011 - accuracy: 0.9178 - val_loss: 1.2776 - val_accuracy: 0.5244\n",
            "Epoch 255/300\n",
            "27/27 [==============================] - 0s 10ms/step - loss: 0.2024 - accuracy: 0.9130 - val_loss: 1.2955 - val_accuracy: 0.5146\n",
            "Epoch 256/300\n",
            "27/27 [==============================] - 0s 11ms/step - loss: 0.2104 - accuracy: 0.9166 - val_loss: 1.2340 - val_accuracy: 0.5146\n",
            "Epoch 257/300\n",
            "27/27 [==============================] - 0s 10ms/step - loss: 0.1923 - accuracy: 0.9225 - val_loss: 1.2127 - val_accuracy: 0.5244\n",
            "Epoch 258/300\n",
            "27/27 [==============================] - 0s 10ms/step - loss: 0.1899 - accuracy: 0.9225 - val_loss: 1.2558 - val_accuracy: 0.5195\n",
            "Epoch 259/300\n",
            "27/27 [==============================] - 0s 10ms/step - loss: 0.1909 - accuracy: 0.9297 - val_loss: 1.2694 - val_accuracy: 0.5244\n",
            "Epoch 260/300\n",
            "27/27 [==============================] - 0s 10ms/step - loss: 0.1808 - accuracy: 0.9309 - val_loss: 1.2479 - val_accuracy: 0.5390\n",
            "Epoch 261/300\n",
            "27/27 [==============================] - 0s 10ms/step - loss: 0.1832 - accuracy: 0.9333 - val_loss: 1.2060 - val_accuracy: 0.5220\n",
            "Epoch 262/300\n",
            "27/27 [==============================] - 0s 10ms/step - loss: 0.1792 - accuracy: 0.9356 - val_loss: 1.2523 - val_accuracy: 0.5195\n",
            "Epoch 263/300\n",
            "27/27 [==============================] - 0s 11ms/step - loss: 0.1779 - accuracy: 0.9297 - val_loss: 1.2787 - val_accuracy: 0.5317\n",
            "Epoch 264/300\n",
            "27/27 [==============================] - 0s 11ms/step - loss: 0.1717 - accuracy: 0.9368 - val_loss: 1.2799 - val_accuracy: 0.5146\n",
            "Epoch 265/300\n",
            "27/27 [==============================] - 0s 11ms/step - loss: 0.1796 - accuracy: 0.9333 - val_loss: 1.2859 - val_accuracy: 0.5415\n",
            "Epoch 266/300\n",
            "27/27 [==============================] - 0s 10ms/step - loss: 0.1721 - accuracy: 0.9333 - val_loss: 1.2747 - val_accuracy: 0.5244\n",
            "Epoch 267/300\n",
            "27/27 [==============================] - 0s 10ms/step - loss: 0.1751 - accuracy: 0.9344 - val_loss: 1.2649 - val_accuracy: 0.5366\n",
            "Epoch 268/300\n",
            "27/27 [==============================] - 0s 10ms/step - loss: 0.1758 - accuracy: 0.9297 - val_loss: 1.3172 - val_accuracy: 0.5366\n",
            "Epoch 269/300\n",
            "27/27 [==============================] - 0s 10ms/step - loss: 0.2139 - accuracy: 0.9166 - val_loss: 1.2914 - val_accuracy: 0.5293\n",
            "Epoch 270/300\n",
            "27/27 [==============================] - 0s 10ms/step - loss: 0.2043 - accuracy: 0.9130 - val_loss: 1.3067 - val_accuracy: 0.5195\n",
            "Epoch 271/300\n",
            "27/27 [==============================] - 0s 10ms/step - loss: 0.1881 - accuracy: 0.9285 - val_loss: 1.3161 - val_accuracy: 0.5195\n",
            "Epoch 272/300\n",
            "27/27 [==============================] - 0s 10ms/step - loss: 0.1799 - accuracy: 0.9333 - val_loss: 1.3038 - val_accuracy: 0.5122\n",
            "Epoch 273/300\n",
            "27/27 [==============================] - 0s 10ms/step - loss: 0.1694 - accuracy: 0.9344 - val_loss: 1.3218 - val_accuracy: 0.5220\n",
            "Epoch 274/300\n",
            "27/27 [==============================] - 0s 11ms/step - loss: 0.1583 - accuracy: 0.9511 - val_loss: 1.3361 - val_accuracy: 0.5220\n",
            "Epoch 275/300\n",
            "27/27 [==============================] - 0s 11ms/step - loss: 0.1574 - accuracy: 0.9487 - val_loss: 1.3352 - val_accuracy: 0.5341\n",
            "Epoch 276/300\n",
            "27/27 [==============================] - 0s 10ms/step - loss: 0.1566 - accuracy: 0.9452 - val_loss: 1.3587 - val_accuracy: 0.5122\n",
            "Epoch 277/300\n",
            "27/27 [==============================] - 0s 11ms/step - loss: 0.1544 - accuracy: 0.9487 - val_loss: 1.3125 - val_accuracy: 0.5244\n",
            "Epoch 278/300\n",
            "27/27 [==============================] - 0s 10ms/step - loss: 0.1616 - accuracy: 0.9404 - val_loss: 1.3349 - val_accuracy: 0.5171\n",
            "Epoch 279/300\n",
            "27/27 [==============================] - 0s 11ms/step - loss: 0.1546 - accuracy: 0.9380 - val_loss: 1.3493 - val_accuracy: 0.5171\n",
            "Epoch 280/300\n",
            "27/27 [==============================] - 0s 11ms/step - loss: 0.1471 - accuracy: 0.9535 - val_loss: 1.3304 - val_accuracy: 0.5293\n",
            "Epoch 281/300\n",
            "27/27 [==============================] - 0s 10ms/step - loss: 0.1455 - accuracy: 0.9428 - val_loss: 1.3738 - val_accuracy: 0.5122\n",
            "Epoch 282/300\n",
            "27/27 [==============================] - 0s 10ms/step - loss: 0.1542 - accuracy: 0.9368 - val_loss: 1.3540 - val_accuracy: 0.5195\n",
            "Epoch 283/300\n",
            "27/27 [==============================] - 0s 10ms/step - loss: 0.1457 - accuracy: 0.9523 - val_loss: 1.3104 - val_accuracy: 0.5341\n",
            "Epoch 284/300\n",
            "27/27 [==============================] - 0s 13ms/step - loss: 0.1609 - accuracy: 0.9273 - val_loss: 1.3606 - val_accuracy: 0.5195\n",
            "Epoch 285/300\n",
            "27/27 [==============================] - 0s 10ms/step - loss: 0.1459 - accuracy: 0.9487 - val_loss: 1.3975 - val_accuracy: 0.5220\n",
            "Epoch 286/300\n",
            "27/27 [==============================] - 0s 11ms/step - loss: 0.1465 - accuracy: 0.9487 - val_loss: 1.3608 - val_accuracy: 0.5122\n",
            "Epoch 287/300\n",
            "27/27 [==============================] - 0s 11ms/step - loss: 0.1345 - accuracy: 0.9547 - val_loss: 1.3641 - val_accuracy: 0.5122\n",
            "Epoch 288/300\n",
            "27/27 [==============================] - 0s 10ms/step - loss: 0.1393 - accuracy: 0.9464 - val_loss: 1.4266 - val_accuracy: 0.5098\n",
            "Epoch 289/300\n",
            "27/27 [==============================] - 0s 11ms/step - loss: 0.1419 - accuracy: 0.9404 - val_loss: 1.3930 - val_accuracy: 0.5122\n",
            "Epoch 290/300\n",
            "27/27 [==============================] - 0s 11ms/step - loss: 0.1420 - accuracy: 0.9428 - val_loss: 1.3533 - val_accuracy: 0.5415\n",
            "Epoch 291/300\n",
            "27/27 [==============================] - 0s 11ms/step - loss: 0.1496 - accuracy: 0.9404 - val_loss: 1.3482 - val_accuracy: 0.5073\n",
            "Epoch 292/300\n",
            "27/27 [==============================] - 0s 11ms/step - loss: 0.1373 - accuracy: 0.9464 - val_loss: 1.4180 - val_accuracy: 0.5146\n",
            "Epoch 293/300\n",
            "27/27 [==============================] - 0s 10ms/step - loss: 0.1644 - accuracy: 0.9333 - val_loss: 1.3752 - val_accuracy: 0.4976\n",
            "Epoch 294/300\n",
            "27/27 [==============================] - 0s 12ms/step - loss: 0.1445 - accuracy: 0.9464 - val_loss: 1.3612 - val_accuracy: 0.5073\n",
            "Epoch 295/300\n",
            "27/27 [==============================] - 0s 10ms/step - loss: 0.1832 - accuracy: 0.9321 - val_loss: 1.4549 - val_accuracy: 0.4951\n",
            "Epoch 296/300\n",
            "27/27 [==============================] - 0s 11ms/step - loss: 0.1468 - accuracy: 0.9487 - val_loss: 1.3541 - val_accuracy: 0.5293\n",
            "Epoch 297/300\n",
            "27/27 [==============================] - 0s 11ms/step - loss: 0.1390 - accuracy: 0.9523 - val_loss: 1.4441 - val_accuracy: 0.5268\n",
            "Epoch 298/300\n",
            "27/27 [==============================] - 0s 10ms/step - loss: 0.1276 - accuracy: 0.9583 - val_loss: 1.4203 - val_accuracy: 0.5220\n",
            "Epoch 299/300\n",
            "27/27 [==============================] - 0s 10ms/step - loss: 0.1272 - accuracy: 0.9619 - val_loss: 1.4367 - val_accuracy: 0.5122\n",
            "Epoch 300/300\n",
            "27/27 [==============================] - 0s 10ms/step - loss: 0.1200 - accuracy: 0.9631 - val_loss: 1.4391 - val_accuracy: 0.5024\n"
          ]
        }
      ]
    },
    {
      "cell_type": "code",
      "metadata": {
        "id": "erq--mqRRgfR",
        "colab": {
          "base_uri": "https://localhost:8080/",
          "height": 265
        },
        "outputId": "684fe974-563a-4b51-cdeb-d421b7013ec0"
      },
      "source": [
        "# plot the loss\n",
        "plt.plot(r.history['loss'], label='loss')\n",
        "plt.plot(r.history['val_loss'], label='val_loss')\n",
        "plt.legend()\n",
        "plt.show()"
      ],
      "execution_count": null,
      "outputs": [
        {
          "output_type": "display_data",
          "data": {
            "image/png": "[encoded data removed]",
            "text/plain": [
              "<Figure size 432x288 with 1 Axes>"
            ]
          },
          "metadata": {
            "needs_background": "light"
          }
        }
      ]
    },
    {
      "cell_type": "code",
      "metadata": {
        "id": "D9ZzosDMRjBU",
        "colab": {
          "base_uri": "https://localhost:8080/",
          "height": 265
        },
        "outputId": "8f40a681-b3eb-48d4-917f-af1d7026e713"
      },
      "source": [
        "# Plot accuracy per iteration\n",
        "plt.plot(r.history['accuracy'], label='accuracy')\n",
        "plt.plot(r.history['val_accuracy'], label='val_accuracy')\n",
        "plt.legend()\n",
        "plt.show()"
      ],
      "execution_count": null,
      "outputs": [
        {
          "output_type": "display_data",
          "data": {
            "image/png": "[encoded data removed]",
            "text/plain": [
              "<Figure size 432x288 with 1 Axes>"
            ]
          },
          "metadata": {
            "needs_background": "light"
          }
        }
      ]
    }
  ]
}