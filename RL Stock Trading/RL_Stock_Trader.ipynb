{
  "nbformat": 4,
  "nbformat_minor": 0,
  "metadata": {
    "colab": {
      "name": "RL Stock Trader.ipynb",
      "provenance": []
    },
    "kernelspec": {
      "name": "python3",
      "display_name": "Python 3"
    },
    "language_info": {
      "name": "python"
    }
  },
  "cells": [
    {
      "cell_type": "code",
      "execution_count": 1,
      "metadata": {
        "id": "Sx6ahxp3zV7Q"
      },
      "outputs": [],
      "source": [
        "#import libraries \n",
        "import numpy as np\n",
        "import pandas as pd\n",
        "\n",
        "from tensorflow.keras.models import Model\n",
        "from tensorflow.keras.layers import Dense, Input\n",
        "from tensorflow.keras.optimizers import Adam\n",
        "\n",
        "from datetime import datetime\n",
        "import itertools\n",
        "import argparse\n",
        "import re\n",
        "import os\n",
        "import pickle\n",
        "\n",
        "from sklearn.preprocessing import StandardScaler"
      ]
    },
    {
      "cell_type": "code",
      "source": [
        "#upload aapl_msi_sbux.csv\n",
        "from google.colab import files\n",
        "uploaded = files.upload()"
      ],
      "metadata": {
        "colab": {
          "resources": {
            "http://localhost:8080/nbextensions/google.colab/files.js": {
              "data": "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",
              "ok": true,
              "headers": [
                [
                  "content-type",
                  "application/javascript"
                ]
              ],
              "status": 200,
              "status_text": ""
            }
          },
          "base_uri": "https://localhost:8080/",
          "height": 73
        },
        "id": "ztCYEkqJzsbH",
        "outputId": "97228704-d131-4ea3-d7c5-af18a592880f"
      },
      "execution_count": 2,
      "outputs": [
        {
          "output_type": "display_data",
          "data": {
            "text/html": [
              "\n",
              "     <input type=\"file\" id=\"files-4833edda-3e9f-4f5a-9f92-2f74fef66273\" name=\"files[]\" multiple disabled\n",
              "        style=\"border:none\" />\n",
              "     <output id=\"result-4833edda-3e9f-4f5a-9f92-2f74fef66273\">\n",
              "      Upload widget is only available when the cell has been executed in the\n",
              "      current browser session. Please rerun this cell to enable.\n",
              "      </output>\n",
              "      <script src=\"/nbextensions/google.colab/files.js\"></script> "
            ],
            "text/plain": [
              "<IPython.core.display.HTML object>"
            ]
          },
          "metadata": {}
        },
        {
          "output_type": "stream",
          "name": "stdout",
          "text": [
            "Saving aapl_msi_sbux.csv to aapl_msi_sbux.csv\n"
          ]
        }
      ]
    },
    {
      "cell_type": "code",
      "source": [
        "# Let's use AAPL (Apple), MSI (Motorola), SBUX (Starbucks)\n",
        "def get_data():\n",
        "  # returns a T x 3 list of stock prices\n",
        "  # each row is a different stock\n",
        "  # 0 = AAPL\n",
        "  # 1 = MSI\n",
        "  # 2 = SBUX\n",
        "  df = pd.read_csv('aapl_msi_sbux.csv')\n",
        "  return df.values"
      ],
      "metadata": {
        "id": "nDzPKHQRzskF"
      },
      "execution_count": 3,
      "outputs": []
    },
    {
      "cell_type": "code",
      "source": [
        "class ReplayBuffer:\n",
        "  def __init__(self, obs_dim, act_dim, size):\n",
        "    self.obs1_buf = np.zeros([size, obs_dim], dtype=np.float32)\n",
        "    self.obs2_buf = np.zeros([size, obs_dim], dtype=np.float32)\n",
        "    self.acts_buf = np.zeros(size, dtype=np.uint8)\n",
        "    self.rews_buf = np.zeros(size, dtype=np.float32)\n",
        "    self.done_buf = np.zeros(size, dtype=np.uint8)\n",
        "    self.ptr, self.size, self.max_size = 0, 0, size\n",
        "\n",
        "  def store(self, obs, act, rew, next_obs, done):\n",
        "    self.obs1_buf[self.ptr] = obs\n",
        "    self.obs2_buf[self.ptr] = next_obs\n",
        "    self.acts_buf[self.ptr] = act\n",
        "    self.rews_buf[self.ptr] = rew\n",
        "    self.done_buf[self.ptr] = done\n",
        "    self.ptr = (self.ptr+1) % self.max_size\n",
        "    self.size = min(self.size+1, self.max_size)\n",
        "\n",
        "  def sample_batch(self, batch_size=32):\n",
        "    idxs = np.random.randint(0, self.size, size=batch_size)\n",
        "    return dict(s=self.obs1_buf[idxs],\n",
        "                s2=self.obs2_buf[idxs],\n",
        "                a=self.acts_buf[idxs],\n",
        "                r=self.rews_buf[idxs],\n",
        "                d=self.done_buf[idxs])\n"
      ],
      "metadata": {
        "id": "lX50nv6ozsmY"
      },
      "execution_count": 4,
      "outputs": []
    },
    {
      "cell_type": "code",
      "source": [
        "def get_scaler(env):\n",
        "  # return scikit-learn scaler object to scale the states\n",
        "  # Note: you could also populate the replay buffer here\n",
        "\n",
        "  states = []\n",
        "  for _ in range(env.n_step):\n",
        "    action = np.random.choice(env.action_space)\n",
        "    state, reward, done, info = env.step(action)\n",
        "    states.append(state)\n",
        "    if done:\n",
        "      break\n",
        "\n",
        "  scaler = StandardScaler()\n",
        "  scaler.fit(states)\n",
        "  return scaler"
      ],
      "metadata": {
        "id": "CLLmCuKjzsof"
      },
      "execution_count": 5,
      "outputs": []
    },
    {
      "cell_type": "code",
      "source": [
        "def maybe_make_dir(directory):\n",
        "  if not os.path.exists(directory):\n",
        "    os.makedirs(directory)"
      ],
      "metadata": {
        "id": "fkYWsa4Kzsql"
      },
      "execution_count": 6,
      "outputs": []
    },
    {
      "cell_type": "code",
      "source": [
        "def mlp(input_dim, n_action, n_hidden_layers=1, hidden_dim=32):\n",
        "  \"\"\" A multi-layer perceptron \"\"\"\n",
        "\n",
        "  # input layer\n",
        "  i = Input(shape=(input_dim,))\n",
        "  x = i\n",
        "\n",
        "  # hidden layers\n",
        "  for _ in range(n_hidden_layers):\n",
        "    x = Dense(hidden_dim, activation='relu')(x)\n",
        "  \n",
        "  # final layer\n",
        "  x = Dense(n_action)(x)\n",
        "\n",
        "  # make the model\n",
        "  model = Model(i, x)\n",
        "\n",
        "  model.compile(loss='mse', optimizer='adam')\n",
        "  print((model.summary()))\n",
        "  return model"
      ],
      "metadata": {
        "id": "KEaEIZ9Czssp"
      },
      "execution_count": 7,
      "outputs": []
    },
    {
      "cell_type": "code",
      "source": [
        "class MultiStockEnv:\n",
        "  \"\"\"\n",
        "  A 3-stock trading environment.\n",
        "  State: vector of size 7 (n_stock * 2 + 1)\n",
        "    - # shares of stock 1 owned\n",
        "    - # shares of stock 2 owned\n",
        "    - # shares of stock 3 owned\n",
        "    - price of stock 1 (using daily close price)\n",
        "    - price of stock 2\n",
        "    - price of stock 3\n",
        "    - cash owned (can be used to purchase more stocks)\n",
        "  Action: categorical variable with 27 (3^3) possibilities\n",
        "    - for each stock, you can:\n",
        "    - 0 = sell\n",
        "    - 1 = hold\n",
        "    - 2 = buy\n",
        "  \"\"\"\n",
        "  def __init__(self, data, initial_investment=20000):\n",
        "    # data\n",
        "    self.stock_price_history = data\n",
        "    self.n_step, self.n_stock = self.stock_price_history.shape\n",
        "\n",
        "    # instance attributes\n",
        "    self.initial_investment = initial_investment\n",
        "    self.cur_step = None\n",
        "    self.stock_owned = None\n",
        "    self.stock_price = None\n",
        "    self.cash_in_hand = None\n",
        "\n",
        "    self.action_space = np.arange(3**self.n_stock)\n",
        "\n",
        "    # action permutations\n",
        "    # returns a nested list with elements like:\n",
        "    # [0,0,0]\n",
        "    # [0,0,1]\n",
        "    # [0,0,2]\n",
        "    # [0,1,0]\n",
        "    # [0,1,1]\n",
        "    # etc.\n",
        "    # 0 = sell\n",
        "    # 1 = hold\n",
        "    # 2 = buy\n",
        "    self.action_list = list(map(list, itertools.product([0, 1, 2], repeat=self.n_stock)))\n",
        "\n",
        "    # calculate size of state\n",
        "    self.state_dim = self.n_stock * 2 + 1\n",
        "\n",
        "    self.reset()\n",
        "\n",
        "\n",
        "  def reset(self):\n",
        "    self.cur_step = 0\n",
        "    self.stock_owned = np.zeros(self.n_stock)\n",
        "    self.stock_price = self.stock_price_history[self.cur_step]\n",
        "    self.cash_in_hand = self.initial_investment\n",
        "    return self._get_obs()\n",
        "\n",
        "\n",
        "  def step(self, action):\n",
        "    assert action in self.action_space\n",
        "\n",
        "    # get current value before performing the action\n",
        "    prev_val = self._get_val()\n",
        "\n",
        "    # update price, i.e. go to the next day\n",
        "    self.cur_step += 1\n",
        "    self.stock_price = self.stock_price_history[self.cur_step]\n",
        "\n",
        "    # perform the trade\n",
        "    self._trade(action)\n",
        "\n",
        "    # get the new value after taking the action\n",
        "    cur_val = self._get_val()\n",
        "\n",
        "    # reward is the increase in porfolio value\n",
        "    reward = cur_val - prev_val\n",
        "\n",
        "    # done if we have run out of data\n",
        "    done = self.cur_step == self.n_step - 1\n",
        "\n",
        "    # store the current value of the portfolio here\n",
        "    info = {'cur_val': cur_val}\n",
        "\n",
        "    # conform to the Gym API\n",
        "    return self._get_obs(), reward, done, info\n",
        "\n",
        "\n",
        "  def _get_obs(self):\n",
        "    obs = np.empty(self.state_dim)\n",
        "    obs[:self.n_stock] = self.stock_owned\n",
        "    obs[self.n_stock:2*self.n_stock] = self.stock_price\n",
        "    obs[-1] = self.cash_in_hand\n",
        "    return obs\n",
        "    \n",
        "\n",
        "\n",
        "  def _get_val(self):\n",
        "    return self.stock_owned.dot(self.stock_price) + self.cash_in_hand\n",
        "\n",
        "\n",
        "  def _trade(self, action):\n",
        "    # index the action we want to perform\n",
        "    # 0 = sell\n",
        "    # 1 = hold\n",
        "    # 2 = buy\n",
        "    # e.g. [2,1,0] means:\n",
        "    # buy first stock\n",
        "    # hold second stock\n",
        "    # sell third stock\n",
        "    action_vec = self.action_list[action]\n",
        "\n",
        "    # determine which stocks to buy or sell\n",
        "    sell_index = [] # stores index of stocks we want to sell\n",
        "    buy_index = [] # stores index of stocks we want to buy\n",
        "    for i, a in enumerate(action_vec):\n",
        "      if a == 0:\n",
        "        sell_index.append(i)\n",
        "      elif a == 2:\n",
        "        buy_index.append(i)\n",
        "\n",
        "    # sell any stocks we want to sell\n",
        "    # then buy any stocks we want to buy\n",
        "    if sell_index:\n",
        "      # NOTE: to simplify the problem, when we sell, we will sell ALL shares of that stock\n",
        "      for i in sell_index:\n",
        "        self.cash_in_hand += self.stock_price[i] * self.stock_owned[i]\n",
        "        self.stock_owned[i] = 0\n",
        "    if buy_index:\n",
        "      # NOTE: when buying, we will loop through each stock we want to buy,\n",
        "      #       and buy one share at a time until we run out of cash\n",
        "      can_buy = True\n",
        "      while can_buy:\n",
        "        for i in buy_index:\n",
        "          if self.cash_in_hand > self.stock_price[i]:\n",
        "            self.stock_owned[i] += 1 # buy one share\n",
        "            self.cash_in_hand -= self.stock_price[i]\n",
        "          else:\n",
        "            can_buy = False\n",
        "\n"
      ],
      "metadata": {
        "id": "_Q6TUy0lzsu0"
      },
      "execution_count": 8,
      "outputs": []
    },
    {
      "cell_type": "code",
      "source": [
        "class DQNAgent(object):\n",
        "  def __init__(self, state_size, action_size):\n",
        "    self.state_size = state_size\n",
        "    self.action_size = action_size\n",
        "    self.memory = ReplayBuffer(state_size, action_size, size=500)\n",
        "    self.gamma = 0.95  # discount rate\n",
        "    self.epsilon = 1.0  # exploration rate\n",
        "    self.epsilon_min = 0.01\n",
        "    self.epsilon_decay = 0.995\n",
        "    self.model = mlp(state_size, action_size)\n",
        "\n",
        "\n",
        "  def update_replay_memory(self, state, action, reward, next_state, done):\n",
        "    self.memory.store(state, action, reward, next_state, done)\n",
        "\n",
        "\n",
        "  def act(self, state):\n",
        "    if np.random.rand() <= self.epsilon:\n",
        "      return np.random.choice(self.action_size)\n",
        "    act_values = self.model.predict(state)\n",
        "    return np.argmax(act_values[0])  # returns action\n",
        "\n",
        "\n",
        "  def replay(self, batch_size=32):\n",
        "    # first check if replay buffer contains enough data\n",
        "    if self.memory.size < batch_size:\n",
        "      return\n",
        "\n",
        "    # sample a batch of data from the replay memory\n",
        "    minibatch = self.memory.sample_batch(batch_size)\n",
        "    states = minibatch['s']\n",
        "    actions = minibatch['a']\n",
        "    rewards = minibatch['r']\n",
        "    next_states = minibatch['s2']\n",
        "    done = minibatch['d']\n",
        "\n",
        "    # Calculate the tentative target: Q(s',a)\n",
        "    target = rewards + (1 - done) * self.gamma * np.amax(self.model.predict(next_states), axis=1)\n",
        "\n",
        "    # With the Keras API, the target (usually) must have the same\n",
        "    # shape as the predictions.\n",
        "    # However, we only need to update the network for the actions\n",
        "    # which were actually taken.\n",
        "    # We can accomplish this by setting the target to be equal to\n",
        "    # the prediction for all values.\n",
        "    # Then, only change the targets for the actions taken.\n",
        "    # Q(s,a)\n",
        "    target_full = self.model.predict(states)\n",
        "    target_full[np.arange(batch_size), actions] = target\n",
        "\n",
        "    # Run one training step\n",
        "    self.model.train_on_batch(states, target_full)\n",
        "\n",
        "    if self.epsilon > self.epsilon_min:\n",
        "      self.epsilon *= self.epsilon_decay\n",
        "\n",
        "\n",
        "  def load(self, name):\n",
        "    self.model.load_weights(name)\n",
        "\n",
        "\n",
        "  def save(self, name):\n",
        "    self.model.save_weights(name)\n"
      ],
      "metadata": {
        "id": "nw1Evs_VzsxV"
      },
      "execution_count": 9,
      "outputs": []
    },
    {
      "cell_type": "code",
      "source": [
        "def play_one_episode(agent, env, is_train):\n",
        "  # note: after transforming states are already 1xD\n",
        "  state = env.reset()\n",
        "  state = scaler.transform([state])\n",
        "  done = False\n",
        "\n",
        "  while not done:\n",
        "    action = agent.act(state)\n",
        "    next_state, reward, done, info = env.step(action)\n",
        "    next_state = scaler.transform([next_state])\n",
        "    if is_train == 'train':\n",
        "      agent.update_replay_memory(state, action, reward, next_state, done)\n",
        "      agent.replay(batch_size)\n",
        "    state = next_state\n",
        "\n",
        "  return info['cur_val']\n"
      ],
      "metadata": {
        "id": "n7l_AXQwzszY"
      },
      "execution_count": 10,
      "outputs": []
    },
    {
      "cell_type": "code",
      "source": [
        "if __name__ == '__main__':\n",
        "\n",
        "  # config\n",
        "  models_folder = 'rl_trader_models'\n",
        "  rewards_folder = 'rl_trader_rewards'\n",
        "  num_episodes = 2000\n",
        "  batch_size = 32\n",
        "  initial_investment = 20000\n",
        "\n",
        "\n",
        "  parser = argparse.ArgumentParser()\n",
        "  parser.add_argument('-m', '--mode', type=str, required=True,\n",
        "                      help='either \"train\" or \"test\"')\n",
        "  args = parser.parse_args()\n",
        "\n",
        "  maybe_make_dir(models_folder)\n",
        "  maybe_make_dir(rewards_folder)\n",
        "\n",
        "  data = get_data()\n",
        "  n_timesteps, n_stocks = data.shape\n",
        "\n",
        "  n_train = n_timesteps // 2\n",
        "\n",
        "  train_data = data[:n_train]\n",
        "  test_data = data[n_train:]\n",
        "\n",
        "  env = MultiStockEnv(train_data, initial_investment)\n",
        "  state_size = env.state_dim\n",
        "  action_size = len(env.action_space)\n",
        "  agent = DQNAgent(state_size, action_size)\n",
        "  scaler = get_scaler(env)\n",
        "\n",
        "  # store the final value of the portfolio (end of episode)\n",
        "  portfolio_value = []\n",
        "\n",
        "  if args.mode == 'test':\n",
        "    # then load the previous scaler\n",
        "    with open(f'{models_folder}/scaler.pkl', 'rb') as f:\n",
        "      scaler = pickle.load(f)\n",
        "\n",
        "    # remake the env with test data\n",
        "    env = MultiStockEnv(test_data, initial_investment)\n",
        "\n",
        "    # make sure epsilon is not 1!\n",
        "    # no need to run multiple episodes if epsilon = 0, it's deterministic\n",
        "    agent.epsilon = 0.01\n",
        "\n",
        "    # load trained weights\n",
        "    agent.load(f'{models_folder}/dqn.h5')\n",
        "\n",
        "  # play the game num_episodes times\n",
        "  for e in range(num_episodes):\n",
        "    t0 = datetime.now()\n",
        "    val = play_one_episode(agent, env, args.mode)\n",
        "    dt = datetime.now() - t0\n",
        "    print(f\"episode: {e + 1}/{num_episodes}, episode end value: {val:.2f}, duration: {dt}\")\n",
        "    portfolio_value.append(val) # append episode end portfolio value\n",
        "\n",
        "  # save the weights when we are done\n",
        "  if args.mode == 'train':\n",
        "    # save the DQN\n",
        "    agent.save(f'{models_folder}/dqn.h5')\n",
        "\n",
        "    # save the scaler\n",
        "    with open(f'{models_folder}/scaler.pkl', 'wb') as f:\n",
        "      pickle.dump(scaler, f)\n",
        "\n",
        "\n",
        "  # save portfolio value for each episode\n",
        "  np.save(f'{rewards_folder}/{args.mode}.npy', portfolio_value)\n"
      ],
      "metadata": {
        "colab": {
          "base_uri": "https://localhost:8080/",
          "height": 183
        },
        "id": "7WdKi4Oizs11",
        "outputId": "d71a8216-d8ca-4d8c-b52a-689e90a7f81d"
      },
      "execution_count": 12,
      "outputs": [
        {
          "output_type": "stream",
          "name": "stderr",
          "text": [
            "usage: ipykernel_launcher.py [-h] -m MODE\n",
            "ipykernel_launcher.py: error: the following arguments are required: -m/--mode\n"
          ]
        },
        {
          "output_type": "error",
          "ename": "SystemExit",
          "evalue": "ignored",
          "traceback": [
            "An exception has occurred, use %tb to see the full traceback.\n",
            "\u001b[0;31mSystemExit\u001b[0m\u001b[0;31m:\u001b[0m 2\n"
          ]
        },
        {
          "output_type": "stream",
          "name": "stderr",
          "text": [
            "/usr/local/lib/python3.7/dist-packages/IPython/core/interactiveshell.py:2890: UserWarning: To exit: use 'exit', 'quit', or Ctrl-D.\n",
            "  warn(\"To exit: use 'exit', 'quit', or Ctrl-D.\", stacklevel=1)\n"
          ]
        }
      ]
    },
    {
      "cell_type": "code",
      "source": [
        ""
      ],
      "metadata": {
        "id": "Ww9aTDsCzs37"
      },
      "execution_count": null,
      "outputs": []
    },
    {
      "cell_type": "code",
      "source": [
        ""
      ],
      "metadata": {
        "id": "QPh55QSzzs6V"
      },
      "execution_count": null,
      "outputs": []
    },
    {
      "cell_type": "code",
      "source": [
        ""
      ],
      "metadata": {
        "id": "U8WIRisIzs8j"
      },
      "execution_count": null,
      "outputs": []
    }
  ]
}