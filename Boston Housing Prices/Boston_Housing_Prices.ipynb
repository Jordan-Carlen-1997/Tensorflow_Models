{
  "nbformat": 4,
  "nbformat_minor": 0,
  "metadata": {
    "colab": {
      "name": "TF2.0 - Boston Housing Prices.ipynb",
      "provenance": [],
      "collapsed_sections": []
    },
    "kernelspec": {
      "name": "python3",
      "display_name": "Python 3"
    },
    "language_info": {
      "name": "python"
    }
  },
  "cells": [
    {
      "cell_type": "markdown",
      "metadata": {
        "id": "h3m1ZXqsQX1t"
      },
      "source": [
        "# Part 1: Introduction\n",
        "\n",
        "In this model we are going to be looking attempting to load in one of the Skikit Learn packages and performing Linear Regression on the data. Remember the steps:\n",
        "\n",
        "\n",
        "1. Load in the data (X and Y)\n",
        "2. Instantiate the model\n",
        "3. Train (\"fit\") the model\n",
        "4. Evaluate the model\n",
        "\n",
        "Let's begin!"
      ]
    },
    {
      "cell_type": "code",
      "metadata": {
        "id": "kNrIiwe6Qzg3"
      },
      "source": [
        "# load in our packages\n",
        "\n",
        "import tensorflow as tf\n",
        "import pandas as pd\n",
        "import numpy as np\n",
        "import matplotlib.pyplot as plt\n",
        "from sklearn.datasets import load_boston"
      ],
      "execution_count": null,
      "outputs": []
    },
    {
      "cell_type": "markdown",
      "metadata": {
        "id": "JG1JQuLaR0pO"
      },
      "source": [
        "# Part 2: Load in the data (X and Y)"
      ]
    },
    {
      "cell_type": "code",
      "metadata": {
        "id": "EBtsr15GRxuS"
      },
      "source": [
        "data = load_boston()"
      ],
      "execution_count": null,
      "outputs": []
    },
    {
      "cell_type": "code",
      "metadata": {
        "colab": {
          "base_uri": "https://localhost:8080/"
        },
        "id": "BOXUa1txSTMN",
        "outputId": "1704e946-8002-46de-dac9-d0d349bed453"
      },
      "source": [
        "#sklearn datasets are considered as dictionaries\n",
        "type(data)"
      ],
      "execution_count": null,
      "outputs": [
        {
          "output_type": "execute_result",
          "data": {
            "text/plain": [
              "sklearn.utils.Bunch"
            ]
          },
          "metadata": {},
          "execution_count": 191
        }
      ]
    },
    {
      "cell_type": "code",
      "metadata": {
        "colab": {
          "base_uri": "https://localhost:8080/"
        },
        "id": "0vt3u8y2STUJ",
        "outputId": "265c861b-03d1-430f-fea0-52d701399a8b"
      },
      "source": [
        "#this means we can inspect their data through their items and keys!\n",
        "data.keys()"
      ],
      "execution_count": null,
      "outputs": [
        {
          "output_type": "execute_result",
          "data": {
            "text/plain": [
              "dict_keys(['data', 'target', 'feature_names', 'DESCR', 'filename'])"
            ]
          },
          "metadata": {},
          "execution_count": 192
        }
      ]
    },
    {
      "cell_type": "markdown",
      "metadata": {
        "id": "eAQQKVxpWwCN"
      },
      "source": [
        "### Data Inspection"
      ]
    },
    {
      "cell_type": "code",
      "metadata": {
        "colab": {
          "base_uri": "https://localhost:8080/"
        },
        "id": "pAtBuc6dTkJI",
        "outputId": "7e134ab2-0ee5-4b0a-c54e-a28aa14ed4e0"
      },
      "source": [
        "#inspecting shape of the data\n",
        "data.data.shape"
      ],
      "execution_count": null,
      "outputs": [
        {
          "output_type": "execute_result",
          "data": {
            "text/plain": [
              "(506, 13)"
            ]
          },
          "metadata": {},
          "execution_count": 193
        }
      ]
    },
    {
      "cell_type": "code",
      "metadata": {
        "colab": {
          "base_uri": "https://localhost:8080/"
        },
        "id": "QErpZ14SXUGZ",
        "outputId": "18f5938e-0566-4f26-ead7-6c7602d787d4"
      },
      "source": [
        "data.target.shape"
      ],
      "execution_count": null,
      "outputs": [
        {
          "output_type": "execute_result",
          "data": {
            "text/plain": [
              "(506,)"
            ]
          },
          "metadata": {},
          "execution_count": 194
        }
      ]
    },
    {
      "cell_type": "code",
      "metadata": {
        "colab": {
          "base_uri": "https://localhost:8080/"
        },
        "id": "QsCE4D5DW-p7",
        "outputId": "cfe8167f-f6c8-4c2f-e1f5-867efcb90a09"
      },
      "source": [
        "#printing off a list of features\n",
        "print(data.feature_names)"
      ],
      "execution_count": null,
      "outputs": [
        {
          "output_type": "stream",
          "name": "stdout",
          "text": [
            "['CRIM' 'ZN' 'INDUS' 'CHAS' 'NOX' 'RM' 'AGE' 'DIS' 'RAD' 'TAX' 'PTRATIO'\n",
            " 'B' 'LSTAT']\n"
          ]
        }
      ]
    },
    {
      "cell_type": "code",
      "metadata": {
        "colab": {
          "base_uri": "https://localhost:8080/"
        },
        "id": "67TdvOlUXO5f",
        "outputId": "75faa0ad-19bf-42d0-d6b6-b80c052bfca7"
      },
      "source": [
        "print(data.target)"
      ],
      "execution_count": null,
      "outputs": [
        {
          "output_type": "stream",
          "name": "stdout",
          "text": [
            "[24.  21.6 34.7 33.4 36.2 28.7 22.9 27.1 16.5 18.9 15.  18.9 21.7 20.4\n",
            " 18.2 19.9 23.1 17.5 20.2 18.2 13.6 19.6 15.2 14.5 15.6 13.9 16.6 14.8\n",
            " 18.4 21.  12.7 14.5 13.2 13.1 13.5 18.9 20.  21.  24.7 30.8 34.9 26.6\n",
            " 25.3 24.7 21.2 19.3 20.  16.6 14.4 19.4 19.7 20.5 25.  23.4 18.9 35.4\n",
            " 24.7 31.6 23.3 19.6 18.7 16.  22.2 25.  33.  23.5 19.4 22.  17.4 20.9\n",
            " 24.2 21.7 22.8 23.4 24.1 21.4 20.  20.8 21.2 20.3 28.  23.9 24.8 22.9\n",
            " 23.9 26.6 22.5 22.2 23.6 28.7 22.6 22.  22.9 25.  20.6 28.4 21.4 38.7\n",
            " 43.8 33.2 27.5 26.5 18.6 19.3 20.1 19.5 19.5 20.4 19.8 19.4 21.7 22.8\n",
            " 18.8 18.7 18.5 18.3 21.2 19.2 20.4 19.3 22.  20.3 20.5 17.3 18.8 21.4\n",
            " 15.7 16.2 18.  14.3 19.2 19.6 23.  18.4 15.6 18.1 17.4 17.1 13.3 17.8\n",
            " 14.  14.4 13.4 15.6 11.8 13.8 15.6 14.6 17.8 15.4 21.5 19.6 15.3 19.4\n",
            " 17.  15.6 13.1 41.3 24.3 23.3 27.  50.  50.  50.  22.7 25.  50.  23.8\n",
            " 23.8 22.3 17.4 19.1 23.1 23.6 22.6 29.4 23.2 24.6 29.9 37.2 39.8 36.2\n",
            " 37.9 32.5 26.4 29.6 50.  32.  29.8 34.9 37.  30.5 36.4 31.1 29.1 50.\n",
            " 33.3 30.3 34.6 34.9 32.9 24.1 42.3 48.5 50.  22.6 24.4 22.5 24.4 20.\n",
            " 21.7 19.3 22.4 28.1 23.7 25.  23.3 28.7 21.5 23.  26.7 21.7 27.5 30.1\n",
            " 44.8 50.  37.6 31.6 46.7 31.5 24.3 31.7 41.7 48.3 29.  24.  25.1 31.5\n",
            " 23.7 23.3 22.  20.1 22.2 23.7 17.6 18.5 24.3 20.5 24.5 26.2 24.4 24.8\n",
            " 29.6 42.8 21.9 20.9 44.  50.  36.  30.1 33.8 43.1 48.8 31.  36.5 22.8\n",
            " 30.7 50.  43.5 20.7 21.1 25.2 24.4 35.2 32.4 32.  33.2 33.1 29.1 35.1\n",
            " 45.4 35.4 46.  50.  32.2 22.  20.1 23.2 22.3 24.8 28.5 37.3 27.9 23.9\n",
            " 21.7 28.6 27.1 20.3 22.5 29.  24.8 22.  26.4 33.1 36.1 28.4 33.4 28.2\n",
            " 22.8 20.3 16.1 22.1 19.4 21.6 23.8 16.2 17.8 19.8 23.1 21.  23.8 23.1\n",
            " 20.4 18.5 25.  24.6 23.  22.2 19.3 22.6 19.8 17.1 19.4 22.2 20.7 21.1\n",
            " 19.5 18.5 20.6 19.  18.7 32.7 16.5 23.9 31.2 17.5 17.2 23.1 24.5 26.6\n",
            " 22.9 24.1 18.6 30.1 18.2 20.6 17.8 21.7 22.7 22.6 25.  19.9 20.8 16.8\n",
            " 21.9 27.5 21.9 23.1 50.  50.  50.  50.  50.  13.8 13.8 15.  13.9 13.3\n",
            " 13.1 10.2 10.4 10.9 11.3 12.3  8.8  7.2 10.5  7.4 10.2 11.5 15.1 23.2\n",
            "  9.7 13.8 12.7 13.1 12.5  8.5  5.   6.3  5.6  7.2 12.1  8.3  8.5  5.\n",
            " 11.9 27.9 17.2 27.5 15.  17.2 17.9 16.3  7.   7.2  7.5 10.4  8.8  8.4\n",
            " 16.7 14.2 20.8 13.4 11.7  8.3 10.2 10.9 11.   9.5 14.5 14.1 16.1 14.3\n",
            " 11.7 13.4  9.6  8.7  8.4 12.8 10.5 17.1 18.4 15.4 10.8 11.8 14.9 12.6\n",
            " 14.1 13.  13.4 15.2 16.1 17.8 14.9 14.1 12.7 13.5 14.9 20.  16.4 17.7\n",
            " 19.5 20.2 21.4 19.9 19.  19.1 19.1 20.1 19.9 19.6 23.2 29.8 13.8 13.3\n",
            " 16.7 12.  14.6 21.4 23.  23.7 25.  21.8 20.6 21.2 19.1 20.6 15.2  7.\n",
            "  8.1 13.6 20.1 21.8 24.5 23.1 19.7 18.3 21.2 17.5 16.8 22.4 20.6 23.9\n",
            " 22.  11.9]\n"
          ]
        }
      ]
    },
    {
      "cell_type": "code",
      "metadata": {
        "colab": {
          "base_uri": "https://localhost:8080/"
        },
        "id": "eFVZtf6kXO_j",
        "outputId": "c50f03b8-f1f6-4a12-f371-162f83cfda1f"
      },
      "source": [
        "print(data.DESCR)"
      ],
      "execution_count": null,
      "outputs": [
        {
          "output_type": "stream",
          "name": "stdout",
          "text": [
            ".. _boston_dataset:\n",
            "\n",
            "Boston house prices dataset\n",
            "---------------------------\n",
            "\n",
            "**Data Set Characteristics:**  \n",
            "\n",
            "    :Number of Instances: 506 \n",
            "\n",
            "    :Number of Attributes: 13 numeric/categorical predictive. Median Value (attribute 14) is usually the target.\n",
            "\n",
            "    :Attribute Information (in order):\n",
            "        - CRIM     per capita crime rate by town\n",
            "        - ZN       proportion of residential land zoned for lots over 25,000 sq.ft.\n",
            "        - INDUS    proportion of non-retail business acres per town\n",
            "        - CHAS     Charles River dummy variable (= 1 if tract bounds river; 0 otherwise)\n",
            "        - NOX      nitric oxides concentration (parts per 10 million)\n",
            "        - RM       average number of rooms per dwelling\n",
            "        - AGE      proportion of owner-occupied units built prior to 1940\n",
            "        - DIS      weighted distances to five Boston employment centres\n",
            "        - RAD      index of accessibility to radial highways\n",
            "        - TAX      full-value property-tax rate per $10,000\n",
            "        - PTRATIO  pupil-teacher ratio by town\n",
            "        - B        1000(Bk - 0.63)^2 where Bk is the proportion of blacks by town\n",
            "        - LSTAT    % lower status of the population\n",
            "        - MEDV     Median value of owner-occupied homes in $1000's\n",
            "\n",
            "    :Missing Attribute Values: None\n",
            "\n",
            "    :Creator: Harrison, D. and Rubinfeld, D.L.\n",
            "\n",
            "This is a copy of UCI ML housing dataset.\n",
            "https://archive.ics.uci.edu/ml/machine-learning-databases/housing/\n",
            "\n",
            "\n",
            "This dataset was taken from the StatLib library which is maintained at Carnegie Mellon University.\n",
            "\n",
            "The Boston house-price data of Harrison, D. and Rubinfeld, D.L. 'Hedonic\n",
            "prices and the demand for clean air', J. Environ. Economics & Management,\n",
            "vol.5, 81-102, 1978.   Used in Belsley, Kuh & Welsch, 'Regression diagnostics\n",
            "...', Wiley, 1980.   N.B. Various transformations are used in the table on\n",
            "pages 244-261 of the latter.\n",
            "\n",
            "The Boston house-price data has been used in many machine learning papers that address regression\n",
            "problems.   \n",
            "     \n",
            ".. topic:: References\n",
            "\n",
            "   - Belsley, Kuh & Welsch, 'Regression diagnostics: Identifying Influential Data and Sources of Collinearity', Wiley, 1980. 244-261.\n",
            "   - Quinlan,R. (1993). Combining Instance-Based and Model-Based Learning. In Proceedings on the Tenth International Conference of Machine Learning, 236-243, University of Massachusetts, Amherst. Morgan Kaufmann.\n",
            "\n"
          ]
        }
      ]
    },
    {
      "cell_type": "code",
      "metadata": {
        "colab": {
          "base_uri": "https://localhost:8080/"
        },
        "id": "osYRo9g2XPB3",
        "outputId": "9fa12bda-b15e-423f-83b8-6f3f43480678"
      },
      "source": [
        "print(data.filename)\n",
        "#a csv file!"
      ],
      "execution_count": null,
      "outputs": [
        {
          "output_type": "stream",
          "name": "stdout",
          "text": [
            "/usr/local/lib/python3.7/dist-packages/sklearn/datasets/data/boston_house_prices.csv\n"
          ]
        }
      ]
    },
    {
      "cell_type": "code",
      "metadata": {
        "colab": {
          "base_uri": "https://localhost:8080/",
          "height": 204
        },
        "id": "mkmJ7VoGXszq",
        "outputId": "ffd348e8-1370-4bb1-a32e-afce619eec5a"
      },
      "source": [
        "#to properly inspect the CSV data, we can make a Pandas Dataframe\n",
        "bd = pd.DataFrame(data.data, columns = data.feature_names)\n",
        "\n",
        "bd.head()"
      ],
      "execution_count": null,
      "outputs": [
        {
          "output_type": "execute_result",
          "data": {
            "text/html": [
              "<div>\n",
              "<style scoped>\n",
              "    .dataframe tbody tr th:only-of-type {\n",
              "        vertical-align: middle;\n",
              "    }\n",
              "\n",
              "    .dataframe tbody tr th {\n",
              "        vertical-align: top;\n",
              "    }\n",
              "\n",
              "    .dataframe thead th {\n",
              "        text-align: right;\n",
              "    }\n",
              "</style>\n",
              "<table border=\"1\" class=\"dataframe\">\n",
              "  <thead>\n",
              "    <tr style=\"text-align: right;\">\n",
              "      <th></th>\n",
              "      <th>CRIM</th>\n",
              "      <th>ZN</th>\n",
              "      <th>INDUS</th>\n",
              "      <th>CHAS</th>\n",
              "      <th>NOX</th>\n",
              "      <th>RM</th>\n",
              "      <th>AGE</th>\n",
              "      <th>DIS</th>\n",
              "      <th>RAD</th>\n",
              "      <th>TAX</th>\n",
              "      <th>PTRATIO</th>\n",
              "      <th>B</th>\n",
              "      <th>LSTAT</th>\n",
              "    </tr>\n",
              "  </thead>\n",
              "  <tbody>\n",
              "    <tr>\n",
              "      <th>0</th>\n",
              "      <td>0.00632</td>\n",
              "      <td>18.0</td>\n",
              "      <td>2.31</td>\n",
              "      <td>0.0</td>\n",
              "      <td>0.538</td>\n",
              "      <td>6.575</td>\n",
              "      <td>65.2</td>\n",
              "      <td>4.0900</td>\n",
              "      <td>1.0</td>\n",
              "      <td>296.0</td>\n",
              "      <td>15.3</td>\n",
              "      <td>396.90</td>\n",
              "      <td>4.98</td>\n",
              "    </tr>\n",
              "    <tr>\n",
              "      <th>1</th>\n",
              "      <td>0.02731</td>\n",
              "      <td>0.0</td>\n",
              "      <td>7.07</td>\n",
              "      <td>0.0</td>\n",
              "      <td>0.469</td>\n",
              "      <td>6.421</td>\n",
              "      <td>78.9</td>\n",
              "      <td>4.9671</td>\n",
              "      <td>2.0</td>\n",
              "      <td>242.0</td>\n",
              "      <td>17.8</td>\n",
              "      <td>396.90</td>\n",
              "      <td>9.14</td>\n",
              "    </tr>\n",
              "    <tr>\n",
              "      <th>2</th>\n",
              "      <td>0.02729</td>\n",
              "      <td>0.0</td>\n",
              "      <td>7.07</td>\n",
              "      <td>0.0</td>\n",
              "      <td>0.469</td>\n",
              "      <td>7.185</td>\n",
              "      <td>61.1</td>\n",
              "      <td>4.9671</td>\n",
              "      <td>2.0</td>\n",
              "      <td>242.0</td>\n",
              "      <td>17.8</td>\n",
              "      <td>392.83</td>\n",
              "      <td>4.03</td>\n",
              "    </tr>\n",
              "    <tr>\n",
              "      <th>3</th>\n",
              "      <td>0.03237</td>\n",
              "      <td>0.0</td>\n",
              "      <td>2.18</td>\n",
              "      <td>0.0</td>\n",
              "      <td>0.458</td>\n",
              "      <td>6.998</td>\n",
              "      <td>45.8</td>\n",
              "      <td>6.0622</td>\n",
              "      <td>3.0</td>\n",
              "      <td>222.0</td>\n",
              "      <td>18.7</td>\n",
              "      <td>394.63</td>\n",
              "      <td>2.94</td>\n",
              "    </tr>\n",
              "    <tr>\n",
              "      <th>4</th>\n",
              "      <td>0.06905</td>\n",
              "      <td>0.0</td>\n",
              "      <td>2.18</td>\n",
              "      <td>0.0</td>\n",
              "      <td>0.458</td>\n",
              "      <td>7.147</td>\n",
              "      <td>54.2</td>\n",
              "      <td>6.0622</td>\n",
              "      <td>3.0</td>\n",
              "      <td>222.0</td>\n",
              "      <td>18.7</td>\n",
              "      <td>396.90</td>\n",
              "      <td>5.33</td>\n",
              "    </tr>\n",
              "  </tbody>\n",
              "</table>\n",
              "</div>"
            ],
            "text/plain": [
              "      CRIM    ZN  INDUS  CHAS    NOX  ...  RAD    TAX  PTRATIO       B  LSTAT\n",
              "0  0.00632  18.0   2.31   0.0  0.538  ...  1.0  296.0     15.3  396.90   4.98\n",
              "1  0.02731   0.0   7.07   0.0  0.469  ...  2.0  242.0     17.8  396.90   9.14\n",
              "2  0.02729   0.0   7.07   0.0  0.469  ...  2.0  242.0     17.8  392.83   4.03\n",
              "3  0.03237   0.0   2.18   0.0  0.458  ...  3.0  222.0     18.7  394.63   2.94\n",
              "4  0.06905   0.0   2.18   0.0  0.458  ...  3.0  222.0     18.7  396.90   5.33\n",
              "\n",
              "[5 rows x 13 columns]"
            ]
          },
          "metadata": {},
          "execution_count": 199
        }
      ]
    },
    {
      "cell_type": "code",
      "metadata": {
        "colab": {
          "base_uri": "https://localhost:8080/"
        },
        "id": "my5AeOs6YiuV",
        "outputId": "59160fa1-a9d0-4cda-e2a4-7747bd6ab542"
      },
      "source": [
        "#we still need to add in the price, our target.\n",
        "bd[\"PRICE\"] = data.target\n",
        "\n",
        "bd.PRICE.head()"
      ],
      "execution_count": null,
      "outputs": [
        {
          "output_type": "execute_result",
          "data": {
            "text/plain": [
              "0    24.0\n",
              "1    21.6\n",
              "2    34.7\n",
              "3    33.4\n",
              "4    36.2\n",
              "Name: PRICE, dtype: float64"
            ]
          },
          "metadata": {},
          "execution_count": 200
        }
      ]
    },
    {
      "cell_type": "code",
      "metadata": {
        "colab": {
          "base_uri": "https://localhost:8080/"
        },
        "id": "q7H8V7C6Yiwa",
        "outputId": "cea02352-1667-4885-da44-97151ef8b84f"
      },
      "source": [
        "# now let us inspect the data and view summary statistics\n",
        "bd.info"
      ],
      "execution_count": null,
      "outputs": [
        {
          "output_type": "execute_result",
          "data": {
            "text/plain": [
              "<bound method DataFrame.info of         CRIM    ZN  INDUS  CHAS    NOX  ...    TAX  PTRATIO       B  LSTAT  PRICE\n",
              "0    0.00632  18.0   2.31   0.0  0.538  ...  296.0     15.3  396.90   4.98   24.0\n",
              "1    0.02731   0.0   7.07   0.0  0.469  ...  242.0     17.8  396.90   9.14   21.6\n",
              "2    0.02729   0.0   7.07   0.0  0.469  ...  242.0     17.8  392.83   4.03   34.7\n",
              "3    0.03237   0.0   2.18   0.0  0.458  ...  222.0     18.7  394.63   2.94   33.4\n",
              "4    0.06905   0.0   2.18   0.0  0.458  ...  222.0     18.7  396.90   5.33   36.2\n",
              "..       ...   ...    ...   ...    ...  ...    ...      ...     ...    ...    ...\n",
              "501  0.06263   0.0  11.93   0.0  0.573  ...  273.0     21.0  391.99   9.67   22.4\n",
              "502  0.04527   0.0  11.93   0.0  0.573  ...  273.0     21.0  396.90   9.08   20.6\n",
              "503  0.06076   0.0  11.93   0.0  0.573  ...  273.0     21.0  396.90   5.64   23.9\n",
              "504  0.10959   0.0  11.93   0.0  0.573  ...  273.0     21.0  393.45   6.48   22.0\n",
              "505  0.04741   0.0  11.93   0.0  0.573  ...  273.0     21.0  396.90   7.88   11.9\n",
              "\n",
              "[506 rows x 14 columns]>"
            ]
          },
          "metadata": {},
          "execution_count": 201
        }
      ]
    },
    {
      "cell_type": "code",
      "metadata": {
        "colab": {
          "base_uri": "https://localhost:8080/",
          "height": 297
        },
        "id": "hFKQDF8qY5yX",
        "outputId": "1ecb9185-6046-4fbc-9c86-a2e253387a73"
      },
      "source": [
        "bd.describe()"
      ],
      "execution_count": null,
      "outputs": [
        {
          "output_type": "execute_result",
          "data": {
            "text/html": [
              "<div>\n",
              "<style scoped>\n",
              "    .dataframe tbody tr th:only-of-type {\n",
              "        vertical-align: middle;\n",
              "    }\n",
              "\n",
              "    .dataframe tbody tr th {\n",
              "        vertical-align: top;\n",
              "    }\n",
              "\n",
              "    .dataframe thead th {\n",
              "        text-align: right;\n",
              "    }\n",
              "</style>\n",
              "<table border=\"1\" class=\"dataframe\">\n",
              "  <thead>\n",
              "    <tr style=\"text-align: right;\">\n",
              "      <th></th>\n",
              "      <th>CRIM</th>\n",
              "      <th>ZN</th>\n",
              "      <th>INDUS</th>\n",
              "      <th>CHAS</th>\n",
              "      <th>NOX</th>\n",
              "      <th>RM</th>\n",
              "      <th>AGE</th>\n",
              "      <th>DIS</th>\n",
              "      <th>RAD</th>\n",
              "      <th>TAX</th>\n",
              "      <th>PTRATIO</th>\n",
              "      <th>B</th>\n",
              "      <th>LSTAT</th>\n",
              "      <th>PRICE</th>\n",
              "    </tr>\n",
              "  </thead>\n",
              "  <tbody>\n",
              "    <tr>\n",
              "      <th>count</th>\n",
              "      <td>506.000000</td>\n",
              "      <td>506.000000</td>\n",
              "      <td>506.000000</td>\n",
              "      <td>506.000000</td>\n",
              "      <td>506.000000</td>\n",
              "      <td>506.000000</td>\n",
              "      <td>506.000000</td>\n",
              "      <td>506.000000</td>\n",
              "      <td>506.000000</td>\n",
              "      <td>506.000000</td>\n",
              "      <td>506.000000</td>\n",
              "      <td>506.000000</td>\n",
              "      <td>506.000000</td>\n",
              "      <td>506.000000</td>\n",
              "    </tr>\n",
              "    <tr>\n",
              "      <th>mean</th>\n",
              "      <td>3.613524</td>\n",
              "      <td>11.363636</td>\n",
              "      <td>11.136779</td>\n",
              "      <td>0.069170</td>\n",
              "      <td>0.554695</td>\n",
              "      <td>6.284634</td>\n",
              "      <td>68.574901</td>\n",
              "      <td>3.795043</td>\n",
              "      <td>9.549407</td>\n",
              "      <td>408.237154</td>\n",
              "      <td>18.455534</td>\n",
              "      <td>356.674032</td>\n",
              "      <td>12.653063</td>\n",
              "      <td>22.532806</td>\n",
              "    </tr>\n",
              "    <tr>\n",
              "      <th>std</th>\n",
              "      <td>8.601545</td>\n",
              "      <td>23.322453</td>\n",
              "      <td>6.860353</td>\n",
              "      <td>0.253994</td>\n",
              "      <td>0.115878</td>\n",
              "      <td>0.702617</td>\n",
              "      <td>28.148861</td>\n",
              "      <td>2.105710</td>\n",
              "      <td>8.707259</td>\n",
              "      <td>168.537116</td>\n",
              "      <td>2.164946</td>\n",
              "      <td>91.294864</td>\n",
              "      <td>7.141062</td>\n",
              "      <td>9.197104</td>\n",
              "    </tr>\n",
              "    <tr>\n",
              "      <th>min</th>\n",
              "      <td>0.006320</td>\n",
              "      <td>0.000000</td>\n",
              "      <td>0.460000</td>\n",
              "      <td>0.000000</td>\n",
              "      <td>0.385000</td>\n",
              "      <td>3.561000</td>\n",
              "      <td>2.900000</td>\n",
              "      <td>1.129600</td>\n",
              "      <td>1.000000</td>\n",
              "      <td>187.000000</td>\n",
              "      <td>12.600000</td>\n",
              "      <td>0.320000</td>\n",
              "      <td>1.730000</td>\n",
              "      <td>5.000000</td>\n",
              "    </tr>\n",
              "    <tr>\n",
              "      <th>25%</th>\n",
              "      <td>0.082045</td>\n",
              "      <td>0.000000</td>\n",
              "      <td>5.190000</td>\n",
              "      <td>0.000000</td>\n",
              "      <td>0.449000</td>\n",
              "      <td>5.885500</td>\n",
              "      <td>45.025000</td>\n",
              "      <td>2.100175</td>\n",
              "      <td>4.000000</td>\n",
              "      <td>279.000000</td>\n",
              "      <td>17.400000</td>\n",
              "      <td>375.377500</td>\n",
              "      <td>6.950000</td>\n",
              "      <td>17.025000</td>\n",
              "    </tr>\n",
              "    <tr>\n",
              "      <th>50%</th>\n",
              "      <td>0.256510</td>\n",
              "      <td>0.000000</td>\n",
              "      <td>9.690000</td>\n",
              "      <td>0.000000</td>\n",
              "      <td>0.538000</td>\n",
              "      <td>6.208500</td>\n",
              "      <td>77.500000</td>\n",
              "      <td>3.207450</td>\n",
              "      <td>5.000000</td>\n",
              "      <td>330.000000</td>\n",
              "      <td>19.050000</td>\n",
              "      <td>391.440000</td>\n",
              "      <td>11.360000</td>\n",
              "      <td>21.200000</td>\n",
              "    </tr>\n",
              "    <tr>\n",
              "      <th>75%</th>\n",
              "      <td>3.677083</td>\n",
              "      <td>12.500000</td>\n",
              "      <td>18.100000</td>\n",
              "      <td>0.000000</td>\n",
              "      <td>0.624000</td>\n",
              "      <td>6.623500</td>\n",
              "      <td>94.075000</td>\n",
              "      <td>5.188425</td>\n",
              "      <td>24.000000</td>\n",
              "      <td>666.000000</td>\n",
              "      <td>20.200000</td>\n",
              "      <td>396.225000</td>\n",
              "      <td>16.955000</td>\n",
              "      <td>25.000000</td>\n",
              "    </tr>\n",
              "    <tr>\n",
              "      <th>max</th>\n",
              "      <td>88.976200</td>\n",
              "      <td>100.000000</td>\n",
              "      <td>27.740000</td>\n",
              "      <td>1.000000</td>\n",
              "      <td>0.871000</td>\n",
              "      <td>8.780000</td>\n",
              "      <td>100.000000</td>\n",
              "      <td>12.126500</td>\n",
              "      <td>24.000000</td>\n",
              "      <td>711.000000</td>\n",
              "      <td>22.000000</td>\n",
              "      <td>396.900000</td>\n",
              "      <td>37.970000</td>\n",
              "      <td>50.000000</td>\n",
              "    </tr>\n",
              "  </tbody>\n",
              "</table>\n",
              "</div>"
            ],
            "text/plain": [
              "             CRIM          ZN       INDUS  ...           B       LSTAT       PRICE\n",
              "count  506.000000  506.000000  506.000000  ...  506.000000  506.000000  506.000000\n",
              "mean     3.613524   11.363636   11.136779  ...  356.674032   12.653063   22.532806\n",
              "std      8.601545   23.322453    6.860353  ...   91.294864    7.141062    9.197104\n",
              "min      0.006320    0.000000    0.460000  ...    0.320000    1.730000    5.000000\n",
              "25%      0.082045    0.000000    5.190000  ...  375.377500    6.950000   17.025000\n",
              "50%      0.256510    0.000000    9.690000  ...  391.440000   11.360000   21.200000\n",
              "75%      3.677083   12.500000   18.100000  ...  396.225000   16.955000   25.000000\n",
              "max     88.976200  100.000000   27.740000  ...  396.900000   37.970000   50.000000\n",
              "\n",
              "[8 rows x 14 columns]"
            ]
          },
          "metadata": {},
          "execution_count": 202
        }
      ]
    },
    {
      "cell_type": "markdown",
      "metadata": {
        "id": "WW_kNu_naEQM"
      },
      "source": [
        "### Data Visualization"
      ]
    },
    {
      "cell_type": "code",
      "metadata": {
        "colab": {
          "base_uri": "https://localhost:8080/",
          "height": 879
        },
        "id": "t8waWXkkZxQu",
        "outputId": "37dfed88-7102-4c84-8ad5-b785ec12fee1"
      },
      "source": [
        "# First, let us get a histogram of all numerical columns.\n",
        "plt.rcParams['figure.figsize'] = [15, 15] # make the plot bigger so the subplots don't overlap\n",
        "bd.hist(); # use a semicolon to supress return value"
      ],
      "execution_count": null,
      "outputs": [
        {
          "output_type": "display_data",
          "data": {
            "image/png": "[encoded data removed]",
            "text/plain": [
              "<Figure size 1080x1080 with 16 Axes>"
            ]
          },
          "metadata": {
            "needs_background": "light"
          }
        }
      ]
    },
    {
      "cell_type": "code",
      "metadata": {
        "colab": {
          "base_uri": "https://localhost:8080/",
          "height": 350
        },
        "id": "4aoSCcg4aiqY",
        "outputId": "4218f102-8a62-4f0e-d584-c4dc40a83fd1"
      },
      "source": [
        "#From the above summary statistics we can see which features would be best to plot against our price.\n",
        "\n",
        "plt.figure(figsize=(20, 5))\n",
        "\n",
        "features = ['LSTAT', 'PTRATIO', 'RM']\n",
        "target = bd['PRICE']\n",
        "\n",
        "for i, col in enumerate(features):\n",
        "    plt.subplot(1, len(features) , i+1)\n",
        "    x = bd[col]\n",
        "    y = target\n",
        "    plt.scatter(x, y, marker='o')\n",
        "    plt.title(\"Variation in House prices\")\n",
        "    plt.xlabel(col)\n",
        "    plt.ylabel('\"House prices in $1000\"')"
      ],
      "execution_count": null,
      "outputs": [
        {
          "output_type": "display_data",
          "data": {
            "image/png": "[encoded data removed]",
            "text/plain": [
              "<Figure size 1440x360 with 3 Axes>"
            ]
          },
          "metadata": {
            "needs_background": "light"
          }
        }
      ]
    },
    {
      "cell_type": "code",
      "metadata": {
        "colab": {
          "base_uri": "https://localhost:8080/",
          "height": 353
        },
        "id": "BdPAxIZ4air3",
        "outputId": "eb5f7255-a236-4764-eaaa-ae7ab83ca770"
      },
      "source": [
        "#The best of the two is a positive correlation with RM and a negative correlation with LSTAT. We will use RM for our Regression training\n",
        "# Let us do LSTAT first by making it have positive correlation\n",
        "\n",
        "plt.figure(figsize=(10, 5))\n",
        "\n",
        "X = bd.RM\n",
        "#convert to numpy\n",
        "X = X.to_numpy()\n",
        "\n",
        "\n",
        "Y = bd.PRICE\n",
        "#convert to numpy\n",
        "Y = Y.to_numpy()\n",
        "\n",
        "plt.scatter(X, Y)\n",
        "plt.title(\"RM to PRICE\")"
      ],
      "execution_count": null,
      "outputs": [
        {
          "output_type": "execute_result",
          "data": {
            "text/plain": [
              "Text(0.5, 1.0, 'RM to PRICE')"
            ]
          },
          "metadata": {},
          "execution_count": 205
        },
        {
          "output_type": "display_data",
          "data": {
            "image/png": "[encoded data removed]",
            "text/plain": [
              "<Figure size 720x360 with 1 Axes>"
            ]
          },
          "metadata": {
            "needs_background": "light"
          }
        }
      ]
    },
    {
      "cell_type": "markdown",
      "metadata": {
        "id": "ismYwrrzkgo0"
      },
      "source": [
        "# Part 3: Instantiate the Model and Train (\"fit\") the model"
      ]
    },
    {
      "cell_type": "code",
      "metadata": {
        "colab": {
          "base_uri": "https://localhost:8080/"
        },
        "id": "YNZyn6i-aits",
        "outputId": "9479a6f8-8d32-40df-b48b-b45b32dbbb55"
      },
      "source": [
        "# Now create our Tensorflow model\n",
        "model = tf.keras.models.Sequential([\n",
        "  tf.keras.layers.Input(shape=(1,)),\n",
        "  tf.keras.layers.Dense(1)\n",
        "])\n",
        "\n",
        "#Configures the model for training.\n",
        "model.compile(optimizer=tf.keras.optimizers.SGD(0.001, 0.9), loss='mse')\n",
        "# model.compile(optimizer='adam', loss='mse')\n",
        "\n",
        "\n",
        "# learning rate scheduler\n",
        "def schedule(epoch, lr):\n",
        "  if epoch >= 50:\n",
        "    return 0.0001\n",
        "  return 0.001\n",
        " \n",
        "\n",
        "scheduler = tf.keras.callbacks.LearningRateScheduler(schedule)\n",
        "\n",
        "\n",
        "# Train the model\n",
        "r = model.fit(X, Y, epochs=200, callbacks=[scheduler])"
      ],
      "execution_count": null,
      "outputs": [
        {
          "output_type": "stream",
          "name": "stdout",
          "text": [
            "Epoch 1/200\n",
            "16/16 [==============================] - 0s 1ms/step - loss: 182.1857\n",
            "Epoch 2/200\n",
            "16/16 [==============================] - 0s 1ms/step - loss: 78.3637\n",
            "Epoch 3/200\n",
            "16/16 [==============================] - 0s 1ms/step - loss: 63.1942\n",
            "Epoch 4/200\n",
            "16/16 [==============================] - 0s 1ms/step - loss: 60.5639\n",
            "Epoch 5/200\n",
            "16/16 [==============================] - 0s 1ms/step - loss: 59.3055\n",
            "Epoch 6/200\n",
            "16/16 [==============================] - 0s 1ms/step - loss: 58.6814\n",
            "Epoch 7/200\n",
            "16/16 [==============================] - 0s 1ms/step - loss: 59.4651\n",
            "Epoch 8/200\n",
            "16/16 [==============================] - 0s 1ms/step - loss: 59.0561\n",
            "Epoch 9/200\n",
            "16/16 [==============================] - 0s 1ms/step - loss: 58.5543\n",
            "Epoch 10/200\n",
            "16/16 [==============================] - 0s 1ms/step - loss: 58.9182\n",
            "Epoch 11/200\n",
            "16/16 [==============================] - 0s 1ms/step - loss: 58.0552\n",
            "Epoch 12/200\n",
            "16/16 [==============================] - 0s 1ms/step - loss: 59.0398\n",
            "Epoch 13/200\n",
            "16/16 [==============================] - 0s 2ms/step - loss: 60.3031\n",
            "Epoch 14/200\n",
            "16/16 [==============================] - 0s 2ms/step - loss: 58.5675\n",
            "Epoch 15/200\n",
            "16/16 [==============================] - 0s 1ms/step - loss: 58.6700\n",
            "Epoch 16/200\n",
            "16/16 [==============================] - 0s 1ms/step - loss: 57.9169\n",
            "Epoch 17/200\n",
            "16/16 [==============================] - 0s 1ms/step - loss: 57.9708\n",
            "Epoch 18/200\n",
            "16/16 [==============================] - 0s 2ms/step - loss: 57.5788\n",
            "Epoch 19/200\n",
            "16/16 [==============================] - 0s 1ms/step - loss: 58.7019\n",
            "Epoch 20/200\n",
            "16/16 [==============================] - 0s 1ms/step - loss: 60.0356\n",
            "Epoch 21/200\n",
            "16/16 [==============================] - 0s 1ms/step - loss: 58.8015\n",
            "Epoch 22/200\n",
            "16/16 [==============================] - 0s 1ms/step - loss: 56.6342\n",
            "Epoch 23/200\n",
            "16/16 [==============================] - 0s 1ms/step - loss: 57.9298\n",
            "Epoch 24/200\n",
            "16/16 [==============================] - 0s 2ms/step - loss: 56.9485\n",
            "Epoch 25/200\n",
            "16/16 [==============================] - 0s 1ms/step - loss: 57.1505\n",
            "Epoch 26/200\n",
            "16/16 [==============================] - 0s 1ms/step - loss: 56.7356\n",
            "Epoch 27/200\n",
            "16/16 [==============================] - 0s 1ms/step - loss: 55.9331\n",
            "Epoch 28/200\n",
            "16/16 [==============================] - 0s 1ms/step - loss: 56.9599\n",
            "Epoch 29/200\n",
            "16/16 [==============================] - 0s 1ms/step - loss: 56.6814\n",
            "Epoch 30/200\n",
            "16/16 [==============================] - 0s 1ms/step - loss: 56.5544\n",
            "Epoch 31/200\n",
            "16/16 [==============================] - 0s 1ms/step - loss: 55.8006\n",
            "Epoch 32/200\n",
            "16/16 [==============================] - 0s 1ms/step - loss: 56.1478\n",
            "Epoch 33/200\n",
            "16/16 [==============================] - 0s 1ms/step - loss: 56.4322\n",
            "Epoch 34/200\n",
            "16/16 [==============================] - 0s 1ms/step - loss: 56.1936\n",
            "Epoch 35/200\n",
            "16/16 [==============================] - 0s 1ms/step - loss: 56.9940\n",
            "Epoch 36/200\n",
            "16/16 [==============================] - 0s 1ms/step - loss: 55.6142\n",
            "Epoch 37/200\n",
            "16/16 [==============================] - 0s 1ms/step - loss: 55.5300\n",
            "Epoch 38/200\n",
            "16/16 [==============================] - 0s 1ms/step - loss: 56.7322\n",
            "Epoch 39/200\n",
            "16/16 [==============================] - 0s 1ms/step - loss: 54.5953\n",
            "Epoch 40/200\n",
            "16/16 [==============================] - 0s 1ms/step - loss: 56.1080\n",
            "Epoch 41/200\n",
            "16/16 [==============================] - 0s 1ms/step - loss: 55.7214\n",
            "Epoch 42/200\n",
            "16/16 [==============================] - 0s 1ms/step - loss: 55.2910\n",
            "Epoch 43/200\n",
            "16/16 [==============================] - 0s 1ms/step - loss: 55.0151\n",
            "Epoch 44/200\n",
            "16/16 [==============================] - 0s 1ms/step - loss: 55.4036\n",
            "Epoch 45/200\n",
            "16/16 [==============================] - 0s 1ms/step - loss: 55.7361\n",
            "Epoch 46/200\n",
            "16/16 [==============================] - 0s 1ms/step - loss: 55.1900\n",
            "Epoch 47/200\n",
            "16/16 [==============================] - 0s 1ms/step - loss: 54.7995\n",
            "Epoch 48/200\n",
            "16/16 [==============================] - 0s 1ms/step - loss: 54.8978\n",
            "Epoch 49/200\n",
            "16/16 [==============================] - 0s 2ms/step - loss: 55.3210\n",
            "Epoch 50/200\n",
            "16/16 [==============================] - 0s 1ms/step - loss: 54.9323\n",
            "Epoch 51/200\n",
            "16/16 [==============================] - 0s 1ms/step - loss: 58.1973\n",
            "Epoch 52/200\n",
            "16/16 [==============================] - 0s 1ms/step - loss: 56.7896\n",
            "Epoch 53/200\n",
            "16/16 [==============================] - 0s 1ms/step - loss: 53.8882\n",
            "Epoch 54/200\n",
            "16/16 [==============================] - 0s 2ms/step - loss: 54.0850\n",
            "Epoch 55/200\n",
            "16/16 [==============================] - 0s 1ms/step - loss: 53.9727\n",
            "Epoch 56/200\n",
            "16/16 [==============================] - 0s 1ms/step - loss: 53.9634\n",
            "Epoch 57/200\n",
            "16/16 [==============================] - 0s 1ms/step - loss: 53.9437\n",
            "Epoch 58/200\n",
            "16/16 [==============================] - 0s 1ms/step - loss: 53.9287\n",
            "Epoch 59/200\n",
            "16/16 [==============================] - 0s 1ms/step - loss: 53.9367\n",
            "Epoch 60/200\n",
            "16/16 [==============================] - 0s 1ms/step - loss: 53.9073\n",
            "Epoch 61/200\n",
            "16/16 [==============================] - 0s 1ms/step - loss: 53.9276\n",
            "Epoch 62/200\n",
            "16/16 [==============================] - 0s 1ms/step - loss: 53.9015\n",
            "Epoch 63/200\n",
            "16/16 [==============================] - 0s 1ms/step - loss: 53.9848\n",
            "Epoch 64/200\n",
            "16/16 [==============================] - 0s 1ms/step - loss: 53.9288\n",
            "Epoch 65/200\n",
            "16/16 [==============================] - 0s 1ms/step - loss: 53.9853\n",
            "Epoch 66/200\n",
            "16/16 [==============================] - 0s 1ms/step - loss: 53.8458\n",
            "Epoch 67/200\n",
            "16/16 [==============================] - 0s 1ms/step - loss: 53.8690\n",
            "Epoch 68/200\n",
            "16/16 [==============================] - 0s 1ms/step - loss: 53.8449\n",
            "Epoch 69/200\n",
            "16/16 [==============================] - 0s 1ms/step - loss: 53.9361\n",
            "Epoch 70/200\n",
            "16/16 [==============================] - 0s 1ms/step - loss: 53.8297\n",
            "Epoch 71/200\n",
            "16/16 [==============================] - 0s 1ms/step - loss: 53.9125\n",
            "Epoch 72/200\n",
            "16/16 [==============================] - 0s 1ms/step - loss: 53.8620\n",
            "Epoch 73/200\n",
            "16/16 [==============================] - 0s 1ms/step - loss: 53.8722\n",
            "Epoch 74/200\n",
            "16/16 [==============================] - 0s 1ms/step - loss: 53.8169\n",
            "Epoch 75/200\n",
            "16/16 [==============================] - 0s 1ms/step - loss: 53.9695\n",
            "Epoch 76/200\n",
            "16/16 [==============================] - 0s 1ms/step - loss: 53.8068\n",
            "Epoch 77/200\n",
            "16/16 [==============================] - 0s 1ms/step - loss: 53.7745\n",
            "Epoch 78/200\n",
            "16/16 [==============================] - 0s 1ms/step - loss: 53.8200\n",
            "Epoch 79/200\n",
            "16/16 [==============================] - 0s 1ms/step - loss: 53.7596\n",
            "Epoch 80/200\n",
            "16/16 [==============================] - 0s 1ms/step - loss: 53.8055\n",
            "Epoch 81/200\n",
            "16/16 [==============================] - 0s 1ms/step - loss: 53.7334\n",
            "Epoch 82/200\n",
            "16/16 [==============================] - 0s 1ms/step - loss: 53.7398\n",
            "Epoch 83/200\n",
            "16/16 [==============================] - 0s 2ms/step - loss: 53.7326\n",
            "Epoch 84/200\n",
            "16/16 [==============================] - 0s 2ms/step - loss: 53.8339\n",
            "Epoch 85/200\n",
            "16/16 [==============================] - 0s 1ms/step - loss: 53.7965\n",
            "Epoch 86/200\n",
            "16/16 [==============================] - 0s 1ms/step - loss: 53.7215\n",
            "Epoch 87/200\n",
            "16/16 [==============================] - 0s 1ms/step - loss: 53.7499\n",
            "Epoch 88/200\n",
            "16/16 [==============================] - 0s 1ms/step - loss: 53.7446\n",
            "Epoch 89/200\n",
            "16/16 [==============================] - 0s 1ms/step - loss: 53.6652\n",
            "Epoch 90/200\n",
            "16/16 [==============================] - 0s 1ms/step - loss: 53.6795\n",
            "Epoch 91/200\n",
            "16/16 [==============================] - 0s 1ms/step - loss: 53.6756\n",
            "Epoch 92/200\n",
            "16/16 [==============================] - 0s 1ms/step - loss: 53.7669\n",
            "Epoch 93/200\n",
            "16/16 [==============================] - 0s 1ms/step - loss: 53.6715\n",
            "Epoch 94/200\n",
            "16/16 [==============================] - 0s 2ms/step - loss: 53.6797\n",
            "Epoch 95/200\n",
            "16/16 [==============================] - 0s 1ms/step - loss: 53.7093\n",
            "Epoch 96/200\n",
            "16/16 [==============================] - 0s 1ms/step - loss: 53.6325\n",
            "Epoch 97/200\n",
            "16/16 [==============================] - 0s 1ms/step - loss: 53.6395\n",
            "Epoch 98/200\n",
            "16/16 [==============================] - 0s 1ms/step - loss: 53.6876\n",
            "Epoch 99/200\n",
            "16/16 [==============================] - 0s 2ms/step - loss: 53.7518\n",
            "Epoch 100/200\n",
            "16/16 [==============================] - 0s 1ms/step - loss: 53.5969\n",
            "Epoch 101/200\n",
            "16/16 [==============================] - 0s 2ms/step - loss: 53.6253\n",
            "Epoch 102/200\n",
            "16/16 [==============================] - 0s 1ms/step - loss: 53.5711\n",
            "Epoch 103/200\n",
            "16/16 [==============================] - 0s 1ms/step - loss: 53.6916\n",
            "Epoch 104/200\n",
            "16/16 [==============================] - 0s 1ms/step - loss: 53.5876\n",
            "Epoch 105/200\n",
            "16/16 [==============================] - 0s 1ms/step - loss: 53.6190\n",
            "Epoch 106/200\n",
            "16/16 [==============================] - 0s 1ms/step - loss: 53.5511\n",
            "Epoch 107/200\n",
            "16/16 [==============================] - 0s 1ms/step - loss: 53.5882\n",
            "Epoch 108/200\n",
            "16/16 [==============================] - 0s 1ms/step - loss: 53.5309\n",
            "Epoch 109/200\n",
            "16/16 [==============================] - 0s 1ms/step - loss: 53.5501\n",
            "Epoch 110/200\n",
            "16/16 [==============================] - 0s 1ms/step - loss: 53.5426\n",
            "Epoch 111/200\n",
            "16/16 [==============================] - 0s 1ms/step - loss: 53.5076\n",
            "Epoch 112/200\n",
            "16/16 [==============================] - 0s 1ms/step - loss: 53.5268\n",
            "Epoch 113/200\n",
            "16/16 [==============================] - 0s 1ms/step - loss: 53.5569\n",
            "Epoch 114/200\n",
            "16/16 [==============================] - 0s 1ms/step - loss: 53.5423\n",
            "Epoch 115/200\n",
            "16/16 [==============================] - 0s 1ms/step - loss: 53.5212\n",
            "Epoch 116/200\n",
            "16/16 [==============================] - 0s 1ms/step - loss: 53.4968\n",
            "Epoch 117/200\n",
            "16/16 [==============================] - 0s 1ms/step - loss: 53.4922\n",
            "Epoch 118/200\n",
            "16/16 [==============================] - 0s 1ms/step - loss: 53.4696\n",
            "Epoch 119/200\n",
            "16/16 [==============================] - 0s 1ms/step - loss: 53.4557\n",
            "Epoch 120/200\n",
            "16/16 [==============================] - 0s 1ms/step - loss: 53.5052\n",
            "Epoch 121/200\n",
            "16/16 [==============================] - 0s 1ms/step - loss: 53.4564\n",
            "Epoch 122/200\n",
            "16/16 [==============================] - 0s 1ms/step - loss: 53.4547\n",
            "Epoch 123/200\n",
            "16/16 [==============================] - 0s 1ms/step - loss: 53.4581\n",
            "Epoch 124/200\n",
            "16/16 [==============================] - 0s 1ms/step - loss: 53.4336\n",
            "Epoch 125/200\n",
            "16/16 [==============================] - 0s 1ms/step - loss: 53.4500\n",
            "Epoch 126/200\n",
            "16/16 [==============================] - 0s 1ms/step - loss: 53.4429\n",
            "Epoch 127/200\n",
            "16/16 [==============================] - 0s 1ms/step - loss: 53.3945\n",
            "Epoch 128/200\n",
            "16/16 [==============================] - 0s 1ms/step - loss: 53.3764\n",
            "Epoch 129/200\n",
            "16/16 [==============================] - 0s 1ms/step - loss: 53.3832\n",
            "Epoch 130/200\n",
            "16/16 [==============================] - 0s 1ms/step - loss: 53.4506\n",
            "Epoch 131/200\n",
            "16/16 [==============================] - 0s 2ms/step - loss: 53.3783\n",
            "Epoch 132/200\n",
            "16/16 [==============================] - 0s 1ms/step - loss: 53.3480\n",
            "Epoch 133/200\n",
            "16/16 [==============================] - 0s 2ms/step - loss: 53.4169\n",
            "Epoch 134/200\n",
            "16/16 [==============================] - 0s 1ms/step - loss: 53.4442\n",
            "Epoch 135/200\n",
            "16/16 [==============================] - 0s 1ms/step - loss: 53.4499\n",
            "Epoch 136/200\n",
            "16/16 [==============================] - 0s 1ms/step - loss: 53.3451\n",
            "Epoch 137/200\n",
            "16/16 [==============================] - 0s 1ms/step - loss: 53.4130\n",
            "Epoch 138/200\n",
            "16/16 [==============================] - 0s 1ms/step - loss: 53.4088\n",
            "Epoch 139/200\n",
            "16/16 [==============================] - 0s 1ms/step - loss: 53.4969\n",
            "Epoch 140/200\n",
            "16/16 [==============================] - 0s 1ms/step - loss: 53.3011\n",
            "Epoch 141/200\n",
            "16/16 [==============================] - 0s 1ms/step - loss: 53.4066\n",
            "Epoch 142/200\n",
            "16/16 [==============================] - 0s 2ms/step - loss: 53.3454\n",
            "Epoch 143/200\n",
            "16/16 [==============================] - 0s 1ms/step - loss: 53.2893\n",
            "Epoch 144/200\n",
            "16/16 [==============================] - 0s 1ms/step - loss: 53.2562\n",
            "Epoch 145/200\n",
            "16/16 [==============================] - 0s 1ms/step - loss: 53.2640\n",
            "Epoch 146/200\n",
            "16/16 [==============================] - 0s 1ms/step - loss: 53.3394\n",
            "Epoch 147/200\n",
            "16/16 [==============================] - 0s 2ms/step - loss: 53.2837\n",
            "Epoch 148/200\n",
            "16/16 [==============================] - 0s 1ms/step - loss: 53.2548\n",
            "Epoch 149/200\n",
            "16/16 [==============================] - 0s 1ms/step - loss: 53.3158\n",
            "Epoch 150/200\n",
            "16/16 [==============================] - 0s 1ms/step - loss: 53.3022\n",
            "Epoch 151/200\n",
            "16/16 [==============================] - 0s 2ms/step - loss: 53.2686\n",
            "Epoch 152/200\n",
            "16/16 [==============================] - 0s 1ms/step - loss: 53.2637\n",
            "Epoch 153/200\n",
            "16/16 [==============================] - 0s 2ms/step - loss: 53.2253\n",
            "Epoch 154/200\n",
            "16/16 [==============================] - 0s 1ms/step - loss: 53.2307\n",
            "Epoch 155/200\n",
            "16/16 [==============================] - 0s 2ms/step - loss: 53.1937\n",
            "Epoch 156/200\n",
            "16/16 [==============================] - 0s 1ms/step - loss: 53.2511\n",
            "Epoch 157/200\n",
            "16/16 [==============================] - 0s 2ms/step - loss: 53.1930\n",
            "Epoch 158/200\n",
            "16/16 [==============================] - 0s 1ms/step - loss: 53.2173\n",
            "Epoch 159/200\n",
            "16/16 [==============================] - 0s 2ms/step - loss: 53.2188\n",
            "Epoch 160/200\n",
            "16/16 [==============================] - 0s 1ms/step - loss: 53.1536\n",
            "Epoch 161/200\n",
            "16/16 [==============================] - 0s 1ms/step - loss: 53.2097\n",
            "Epoch 162/200\n",
            "16/16 [==============================] - 0s 1ms/step - loss: 53.1624\n",
            "Epoch 163/200\n",
            "16/16 [==============================] - 0s 1ms/step - loss: 53.2199\n",
            "Epoch 164/200\n",
            "16/16 [==============================] - 0s 1ms/step - loss: 53.1432\n",
            "Epoch 165/200\n",
            "16/16 [==============================] - 0s 1ms/step - loss: 53.2125\n",
            "Epoch 166/200\n",
            "16/16 [==============================] - 0s 1ms/step - loss: 53.1023\n",
            "Epoch 167/200\n",
            "16/16 [==============================] - 0s 1ms/step - loss: 53.3074\n",
            "Epoch 168/200\n",
            "16/16 [==============================] - 0s 2ms/step - loss: 53.0874\n",
            "Epoch 169/200\n",
            "16/16 [==============================] - 0s 1ms/step - loss: 53.1395\n",
            "Epoch 170/200\n",
            "16/16 [==============================] - 0s 2ms/step - loss: 53.0800\n",
            "Epoch 171/200\n",
            "16/16 [==============================] - 0s 2ms/step - loss: 53.0897\n",
            "Epoch 172/200\n",
            "16/16 [==============================] - 0s 2ms/step - loss: 53.2300\n",
            "Epoch 173/200\n",
            "16/16 [==============================] - 0s 1ms/step - loss: 53.0865\n",
            "Epoch 174/200\n",
            "16/16 [==============================] - 0s 1ms/step - loss: 53.0677\n",
            "Epoch 175/200\n",
            "16/16 [==============================] - 0s 1ms/step - loss: 53.0817\n",
            "Epoch 176/200\n",
            "16/16 [==============================] - 0s 1ms/step - loss: 53.0476\n",
            "Epoch 177/200\n",
            "16/16 [==============================] - 0s 1ms/step - loss: 53.1179\n",
            "Epoch 178/200\n",
            "16/16 [==============================] - 0s 1ms/step - loss: 53.0531\n",
            "Epoch 179/200\n",
            "16/16 [==============================] - 0s 1ms/step - loss: 53.0158\n",
            "Epoch 180/200\n",
            "16/16 [==============================] - 0s 1ms/step - loss: 53.0183\n",
            "Epoch 181/200\n",
            "16/16 [==============================] - 0s 1ms/step - loss: 52.9870\n",
            "Epoch 182/200\n",
            "16/16 [==============================] - 0s 2ms/step - loss: 53.0091\n",
            "Epoch 183/200\n",
            "16/16 [==============================] - 0s 1ms/step - loss: 53.0056\n",
            "Epoch 184/200\n",
            "16/16 [==============================] - 0s 1ms/step - loss: 53.0365\n",
            "Epoch 185/200\n",
            "16/16 [==============================] - 0s 1ms/step - loss: 53.0457\n",
            "Epoch 186/200\n",
            "16/16 [==============================] - 0s 2ms/step - loss: 52.9609\n",
            "Epoch 187/200\n",
            "16/16 [==============================] - 0s 2ms/step - loss: 52.9454\n",
            "Epoch 188/200\n",
            "16/16 [==============================] - 0s 1ms/step - loss: 52.9863\n",
            "Epoch 189/200\n",
            "16/16 [==============================] - 0s 1ms/step - loss: 52.9478\n",
            "Epoch 190/200\n",
            "16/16 [==============================] - 0s 1ms/step - loss: 52.9295\n",
            "Epoch 191/200\n",
            "16/16 [==============================] - 0s 1ms/step - loss: 52.9174\n",
            "Epoch 192/200\n",
            "16/16 [==============================] - 0s 1ms/step - loss: 52.9126\n",
            "Epoch 193/200\n",
            "16/16 [==============================] - 0s 1ms/step - loss: 52.9564\n",
            "Epoch 194/200\n",
            "16/16 [==============================] - 0s 1ms/step - loss: 53.0777\n",
            "Epoch 195/200\n",
            "16/16 [==============================] - 0s 1ms/step - loss: 53.0657\n",
            "Epoch 196/200\n",
            "16/16 [==============================] - 0s 1ms/step - loss: 52.8584\n",
            "Epoch 197/200\n",
            "16/16 [==============================] - 0s 2ms/step - loss: 52.8674\n",
            "Epoch 198/200\n",
            "16/16 [==============================] - 0s 1ms/step - loss: 52.9944\n",
            "Epoch 199/200\n",
            "16/16 [==============================] - 0s 1ms/step - loss: 52.9012\n",
            "Epoch 200/200\n",
            "16/16 [==============================] - 0s 1ms/step - loss: 52.8715\n"
          ]
        }
      ]
    },
    {
      "cell_type": "markdown",
      "metadata": {
        "id": "XhFj8Rscm-Y_"
      },
      "source": [
        ""
      ]
    },
    {
      "cell_type": "code",
      "metadata": {
        "colab": {
          "base_uri": "https://localhost:8080/",
          "height": 337
        },
        "id": "r4qPpqeGY50d",
        "outputId": "8e4684a6-d112-4770-f175-9ff7c07c9830"
      },
      "source": [
        "plt.figure(figsize=(10, 5))\n",
        "\n",
        "# Plot the loss\n",
        "plt.plot(r.history['loss'], label='loss')"
      ],
      "execution_count": null,
      "outputs": [
        {
          "output_type": "execute_result",
          "data": {
            "text/plain": [
              "[<matplotlib.lines.Line2D at 0x7fddfb89a090>]"
            ]
          },
          "metadata": {},
          "execution_count": 207
        },
        {
          "output_type": "display_data",
          "data": {
            "image/png": "[encoded data removed]",
            "text/plain": [
              "<Figure size 720x360 with 1 Axes>"
            ]
          },
          "metadata": {
            "needs_background": "light"
          }
        }
      ]
    },
    {
      "cell_type": "code",
      "metadata": {
        "colab": {
          "base_uri": "https://localhost:8080/"
        },
        "id": "9Btmxbh_Y52b",
        "outputId": "921124e6-dc7d-447a-8067-3fa6aa41af39"
      },
      "source": [
        "# Get the slope of the line\n",
        "# The slope of the line is related to the doubling rate of transistor count\n",
        "print(model.layers) # Note: there is only 1 layer, the \"Input\" layer doesn't count\n",
        "print(model.layers[0].get_weights())"
      ],
      "execution_count": null,
      "outputs": [
        {
          "output_type": "stream",
          "name": "stdout",
          "text": [
            "[<keras.layers.core.Dense object at 0x7fddfb991690>]\n",
            "[array([[4.7921333]], dtype=float32), array([-7.2959313], dtype=float32)]\n"
          ]
        }
      ]
    },
    {
      "cell_type": "code",
      "metadata": {
        "id": "Vu9hW2aMZ26F"
      },
      "source": [
        "# The slope of the line is:\n",
        "a = model.layers[0].get_weights()[0][0,0]"
      ],
      "execution_count": null,
      "outputs": []
    },
    {
      "cell_type": "markdown",
      "metadata": {
        "id": "3uzNlTZKnLbd"
      },
      "source": [
        "# Part 4: Evaluate the Model"
      ]
    },
    {
      "cell_type": "code",
      "metadata": {
        "colab": {
          "base_uri": "https://localhost:8080/"
        },
        "id": "P9reG2txZ28G",
        "outputId": "0293f95b-8f18-4aea-c10b-3e39e7d74e93"
      },
      "source": [
        "plt.figure(figsize=(10, 5))\n",
        "\n",
        "# Make sure the line fits our data\n",
        "Yhat = model.predict(X).flatten()\n",
        "plt.scatter(X, Y)\n",
        "plt.plot(X, Yhat)"
      ],
      "execution_count": null,
      "outputs": [
        {
          "output_type": "execute_result",
          "data": {
            "text/plain": [
              "[<matplotlib.lines.Line2D at 0x7fddfbaa1310>]"
            ]
          },
          "metadata": {},
          "execution_count": 210
        },
        {
          "output_type": "display_data",
          "data": {
            "image/png": "[encoded data removed]",
            "text/plain": [
              "<Figure size 720x360 with 1 Axes>"
            ]
          },
          "metadata": {
            "needs_background": "light"
          }
        }
      ]
    },
    {
      "cell_type": "markdown",
      "metadata": {
        "id": "GHzvPc3PnWQx"
      },
      "source": [
        "# Part 5: Training, Fitting, and Evaluating the Model with all Features"
      ]
    },
    {
      "cell_type": "code",
      "metadata": {
        "id": "_yn3WPBRnqKN"
      },
      "source": [
        "# Getting our new Inputs and Target as numpy arrays\n",
        "Y = bd['PRICE']\n",
        "Y = Y.to_numpy()\n",
        "\n",
        "X = bd.drop('PRICE', axis = 1)\n",
        "X = X.to_numpy()"
      ],
      "execution_count": null,
      "outputs": []
    },
    {
      "cell_type": "code",
      "metadata": {
        "id": "X0dObiQ9Z2-k"
      },
      "source": [
        "# normally we would put all of our imports at the top\n",
        "# but this lets us tell a story\n",
        "from sklearn.model_selection import train_test_split\n",
        "\n",
        "\n",
        "# split the data into train and test sets\n",
        "# this lets us simulate how our model will perform in the future\n",
        "X_train, X_test, y_train, y_test = train_test_split(X, Y, test_size=0.33)\n",
        "N, D = X_train.shape"
      ],
      "execution_count": null,
      "outputs": []
    },
    {
      "cell_type": "code",
      "metadata": {
        "id": "Z619eFdPZ3AE"
      },
      "source": [
        "# Scale the data\n",
        "from sklearn.preprocessing import StandardScaler\n",
        "\n",
        "scaler = StandardScaler()\n",
        "X_train = scaler.fit_transform(X_train)\n",
        "X_test = scaler.transform(X_test)"
      ],
      "execution_count": null,
      "outputs": []
    },
    {
      "cell_type": "code",
      "metadata": {
        "colab": {
          "base_uri": "https://localhost:8080/"
        },
        "id": "nsD2zR4eoYVI",
        "outputId": "8edca37b-4d9d-4646-d984-ad0fca155989"
      },
      "source": [
        "# instantiate a classifer and train it\n",
        "from sklearn.linear_model import LinearRegression\n",
        "model = LinearRegression()\n",
        "model.fit(X_train, y_train)"
      ],
      "execution_count": null,
      "outputs": [
        {
          "output_type": "execute_result",
          "data": {
            "text/plain": [
              "LinearRegression(copy_X=True, fit_intercept=True, n_jobs=None, normalize=False)"
            ]
          },
          "metadata": {},
          "execution_count": 214
        }
      ]
    },
    {
      "cell_type": "code",
      "metadata": {
        "colab": {
          "base_uri": "https://localhost:8080/"
        },
        "id": "ApXBzZ0Fspbp",
        "outputId": "be11c3f0-16cf-4f87-c912-854e9ad56a7b"
      },
      "source": [
        "# evaluate the model's performance\n",
        "print(model.score(X_train, y_train))\n",
        "print(model.score(X_test, y_test))\n"
      ],
      "execution_count": null,
      "outputs": [
        {
          "output_type": "stream",
          "name": "stdout",
          "text": [
            "0.7433139222123972\n",
            "0.7204589490150342\n"
          ]
        }
      ]
    },
    {
      "cell_type": "code",
      "metadata": {
        "colab": {
          "base_uri": "https://localhost:8080/"
        },
        "id": "BHrMxyM6tx0w",
        "outputId": "a688869d-716b-4ab9-b019-4fa76a5a1806"
      },
      "source": [
        "#how you can make predictions\n",
        "predictions = model.predict(X_test)\n",
        "predictions"
      ],
      "execution_count": null,
      "outputs": [
        {
          "output_type": "execute_result",
          "data": {
            "text/plain": [
              "array([25.32909944, 24.98599116, 22.81714469, 20.67716185, 18.54529548,\n",
              "       32.52882928, 26.53410617, 21.09830899, 15.61196146, 25.11121199,\n",
              "       36.98114928, 38.79388839, 15.59886226, 27.77816535, 16.3630538 ,\n",
              "        5.46361768, 12.15264651, 21.4009643 ,  0.64927614, 23.50267547,\n",
              "       23.06989407, 13.27084725, 25.78682758,  8.41033536, 28.66387713,\n",
              "       20.80654289, 19.37894931, 25.75409921, 18.05787118, 17.20778275,\n",
              "       32.93985558, 18.13997464, 29.71976661, 27.4482382 ,  9.3808673 ,\n",
              "       27.18723952, 17.20554838, 25.10283582, 30.3460225 , 28.30834481,\n",
              "       13.04700149, 25.17389651, 15.73460065, 31.50242767, 27.16519443,\n",
              "       22.10488467, 13.13238037, 28.3513295 , 20.35697354, 18.39894884,\n",
              "       17.69827764, 16.21313097, 24.24325262, 29.29008597, 16.29591897,\n",
              "       18.80609688, 35.3133207 ,  4.96210925,  4.71822313, 23.22685496,\n",
              "       30.65654477, 17.20152218, 33.13728281,  2.05085536, 20.89480167,\n",
              "       19.61961073, 14.19666353, 21.97688905, 17.45235249, 27.1944994 ,\n",
              "       23.02789159, 28.90056421, 21.31375267, 19.22523665, 27.99585195,\n",
              "       21.83574234, 22.58632559, 23.16414439, 17.49941693, 26.10326603,\n",
              "       19.98061462, 31.07094392, 36.16711209, 32.70465106, 32.33667535,\n",
              "       19.15124679, 16.07544288, 33.23760932, 25.33650901, 24.03702421,\n",
              "       19.68753434, 37.20428291, 18.1272815 , 12.14394239, 17.68223171,\n",
              "        7.34102436, 23.50688172, 29.50371851, 18.63961171, 30.20892359,\n",
              "       14.32537047, 39.35797313, 28.8685556 ,  6.21703339, 30.41972356,\n",
              "       13.21961687, 21.56611605, 31.62967101, 35.97241234, 20.87958658,\n",
              "       13.58998132, 30.98267155,  9.65617136, 40.89291524, 24.85312301,\n",
              "       37.6855395 , 18.0188378 , 33.30008348, 20.76620576, 34.36653524,\n",
              "       24.97279878, 23.09473763, 22.61977018, 20.91582235,  9.53363561,\n",
              "       22.22617359, 23.07426302, -0.58833938, 20.03536669, 15.0573433 ,\n",
              "       21.6982279 , 24.23702335, 33.94852991,  4.59073886, 29.53166272,\n",
              "       21.63975621, 23.95923546, 18.18249397, 25.36973817, 18.63375862,\n",
              "       24.5611253 , 24.05037515, 19.40521104, 18.16586396,  9.17895349,\n",
              "       16.78639592, 20.57392175, 20.29477007, 16.81461389, 28.93692789,\n",
              "       13.60258518, 27.30199865, 33.44521952, 27.57080633, 17.84801136,\n",
              "        5.30300696, 18.29140609, 11.9523125 , 28.79707732, 44.62714017,\n",
              "       29.64722628, 16.19524607,  8.7853029 , 24.45389907, 17.35752269,\n",
              "       15.38257043, 18.36636614])"
            ]
          },
          "metadata": {},
          "execution_count": 216
        }
      ]
    },
    {
      "cell_type": "code",
      "metadata": {
        "colab": {
          "base_uri": "https://localhost:8080/",
          "height": 367
        },
        "id": "Q7oo9qE8spds",
        "outputId": "c414abb6-cd9c-401a-ad3f-220f22053eb9"
      },
      "source": [
        "#Visualization\n",
        "\n",
        "plt.figure(figsize=(10, 5))\n",
        "\n",
        "plt.scatter(y_test, predictions)\n",
        "plt.xlabel(\"Actual House Prices ($1000)\")\n",
        "plt.ylabel(\"Predicted House Prices: ($1000)\")\n",
        "plt.xticks(range(0, int(max(y_test)),2))\n",
        "plt.yticks(range(0, int(max(y_test)),2))\n",
        "plt.title(\"Actual Prices vs Predicted prices\")"
      ],
      "execution_count": null,
      "outputs": [
        {
          "output_type": "execute_result",
          "data": {
            "text/plain": [
              "Text(0.5, 1.0, 'Actual Prices vs Predicted prices')"
            ]
          },
          "metadata": {},
          "execution_count": 217
        },
        {
          "output_type": "display_data",
          "data": {
            "image/png": "[encoded data removed]",
            "text/plain": [
              "<Figure size 720x360 with 1 Axes>"
            ]
          },
          "metadata": {
            "needs_background": "light"
          }
        }
      ]
    }
  ]
}